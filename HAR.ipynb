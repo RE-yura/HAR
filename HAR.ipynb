{
  "nbformat": 4,
  "nbformat_minor": 0,
  "metadata": {
    "colab": {
      "name": "HAR.ipynb",
      "provenance": [],
      "collapsed_sections": [],
      "toc_visible": true,
      "machine_shape": "hm",
      "include_colab_link": true
    },
    "kernelspec": {
      "name": "python3",
      "display_name": "Python 3"
    },
    "accelerator": "GPU"
  },
  "cells": [
    {
      "cell_type": "markdown",
      "metadata": {
        "id": "view-in-github",
        "colab_type": "text"
      },
      "source": [
        "<a href=\"https://colab.research.google.com/github/RE-yura/HAR/blob/main/HAR.ipynb\" target=\"_parent\"><img src=\"https://colab.research.google.com/assets/colab-badge.svg\" alt=\"Open In Colab\"/></a>"
      ]
    },
    {
      "cell_type": "markdown",
      "metadata": {
        "id": "9Q6G6UYKGaTs"
      },
      "source": [
        "# HAR ( Human Activity Recognition : 人間行動認識 )\n",
        "\n",
        "　人間行動認識とは，カメラやセンサなどの様々な機器から得られた情報をもとに，人間の行動を学習･推定する認識技術分野のことです．今回は，スマホのIMU情報(姿勢･重力･角速度･ユーザの加速度)をもとに，ユーザの行動を下記の行動1～6の中から予測します．\n",
        "\n",
        "1.\t階段を降りている\n",
        "1.\t階段を登っている\n",
        "1.\t歩いている\n",
        "1.\tジョギングしている\n",
        "1.\t座っている\n",
        "1.\t立っている  \n",
        "\n",
        "**【注意】** \n",
        "random seedの設定ミス等で実行結果とテキストで書き込んでいる値が異なる部分がありますが，ご了承下さい．(やる気と時間ができたら直します...)\n"
      ]
    },
    {
      "cell_type": "markdown",
      "metadata": {
        "id": "LuM6g-vqqG6L"
      },
      "source": [
        "## 1 | データセットの準備\n",
        "\n",
        "\n",
        "---\n",
        "\n",
        "今回はKaggle ( https://www.kaggle.com/malekzadeh/motionsense-dataset/ ) でダウンロード可能なスマホIMUのデータセットを使用します．\n",
        "時間に余裕のある方はIMU情報のログを吐く簡単なNativeアプリを作ってみると良いと思います．\n",
        "\n",
        "**【注意】**\n",
        "以下のコードは上記URLからダウンロードした**motionsense-dataset.zipをアップロードしてから実行する**必要があります．  \n",
        "\n",
        "\n"
      ]
    },
    {
      "cell_type": "code",
      "metadata": {
        "id": "g_Vn_LQouiCe",
        "colab": {
          "base_uri": "https://localhost:8080/"
        },
        "outputId": "a404d70f-5241-4f86-f0d9-0d9f59c72b23"
      },
      "source": [
        "# zipを解凍\n",
        "!unzip motionsense-dataset.zip"
      ],
      "execution_count": 1,
      "outputs": [
        {
          "output_type": "stream",
          "text": [
            "Archive:  motionsense-dataset.zip\n",
            "  inflating: A_DeviceMotion_data/A_DeviceMotion_data/dws_1/sub_1.csv  \n",
            "  inflating: A_DeviceMotion_data/A_DeviceMotion_data/dws_1/sub_10.csv  \n",
            "  inflating: A_DeviceMotion_data/A_DeviceMotion_data/dws_1/sub_11.csv  \n",
            "  inflating: A_DeviceMotion_data/A_DeviceMotion_data/dws_1/sub_12.csv  \n",
            "  inflating: A_DeviceMotion_data/A_DeviceMotion_data/dws_1/sub_13.csv  \n",
            "  inflating: A_DeviceMotion_data/A_DeviceMotion_data/dws_1/sub_14.csv  \n",
            "  inflating: A_DeviceMotion_data/A_DeviceMotion_data/dws_1/sub_15.csv  \n",
            "  inflating: A_DeviceMotion_data/A_DeviceMotion_data/dws_1/sub_16.csv  \n",
            "  inflating: A_DeviceMotion_data/A_DeviceMotion_data/dws_1/sub_17.csv  \n",
            "  inflating: A_DeviceMotion_data/A_DeviceMotion_data/dws_1/sub_18.csv  \n",
            "  inflating: A_DeviceMotion_data/A_DeviceMotion_data/dws_1/sub_19.csv  \n",
            "  inflating: A_DeviceMotion_data/A_DeviceMotion_data/dws_1/sub_2.csv  \n",
            "  inflating: A_DeviceMotion_data/A_DeviceMotion_data/dws_1/sub_20.csv  \n",
            "  inflating: A_DeviceMotion_data/A_DeviceMotion_data/dws_1/sub_21.csv  \n",
            "  inflating: A_DeviceMotion_data/A_DeviceMotion_data/dws_1/sub_22.csv  \n",
            "  inflating: A_DeviceMotion_data/A_DeviceMotion_data/dws_1/sub_23.csv  \n",
            "  inflating: A_DeviceMotion_data/A_DeviceMotion_data/dws_1/sub_24.csv  \n",
            "  inflating: A_DeviceMotion_data/A_DeviceMotion_data/dws_1/sub_3.csv  \n",
            "  inflating: A_DeviceMotion_data/A_DeviceMotion_data/dws_1/sub_4.csv  \n",
            "  inflating: A_DeviceMotion_data/A_DeviceMotion_data/dws_1/sub_5.csv  \n",
            "  inflating: A_DeviceMotion_data/A_DeviceMotion_data/dws_1/sub_6.csv  \n",
            "  inflating: A_DeviceMotion_data/A_DeviceMotion_data/dws_1/sub_7.csv  \n",
            "  inflating: A_DeviceMotion_data/A_DeviceMotion_data/dws_1/sub_8.csv  \n",
            "  inflating: A_DeviceMotion_data/A_DeviceMotion_data/dws_1/sub_9.csv  \n",
            "  inflating: A_DeviceMotion_data/A_DeviceMotion_data/dws_11/sub_1.csv  \n",
            "  inflating: A_DeviceMotion_data/A_DeviceMotion_data/dws_11/sub_10.csv  \n",
            "  inflating: A_DeviceMotion_data/A_DeviceMotion_data/dws_11/sub_11.csv  \n",
            "  inflating: A_DeviceMotion_data/A_DeviceMotion_data/dws_11/sub_12.csv  \n",
            "  inflating: A_DeviceMotion_data/A_DeviceMotion_data/dws_11/sub_13.csv  \n",
            "  inflating: A_DeviceMotion_data/A_DeviceMotion_data/dws_11/sub_14.csv  \n",
            "  inflating: A_DeviceMotion_data/A_DeviceMotion_data/dws_11/sub_15.csv  \n",
            "  inflating: A_DeviceMotion_data/A_DeviceMotion_data/dws_11/sub_16.csv  \n",
            "  inflating: A_DeviceMotion_data/A_DeviceMotion_data/dws_11/sub_17.csv  \n",
            "  inflating: A_DeviceMotion_data/A_DeviceMotion_data/dws_11/sub_18.csv  \n",
            "  inflating: A_DeviceMotion_data/A_DeviceMotion_data/dws_11/sub_19.csv  \n",
            "  inflating: A_DeviceMotion_data/A_DeviceMotion_data/dws_11/sub_2.csv  \n",
            "  inflating: A_DeviceMotion_data/A_DeviceMotion_data/dws_11/sub_20.csv  \n",
            "  inflating: A_DeviceMotion_data/A_DeviceMotion_data/dws_11/sub_21.csv  \n",
            "  inflating: A_DeviceMotion_data/A_DeviceMotion_data/dws_11/sub_22.csv  \n",
            "  inflating: A_DeviceMotion_data/A_DeviceMotion_data/dws_11/sub_23.csv  \n",
            "  inflating: A_DeviceMotion_data/A_DeviceMotion_data/dws_11/sub_24.csv  \n",
            "  inflating: A_DeviceMotion_data/A_DeviceMotion_data/dws_11/sub_3.csv  \n",
            "  inflating: A_DeviceMotion_data/A_DeviceMotion_data/dws_11/sub_4.csv  \n",
            "  inflating: A_DeviceMotion_data/A_DeviceMotion_data/dws_11/sub_5.csv  \n",
            "  inflating: A_DeviceMotion_data/A_DeviceMotion_data/dws_11/sub_6.csv  \n",
            "  inflating: A_DeviceMotion_data/A_DeviceMotion_data/dws_11/sub_7.csv  \n",
            "  inflating: A_DeviceMotion_data/A_DeviceMotion_data/dws_11/sub_8.csv  \n",
            "  inflating: A_DeviceMotion_data/A_DeviceMotion_data/dws_11/sub_9.csv  \n",
            "  inflating: A_DeviceMotion_data/A_DeviceMotion_data/dws_2/sub_1.csv  \n",
            "  inflating: A_DeviceMotion_data/A_DeviceMotion_data/dws_2/sub_10.csv  \n",
            "  inflating: A_DeviceMotion_data/A_DeviceMotion_data/dws_2/sub_11.csv  \n",
            "  inflating: A_DeviceMotion_data/A_DeviceMotion_data/dws_2/sub_12.csv  \n",
            "  inflating: A_DeviceMotion_data/A_DeviceMotion_data/dws_2/sub_13.csv  \n",
            "  inflating: A_DeviceMotion_data/A_DeviceMotion_data/dws_2/sub_14.csv  \n",
            "  inflating: A_DeviceMotion_data/A_DeviceMotion_data/dws_2/sub_15.csv  \n",
            "  inflating: A_DeviceMotion_data/A_DeviceMotion_data/dws_2/sub_16.csv  \n",
            "  inflating: A_DeviceMotion_data/A_DeviceMotion_data/dws_2/sub_17.csv  \n",
            "  inflating: A_DeviceMotion_data/A_DeviceMotion_data/dws_2/sub_18.csv  \n",
            "  inflating: A_DeviceMotion_data/A_DeviceMotion_data/dws_2/sub_19.csv  \n",
            "  inflating: A_DeviceMotion_data/A_DeviceMotion_data/dws_2/sub_2.csv  \n",
            "  inflating: A_DeviceMotion_data/A_DeviceMotion_data/dws_2/sub_20.csv  \n",
            "  inflating: A_DeviceMotion_data/A_DeviceMotion_data/dws_2/sub_21.csv  \n",
            "  inflating: A_DeviceMotion_data/A_DeviceMotion_data/dws_2/sub_22.csv  \n",
            "  inflating: A_DeviceMotion_data/A_DeviceMotion_data/dws_2/sub_23.csv  \n",
            "  inflating: A_DeviceMotion_data/A_DeviceMotion_data/dws_2/sub_24.csv  \n",
            "  inflating: A_DeviceMotion_data/A_DeviceMotion_data/dws_2/sub_3.csv  \n",
            "  inflating: A_DeviceMotion_data/A_DeviceMotion_data/dws_2/sub_4.csv  \n",
            "  inflating: A_DeviceMotion_data/A_DeviceMotion_data/dws_2/sub_5.csv  \n",
            "  inflating: A_DeviceMotion_data/A_DeviceMotion_data/dws_2/sub_6.csv  \n",
            "  inflating: A_DeviceMotion_data/A_DeviceMotion_data/dws_2/sub_7.csv  \n",
            "  inflating: A_DeviceMotion_data/A_DeviceMotion_data/dws_2/sub_8.csv  \n",
            "  inflating: A_DeviceMotion_data/A_DeviceMotion_data/dws_2/sub_9.csv  \n",
            "  inflating: A_DeviceMotion_data/A_DeviceMotion_data/jog_16/sub_1.csv  \n",
            "  inflating: A_DeviceMotion_data/A_DeviceMotion_data/jog_16/sub_10.csv  \n",
            "  inflating: A_DeviceMotion_data/A_DeviceMotion_data/jog_16/sub_11.csv  \n",
            "  inflating: A_DeviceMotion_data/A_DeviceMotion_data/jog_16/sub_12.csv  \n",
            "  inflating: A_DeviceMotion_data/A_DeviceMotion_data/jog_16/sub_13.csv  \n",
            "  inflating: A_DeviceMotion_data/A_DeviceMotion_data/jog_16/sub_14.csv  \n",
            "  inflating: A_DeviceMotion_data/A_DeviceMotion_data/jog_16/sub_15.csv  \n",
            "  inflating: A_DeviceMotion_data/A_DeviceMotion_data/jog_16/sub_16.csv  \n",
            "  inflating: A_DeviceMotion_data/A_DeviceMotion_data/jog_16/sub_17.csv  \n",
            "  inflating: A_DeviceMotion_data/A_DeviceMotion_data/jog_16/sub_18.csv  \n",
            "  inflating: A_DeviceMotion_data/A_DeviceMotion_data/jog_16/sub_19.csv  \n",
            "  inflating: A_DeviceMotion_data/A_DeviceMotion_data/jog_16/sub_2.csv  \n",
            "  inflating: A_DeviceMotion_data/A_DeviceMotion_data/jog_16/sub_20.csv  \n",
            "  inflating: A_DeviceMotion_data/A_DeviceMotion_data/jog_16/sub_21.csv  \n",
            "  inflating: A_DeviceMotion_data/A_DeviceMotion_data/jog_16/sub_22.csv  \n",
            "  inflating: A_DeviceMotion_data/A_DeviceMotion_data/jog_16/sub_23.csv  \n",
            "  inflating: A_DeviceMotion_data/A_DeviceMotion_data/jog_16/sub_24.csv  \n",
            "  inflating: A_DeviceMotion_data/A_DeviceMotion_data/jog_16/sub_3.csv  \n",
            "  inflating: A_DeviceMotion_data/A_DeviceMotion_data/jog_16/sub_4.csv  \n",
            "  inflating: A_DeviceMotion_data/A_DeviceMotion_data/jog_16/sub_5.csv  \n",
            "  inflating: A_DeviceMotion_data/A_DeviceMotion_data/jog_16/sub_6.csv  \n",
            "  inflating: A_DeviceMotion_data/A_DeviceMotion_data/jog_16/sub_7.csv  \n",
            "  inflating: A_DeviceMotion_data/A_DeviceMotion_data/jog_16/sub_8.csv  \n",
            "  inflating: A_DeviceMotion_data/A_DeviceMotion_data/jog_16/sub_9.csv  \n",
            "  inflating: A_DeviceMotion_data/A_DeviceMotion_data/jog_9/sub_1.csv  \n",
            "  inflating: A_DeviceMotion_data/A_DeviceMotion_data/jog_9/sub_10.csv  \n",
            "  inflating: A_DeviceMotion_data/A_DeviceMotion_data/jog_9/sub_11.csv  \n",
            "  inflating: A_DeviceMotion_data/A_DeviceMotion_data/jog_9/sub_12.csv  \n",
            "  inflating: A_DeviceMotion_data/A_DeviceMotion_data/jog_9/sub_13.csv  \n",
            "  inflating: A_DeviceMotion_data/A_DeviceMotion_data/jog_9/sub_14.csv  \n",
            "  inflating: A_DeviceMotion_data/A_DeviceMotion_data/jog_9/sub_15.csv  \n",
            "  inflating: A_DeviceMotion_data/A_DeviceMotion_data/jog_9/sub_16.csv  \n",
            "  inflating: A_DeviceMotion_data/A_DeviceMotion_data/jog_9/sub_17.csv  \n",
            "  inflating: A_DeviceMotion_data/A_DeviceMotion_data/jog_9/sub_18.csv  \n",
            "  inflating: A_DeviceMotion_data/A_DeviceMotion_data/jog_9/sub_19.csv  \n",
            "  inflating: A_DeviceMotion_data/A_DeviceMotion_data/jog_9/sub_2.csv  \n",
            "  inflating: A_DeviceMotion_data/A_DeviceMotion_data/jog_9/sub_20.csv  \n",
            "  inflating: A_DeviceMotion_data/A_DeviceMotion_data/jog_9/sub_21.csv  \n",
            "  inflating: A_DeviceMotion_data/A_DeviceMotion_data/jog_9/sub_22.csv  \n",
            "  inflating: A_DeviceMotion_data/A_DeviceMotion_data/jog_9/sub_23.csv  \n",
            "  inflating: A_DeviceMotion_data/A_DeviceMotion_data/jog_9/sub_24.csv  \n",
            "  inflating: A_DeviceMotion_data/A_DeviceMotion_data/jog_9/sub_3.csv  \n",
            "  inflating: A_DeviceMotion_data/A_DeviceMotion_data/jog_9/sub_4.csv  \n",
            "  inflating: A_DeviceMotion_data/A_DeviceMotion_data/jog_9/sub_5.csv  \n",
            "  inflating: A_DeviceMotion_data/A_DeviceMotion_data/jog_9/sub_6.csv  \n",
            "  inflating: A_DeviceMotion_data/A_DeviceMotion_data/jog_9/sub_7.csv  \n",
            "  inflating: A_DeviceMotion_data/A_DeviceMotion_data/jog_9/sub_8.csv  \n",
            "  inflating: A_DeviceMotion_data/A_DeviceMotion_data/jog_9/sub_9.csv  \n",
            "  inflating: A_DeviceMotion_data/A_DeviceMotion_data/sit_13/sub_1.csv  \n",
            "  inflating: A_DeviceMotion_data/A_DeviceMotion_data/sit_13/sub_10.csv  \n",
            "  inflating: A_DeviceMotion_data/A_DeviceMotion_data/sit_13/sub_11.csv  \n",
            "  inflating: A_DeviceMotion_data/A_DeviceMotion_data/sit_13/sub_12.csv  \n",
            "  inflating: A_DeviceMotion_data/A_DeviceMotion_data/sit_13/sub_13.csv  \n",
            "  inflating: A_DeviceMotion_data/A_DeviceMotion_data/sit_13/sub_14.csv  \n",
            "  inflating: A_DeviceMotion_data/A_DeviceMotion_data/sit_13/sub_15.csv  \n",
            "  inflating: A_DeviceMotion_data/A_DeviceMotion_data/sit_13/sub_16.csv  \n",
            "  inflating: A_DeviceMotion_data/A_DeviceMotion_data/sit_13/sub_17.csv  \n",
            "  inflating: A_DeviceMotion_data/A_DeviceMotion_data/sit_13/sub_18.csv  \n",
            "  inflating: A_DeviceMotion_data/A_DeviceMotion_data/sit_13/sub_19.csv  \n",
            "  inflating: A_DeviceMotion_data/A_DeviceMotion_data/sit_13/sub_2.csv  \n",
            "  inflating: A_DeviceMotion_data/A_DeviceMotion_data/sit_13/sub_20.csv  \n",
            "  inflating: A_DeviceMotion_data/A_DeviceMotion_data/sit_13/sub_21.csv  \n",
            "  inflating: A_DeviceMotion_data/A_DeviceMotion_data/sit_13/sub_22.csv  \n",
            "  inflating: A_DeviceMotion_data/A_DeviceMotion_data/sit_13/sub_23.csv  \n",
            "  inflating: A_DeviceMotion_data/A_DeviceMotion_data/sit_13/sub_24.csv  \n",
            "  inflating: A_DeviceMotion_data/A_DeviceMotion_data/sit_13/sub_3.csv  \n",
            "  inflating: A_DeviceMotion_data/A_DeviceMotion_data/sit_13/sub_4.csv  \n",
            "  inflating: A_DeviceMotion_data/A_DeviceMotion_data/sit_13/sub_5.csv  \n",
            "  inflating: A_DeviceMotion_data/A_DeviceMotion_data/sit_13/sub_6.csv  \n",
            "  inflating: A_DeviceMotion_data/A_DeviceMotion_data/sit_13/sub_7.csv  \n",
            "  inflating: A_DeviceMotion_data/A_DeviceMotion_data/sit_13/sub_8.csv  \n",
            "  inflating: A_DeviceMotion_data/A_DeviceMotion_data/sit_13/sub_9.csv  \n",
            "  inflating: A_DeviceMotion_data/A_DeviceMotion_data/sit_5/sub_1.csv  \n",
            "  inflating: A_DeviceMotion_data/A_DeviceMotion_data/sit_5/sub_10.csv  \n",
            "  inflating: A_DeviceMotion_data/A_DeviceMotion_data/sit_5/sub_11.csv  \n",
            "  inflating: A_DeviceMotion_data/A_DeviceMotion_data/sit_5/sub_12.csv  \n",
            "  inflating: A_DeviceMotion_data/A_DeviceMotion_data/sit_5/sub_13.csv  \n",
            "  inflating: A_DeviceMotion_data/A_DeviceMotion_data/sit_5/sub_14.csv  \n",
            "  inflating: A_DeviceMotion_data/A_DeviceMotion_data/sit_5/sub_15.csv  \n",
            "  inflating: A_DeviceMotion_data/A_DeviceMotion_data/sit_5/sub_16.csv  \n",
            "  inflating: A_DeviceMotion_data/A_DeviceMotion_data/sit_5/sub_17.csv  \n",
            "  inflating: A_DeviceMotion_data/A_DeviceMotion_data/sit_5/sub_18.csv  \n",
            "  inflating: A_DeviceMotion_data/A_DeviceMotion_data/sit_5/sub_19.csv  \n",
            "  inflating: A_DeviceMotion_data/A_DeviceMotion_data/sit_5/sub_2.csv  \n",
            "  inflating: A_DeviceMotion_data/A_DeviceMotion_data/sit_5/sub_20.csv  \n",
            "  inflating: A_DeviceMotion_data/A_DeviceMotion_data/sit_5/sub_21.csv  \n",
            "  inflating: A_DeviceMotion_data/A_DeviceMotion_data/sit_5/sub_22.csv  \n",
            "  inflating: A_DeviceMotion_data/A_DeviceMotion_data/sit_5/sub_23.csv  \n",
            "  inflating: A_DeviceMotion_data/A_DeviceMotion_data/sit_5/sub_24.csv  \n",
            "  inflating: A_DeviceMotion_data/A_DeviceMotion_data/sit_5/sub_3.csv  \n",
            "  inflating: A_DeviceMotion_data/A_DeviceMotion_data/sit_5/sub_4.csv  \n",
            "  inflating: A_DeviceMotion_data/A_DeviceMotion_data/sit_5/sub_5.csv  \n",
            "  inflating: A_DeviceMotion_data/A_DeviceMotion_data/sit_5/sub_6.csv  \n",
            "  inflating: A_DeviceMotion_data/A_DeviceMotion_data/sit_5/sub_7.csv  \n",
            "  inflating: A_DeviceMotion_data/A_DeviceMotion_data/sit_5/sub_8.csv  \n",
            "  inflating: A_DeviceMotion_data/A_DeviceMotion_data/sit_5/sub_9.csv  \n",
            "  inflating: A_DeviceMotion_data/A_DeviceMotion_data/std_14/sub_1.csv  \n",
            "  inflating: A_DeviceMotion_data/A_DeviceMotion_data/std_14/sub_10.csv  \n",
            "  inflating: A_DeviceMotion_data/A_DeviceMotion_data/std_14/sub_11.csv  \n",
            "  inflating: A_DeviceMotion_data/A_DeviceMotion_data/std_14/sub_12.csv  \n",
            "  inflating: A_DeviceMotion_data/A_DeviceMotion_data/std_14/sub_13.csv  \n",
            "  inflating: A_DeviceMotion_data/A_DeviceMotion_data/std_14/sub_14.csv  \n",
            "  inflating: A_DeviceMotion_data/A_DeviceMotion_data/std_14/sub_15.csv  \n",
            "  inflating: A_DeviceMotion_data/A_DeviceMotion_data/std_14/sub_16.csv  \n",
            "  inflating: A_DeviceMotion_data/A_DeviceMotion_data/std_14/sub_17.csv  \n",
            "  inflating: A_DeviceMotion_data/A_DeviceMotion_data/std_14/sub_18.csv  \n",
            "  inflating: A_DeviceMotion_data/A_DeviceMotion_data/std_14/sub_19.csv  \n",
            "  inflating: A_DeviceMotion_data/A_DeviceMotion_data/std_14/sub_2.csv  \n",
            "  inflating: A_DeviceMotion_data/A_DeviceMotion_data/std_14/sub_20.csv  \n",
            "  inflating: A_DeviceMotion_data/A_DeviceMotion_data/std_14/sub_21.csv  \n",
            "  inflating: A_DeviceMotion_data/A_DeviceMotion_data/std_14/sub_22.csv  \n",
            "  inflating: A_DeviceMotion_data/A_DeviceMotion_data/std_14/sub_23.csv  \n",
            "  inflating: A_DeviceMotion_data/A_DeviceMotion_data/std_14/sub_24.csv  \n",
            "  inflating: A_DeviceMotion_data/A_DeviceMotion_data/std_14/sub_3.csv  \n",
            "  inflating: A_DeviceMotion_data/A_DeviceMotion_data/std_14/sub_4.csv  \n",
            "  inflating: A_DeviceMotion_data/A_DeviceMotion_data/std_14/sub_5.csv  \n",
            "  inflating: A_DeviceMotion_data/A_DeviceMotion_data/std_14/sub_6.csv  \n",
            "  inflating: A_DeviceMotion_data/A_DeviceMotion_data/std_14/sub_7.csv  \n",
            "  inflating: A_DeviceMotion_data/A_DeviceMotion_data/std_14/sub_8.csv  \n",
            "  inflating: A_DeviceMotion_data/A_DeviceMotion_data/std_14/sub_9.csv  \n",
            "  inflating: A_DeviceMotion_data/A_DeviceMotion_data/std_6/sub_1.csv  \n",
            "  inflating: A_DeviceMotion_data/A_DeviceMotion_data/std_6/sub_10.csv  \n",
            "  inflating: A_DeviceMotion_data/A_DeviceMotion_data/std_6/sub_11.csv  \n",
            "  inflating: A_DeviceMotion_data/A_DeviceMotion_data/std_6/sub_12.csv  \n",
            "  inflating: A_DeviceMotion_data/A_DeviceMotion_data/std_6/sub_13.csv  \n",
            "  inflating: A_DeviceMotion_data/A_DeviceMotion_data/std_6/sub_14.csv  \n",
            "  inflating: A_DeviceMotion_data/A_DeviceMotion_data/std_6/sub_15.csv  \n",
            "  inflating: A_DeviceMotion_data/A_DeviceMotion_data/std_6/sub_16.csv  \n",
            "  inflating: A_DeviceMotion_data/A_DeviceMotion_data/std_6/sub_17.csv  \n",
            "  inflating: A_DeviceMotion_data/A_DeviceMotion_data/std_6/sub_18.csv  \n",
            "  inflating: A_DeviceMotion_data/A_DeviceMotion_data/std_6/sub_19.csv  \n",
            "  inflating: A_DeviceMotion_data/A_DeviceMotion_data/std_6/sub_2.csv  \n",
            "  inflating: A_DeviceMotion_data/A_DeviceMotion_data/std_6/sub_20.csv  \n",
            "  inflating: A_DeviceMotion_data/A_DeviceMotion_data/std_6/sub_21.csv  \n",
            "  inflating: A_DeviceMotion_data/A_DeviceMotion_data/std_6/sub_22.csv  \n",
            "  inflating: A_DeviceMotion_data/A_DeviceMotion_data/std_6/sub_23.csv  \n",
            "  inflating: A_DeviceMotion_data/A_DeviceMotion_data/std_6/sub_24.csv  \n",
            "  inflating: A_DeviceMotion_data/A_DeviceMotion_data/std_6/sub_3.csv  \n",
            "  inflating: A_DeviceMotion_data/A_DeviceMotion_data/std_6/sub_4.csv  \n",
            "  inflating: A_DeviceMotion_data/A_DeviceMotion_data/std_6/sub_5.csv  \n",
            "  inflating: A_DeviceMotion_data/A_DeviceMotion_data/std_6/sub_6.csv  \n",
            "  inflating: A_DeviceMotion_data/A_DeviceMotion_data/std_6/sub_7.csv  \n",
            "  inflating: A_DeviceMotion_data/A_DeviceMotion_data/std_6/sub_8.csv  \n",
            "  inflating: A_DeviceMotion_data/A_DeviceMotion_data/std_6/sub_9.csv  \n",
            "  inflating: A_DeviceMotion_data/A_DeviceMotion_data/ups_12/sub_1.csv  \n",
            "  inflating: A_DeviceMotion_data/A_DeviceMotion_data/ups_12/sub_10.csv  \n",
            "  inflating: A_DeviceMotion_data/A_DeviceMotion_data/ups_12/sub_11.csv  \n",
            "  inflating: A_DeviceMotion_data/A_DeviceMotion_data/ups_12/sub_12.csv  \n",
            "  inflating: A_DeviceMotion_data/A_DeviceMotion_data/ups_12/sub_13.csv  \n",
            "  inflating: A_DeviceMotion_data/A_DeviceMotion_data/ups_12/sub_14.csv  \n",
            "  inflating: A_DeviceMotion_data/A_DeviceMotion_data/ups_12/sub_15.csv  \n",
            "  inflating: A_DeviceMotion_data/A_DeviceMotion_data/ups_12/sub_16.csv  \n",
            "  inflating: A_DeviceMotion_data/A_DeviceMotion_data/ups_12/sub_17.csv  \n",
            "  inflating: A_DeviceMotion_data/A_DeviceMotion_data/ups_12/sub_18.csv  \n",
            "  inflating: A_DeviceMotion_data/A_DeviceMotion_data/ups_12/sub_19.csv  \n",
            "  inflating: A_DeviceMotion_data/A_DeviceMotion_data/ups_12/sub_2.csv  \n",
            "  inflating: A_DeviceMotion_data/A_DeviceMotion_data/ups_12/sub_20.csv  \n",
            "  inflating: A_DeviceMotion_data/A_DeviceMotion_data/ups_12/sub_21.csv  \n",
            "  inflating: A_DeviceMotion_data/A_DeviceMotion_data/ups_12/sub_22.csv  \n",
            "  inflating: A_DeviceMotion_data/A_DeviceMotion_data/ups_12/sub_23.csv  \n",
            "  inflating: A_DeviceMotion_data/A_DeviceMotion_data/ups_12/sub_24.csv  \n",
            "  inflating: A_DeviceMotion_data/A_DeviceMotion_data/ups_12/sub_3.csv  \n",
            "  inflating: A_DeviceMotion_data/A_DeviceMotion_data/ups_12/sub_4.csv  \n",
            "  inflating: A_DeviceMotion_data/A_DeviceMotion_data/ups_12/sub_5.csv  \n",
            "  inflating: A_DeviceMotion_data/A_DeviceMotion_data/ups_12/sub_6.csv  \n",
            "  inflating: A_DeviceMotion_data/A_DeviceMotion_data/ups_12/sub_7.csv  \n",
            "  inflating: A_DeviceMotion_data/A_DeviceMotion_data/ups_12/sub_8.csv  \n",
            "  inflating: A_DeviceMotion_data/A_DeviceMotion_data/ups_12/sub_9.csv  \n",
            "  inflating: A_DeviceMotion_data/A_DeviceMotion_data/ups_3/sub_1.csv  \n",
            "  inflating: A_DeviceMotion_data/A_DeviceMotion_data/ups_3/sub_10.csv  \n",
            "  inflating: A_DeviceMotion_data/A_DeviceMotion_data/ups_3/sub_11.csv  \n",
            "  inflating: A_DeviceMotion_data/A_DeviceMotion_data/ups_3/sub_12.csv  \n",
            "  inflating: A_DeviceMotion_data/A_DeviceMotion_data/ups_3/sub_13.csv  \n",
            "  inflating: A_DeviceMotion_data/A_DeviceMotion_data/ups_3/sub_14.csv  \n",
            "  inflating: A_DeviceMotion_data/A_DeviceMotion_data/ups_3/sub_15.csv  \n",
            "  inflating: A_DeviceMotion_data/A_DeviceMotion_data/ups_3/sub_16.csv  \n",
            "  inflating: A_DeviceMotion_data/A_DeviceMotion_data/ups_3/sub_17.csv  \n",
            "  inflating: A_DeviceMotion_data/A_DeviceMotion_data/ups_3/sub_18.csv  \n",
            "  inflating: A_DeviceMotion_data/A_DeviceMotion_data/ups_3/sub_19.csv  \n",
            "  inflating: A_DeviceMotion_data/A_DeviceMotion_data/ups_3/sub_2.csv  \n",
            "  inflating: A_DeviceMotion_data/A_DeviceMotion_data/ups_3/sub_20.csv  \n",
            "  inflating: A_DeviceMotion_data/A_DeviceMotion_data/ups_3/sub_21.csv  \n",
            "  inflating: A_DeviceMotion_data/A_DeviceMotion_data/ups_3/sub_22.csv  \n",
            "  inflating: A_DeviceMotion_data/A_DeviceMotion_data/ups_3/sub_23.csv  \n",
            "  inflating: A_DeviceMotion_data/A_DeviceMotion_data/ups_3/sub_24.csv  \n",
            "  inflating: A_DeviceMotion_data/A_DeviceMotion_data/ups_3/sub_3.csv  \n",
            "  inflating: A_DeviceMotion_data/A_DeviceMotion_data/ups_3/sub_4.csv  \n",
            "  inflating: A_DeviceMotion_data/A_DeviceMotion_data/ups_3/sub_5.csv  \n",
            "  inflating: A_DeviceMotion_data/A_DeviceMotion_data/ups_3/sub_6.csv  \n",
            "  inflating: A_DeviceMotion_data/A_DeviceMotion_data/ups_3/sub_7.csv  \n",
            "  inflating: A_DeviceMotion_data/A_DeviceMotion_data/ups_3/sub_8.csv  \n",
            "  inflating: A_DeviceMotion_data/A_DeviceMotion_data/ups_3/sub_9.csv  \n",
            "  inflating: A_DeviceMotion_data/A_DeviceMotion_data/ups_4/sub_1.csv  \n",
            "  inflating: A_DeviceMotion_data/A_DeviceMotion_data/ups_4/sub_10.csv  \n",
            "  inflating: A_DeviceMotion_data/A_DeviceMotion_data/ups_4/sub_11.csv  \n",
            "  inflating: A_DeviceMotion_data/A_DeviceMotion_data/ups_4/sub_12.csv  \n",
            "  inflating: A_DeviceMotion_data/A_DeviceMotion_data/ups_4/sub_13.csv  \n",
            "  inflating: A_DeviceMotion_data/A_DeviceMotion_data/ups_4/sub_14.csv  \n",
            "  inflating: A_DeviceMotion_data/A_DeviceMotion_data/ups_4/sub_15.csv  \n",
            "  inflating: A_DeviceMotion_data/A_DeviceMotion_data/ups_4/sub_16.csv  \n",
            "  inflating: A_DeviceMotion_data/A_DeviceMotion_data/ups_4/sub_17.csv  \n",
            "  inflating: A_DeviceMotion_data/A_DeviceMotion_data/ups_4/sub_18.csv  \n",
            "  inflating: A_DeviceMotion_data/A_DeviceMotion_data/ups_4/sub_19.csv  \n",
            "  inflating: A_DeviceMotion_data/A_DeviceMotion_data/ups_4/sub_2.csv  \n",
            "  inflating: A_DeviceMotion_data/A_DeviceMotion_data/ups_4/sub_20.csv  \n",
            "  inflating: A_DeviceMotion_data/A_DeviceMotion_data/ups_4/sub_21.csv  \n",
            "  inflating: A_DeviceMotion_data/A_DeviceMotion_data/ups_4/sub_22.csv  \n",
            "  inflating: A_DeviceMotion_data/A_DeviceMotion_data/ups_4/sub_23.csv  \n",
            "  inflating: A_DeviceMotion_data/A_DeviceMotion_data/ups_4/sub_24.csv  \n",
            "  inflating: A_DeviceMotion_data/A_DeviceMotion_data/ups_4/sub_3.csv  \n",
            "  inflating: A_DeviceMotion_data/A_DeviceMotion_data/ups_4/sub_4.csv  \n",
            "  inflating: A_DeviceMotion_data/A_DeviceMotion_data/ups_4/sub_5.csv  \n",
            "  inflating: A_DeviceMotion_data/A_DeviceMotion_data/ups_4/sub_6.csv  \n",
            "  inflating: A_DeviceMotion_data/A_DeviceMotion_data/ups_4/sub_7.csv  \n",
            "  inflating: A_DeviceMotion_data/A_DeviceMotion_data/ups_4/sub_8.csv  \n",
            "  inflating: A_DeviceMotion_data/A_DeviceMotion_data/ups_4/sub_9.csv  \n",
            "  inflating: A_DeviceMotion_data/A_DeviceMotion_data/wlk_15/sub_1.csv  \n",
            "  inflating: A_DeviceMotion_data/A_DeviceMotion_data/wlk_15/sub_10.csv  \n",
            "  inflating: A_DeviceMotion_data/A_DeviceMotion_data/wlk_15/sub_11.csv  \n",
            "  inflating: A_DeviceMotion_data/A_DeviceMotion_data/wlk_15/sub_12.csv  \n",
            "  inflating: A_DeviceMotion_data/A_DeviceMotion_data/wlk_15/sub_13.csv  \n",
            "  inflating: A_DeviceMotion_data/A_DeviceMotion_data/wlk_15/sub_14.csv  \n",
            "  inflating: A_DeviceMotion_data/A_DeviceMotion_data/wlk_15/sub_15.csv  \n",
            "  inflating: A_DeviceMotion_data/A_DeviceMotion_data/wlk_15/sub_16.csv  \n",
            "  inflating: A_DeviceMotion_data/A_DeviceMotion_data/wlk_15/sub_17.csv  \n",
            "  inflating: A_DeviceMotion_data/A_DeviceMotion_data/wlk_15/sub_18.csv  \n",
            "  inflating: A_DeviceMotion_data/A_DeviceMotion_data/wlk_15/sub_19.csv  \n",
            "  inflating: A_DeviceMotion_data/A_DeviceMotion_data/wlk_15/sub_2.csv  \n",
            "  inflating: A_DeviceMotion_data/A_DeviceMotion_data/wlk_15/sub_20.csv  \n",
            "  inflating: A_DeviceMotion_data/A_DeviceMotion_data/wlk_15/sub_21.csv  \n",
            "  inflating: A_DeviceMotion_data/A_DeviceMotion_data/wlk_15/sub_22.csv  \n",
            "  inflating: A_DeviceMotion_data/A_DeviceMotion_data/wlk_15/sub_23.csv  \n",
            "  inflating: A_DeviceMotion_data/A_DeviceMotion_data/wlk_15/sub_24.csv  \n",
            "  inflating: A_DeviceMotion_data/A_DeviceMotion_data/wlk_15/sub_3.csv  \n",
            "  inflating: A_DeviceMotion_data/A_DeviceMotion_data/wlk_15/sub_4.csv  \n",
            "  inflating: A_DeviceMotion_data/A_DeviceMotion_data/wlk_15/sub_5.csv  \n",
            "  inflating: A_DeviceMotion_data/A_DeviceMotion_data/wlk_15/sub_6.csv  \n",
            "  inflating: A_DeviceMotion_data/A_DeviceMotion_data/wlk_15/sub_7.csv  \n",
            "  inflating: A_DeviceMotion_data/A_DeviceMotion_data/wlk_15/sub_8.csv  \n",
            "  inflating: A_DeviceMotion_data/A_DeviceMotion_data/wlk_15/sub_9.csv  \n",
            "  inflating: A_DeviceMotion_data/A_DeviceMotion_data/wlk_7/sub_1.csv  \n",
            "  inflating: A_DeviceMotion_data/A_DeviceMotion_data/wlk_7/sub_10.csv  \n",
            "  inflating: A_DeviceMotion_data/A_DeviceMotion_data/wlk_7/sub_11.csv  \n",
            "  inflating: A_DeviceMotion_data/A_DeviceMotion_data/wlk_7/sub_12.csv  \n",
            "  inflating: A_DeviceMotion_data/A_DeviceMotion_data/wlk_7/sub_13.csv  \n",
            "  inflating: A_DeviceMotion_data/A_DeviceMotion_data/wlk_7/sub_14.csv  \n",
            "  inflating: A_DeviceMotion_data/A_DeviceMotion_data/wlk_7/sub_15.csv  \n",
            "  inflating: A_DeviceMotion_data/A_DeviceMotion_data/wlk_7/sub_16.csv  \n",
            "  inflating: A_DeviceMotion_data/A_DeviceMotion_data/wlk_7/sub_17.csv  \n",
            "  inflating: A_DeviceMotion_data/A_DeviceMotion_data/wlk_7/sub_18.csv  \n",
            "  inflating: A_DeviceMotion_data/A_DeviceMotion_data/wlk_7/sub_19.csv  \n",
            "  inflating: A_DeviceMotion_data/A_DeviceMotion_data/wlk_7/sub_2.csv  \n",
            "  inflating: A_DeviceMotion_data/A_DeviceMotion_data/wlk_7/sub_20.csv  \n",
            "  inflating: A_DeviceMotion_data/A_DeviceMotion_data/wlk_7/sub_21.csv  \n",
            "  inflating: A_DeviceMotion_data/A_DeviceMotion_data/wlk_7/sub_22.csv  \n",
            "  inflating: A_DeviceMotion_data/A_DeviceMotion_data/wlk_7/sub_23.csv  \n",
            "  inflating: A_DeviceMotion_data/A_DeviceMotion_data/wlk_7/sub_24.csv  \n",
            "  inflating: A_DeviceMotion_data/A_DeviceMotion_data/wlk_7/sub_3.csv  \n",
            "  inflating: A_DeviceMotion_data/A_DeviceMotion_data/wlk_7/sub_4.csv  \n",
            "  inflating: A_DeviceMotion_data/A_DeviceMotion_data/wlk_7/sub_5.csv  \n",
            "  inflating: A_DeviceMotion_data/A_DeviceMotion_data/wlk_7/sub_6.csv  \n",
            "  inflating: A_DeviceMotion_data/A_DeviceMotion_data/wlk_7/sub_7.csv  \n",
            "  inflating: A_DeviceMotion_data/A_DeviceMotion_data/wlk_7/sub_8.csv  \n",
            "  inflating: A_DeviceMotion_data/A_DeviceMotion_data/wlk_7/sub_9.csv  \n",
            "  inflating: A_DeviceMotion_data/A_DeviceMotion_data/wlk_8/sub_1.csv  \n",
            "  inflating: A_DeviceMotion_data/A_DeviceMotion_data/wlk_8/sub_10.csv  \n",
            "  inflating: A_DeviceMotion_data/A_DeviceMotion_data/wlk_8/sub_11.csv  \n",
            "  inflating: A_DeviceMotion_data/A_DeviceMotion_data/wlk_8/sub_12.csv  \n",
            "  inflating: A_DeviceMotion_data/A_DeviceMotion_data/wlk_8/sub_13.csv  \n",
            "  inflating: A_DeviceMotion_data/A_DeviceMotion_data/wlk_8/sub_14.csv  \n",
            "  inflating: A_DeviceMotion_data/A_DeviceMotion_data/wlk_8/sub_15.csv  \n",
            "  inflating: A_DeviceMotion_data/A_DeviceMotion_data/wlk_8/sub_16.csv  \n",
            "  inflating: A_DeviceMotion_data/A_DeviceMotion_data/wlk_8/sub_17.csv  \n",
            "  inflating: A_DeviceMotion_data/A_DeviceMotion_data/wlk_8/sub_18.csv  \n",
            "  inflating: A_DeviceMotion_data/A_DeviceMotion_data/wlk_8/sub_19.csv  \n",
            "  inflating: A_DeviceMotion_data/A_DeviceMotion_data/wlk_8/sub_2.csv  \n",
            "  inflating: A_DeviceMotion_data/A_DeviceMotion_data/wlk_8/sub_20.csv  \n",
            "  inflating: A_DeviceMotion_data/A_DeviceMotion_data/wlk_8/sub_21.csv  \n",
            "  inflating: A_DeviceMotion_data/A_DeviceMotion_data/wlk_8/sub_22.csv  \n",
            "  inflating: A_DeviceMotion_data/A_DeviceMotion_data/wlk_8/sub_23.csv  \n",
            "  inflating: A_DeviceMotion_data/A_DeviceMotion_data/wlk_8/sub_24.csv  \n",
            "  inflating: A_DeviceMotion_data/A_DeviceMotion_data/wlk_8/sub_3.csv  \n",
            "  inflating: A_DeviceMotion_data/A_DeviceMotion_data/wlk_8/sub_4.csv  \n",
            "  inflating: A_DeviceMotion_data/A_DeviceMotion_data/wlk_8/sub_5.csv  \n",
            "  inflating: A_DeviceMotion_data/A_DeviceMotion_data/wlk_8/sub_6.csv  \n",
            "  inflating: A_DeviceMotion_data/A_DeviceMotion_data/wlk_8/sub_7.csv  \n",
            "  inflating: A_DeviceMotion_data/A_DeviceMotion_data/wlk_8/sub_8.csv  \n",
            "  inflating: A_DeviceMotion_data/A_DeviceMotion_data/wlk_8/sub_9.csv  \n",
            "  inflating: A_DeviceMotion_data/__MACOSX/A_DeviceMotion_data/dws_1/._sub_1.csv  \n",
            "  inflating: A_DeviceMotion_data/__MACOSX/A_DeviceMotion_data/jog_9/._sub_4.csv  \n",
            "  inflating: A_DeviceMotion_data/__MACOSX/A_DeviceMotion_data/jog_9/._sub_5.csv  \n",
            "  inflating: A_DeviceMotion_data/__MACOSX/A_DeviceMotion_data/wlk_7/._sub_13.csv  \n",
            "  inflating: data_subjects_info.csv  \n"
          ],
          "name": "stdout"
        }
      ]
    },
    {
      "cell_type": "markdown",
      "metadata": {
        "id": "9YGfe9cYAfHE"
      },
      "source": [
        "　解凍したデータセットには，24人の被験者の情報および，被験者が上記の6つの行動をとっている時のIMU情報(姿勢･重力･角速度･ユーザの加速度)が含まれています．\n",
        "\n",
        "　ただし，各被験者が行動1～3は3回ずつ，行動4～6は2回ずつ測定を行っているため，合計24人×(3回×3 + 2回×3) = 360個のCSVファイルが含まれます．また，IMUのサンプリング周波数は50Hzです．  \n",
        "　360個のCSVファイルからトレーニングデータとテストデータを作成します．今回は，行動1～6それぞれ1回の試行をテストデータとし，残りをトレーニングデータとします．つまり，24人×6回 = 144個のCSVをテストデータに，24人×9回 = 216個のCSVをトレーニングデータとして扱います．"
      ]
    },
    {
      "cell_type": "code",
      "metadata": {
        "id": "UMbp43acdvE9",
        "colab": {
          "base_uri": "https://localhost:8080/"
        },
        "outputId": "4414d166-38c7-42f6-ec67-a95b7cac20ee"
      },
      "source": [
        "# 360個のCSVファイルからトレーニングデータとテストデータを作成\n",
        "import numpy as np\n",
        "import pandas as pd\n",
        "\n",
        "# ==== data_subjects_info.csvに記載されている24人の被験者の情報を取り出す ===========================\n",
        "def get_ds_infos():\n",
        "  dss = np.genfromtxt(\"data_subjects_info.csv\",delimiter=',')\n",
        "  dss = dss[1:]   # 1行目を除く\n",
        "  return dss      # 0:被験者ID, 1:体重, 2:身長, 3:年齢, 4:性別\n",
        "\n",
        "# ==== 各被験者ごとに分かれているcsvファイルを1つにまとめ，時系列データを作成 ========================\n",
        "def create_time_series_data(num_features, num_act_labels, num_gen_labels, act_labels, trial_id):\n",
        "  ds_list = get_ds_infos()                                              # 被験者情報を取得\n",
        "  dataset_columns = num_features + num_gen_labels + num_act_labels      # データセットの列数 = センサデータ数 + 性別ラベル数 + 行動ラベル数\n",
        "  \n",
        "  # 訓練データとテストデータを初期化(これを最後に返す)\n",
        "  train_data = np.zeros((0, dataset_columns))\n",
        "  test_data = np.zeros((0, dataset_columns))\n",
        "  \n",
        "  for i, sub_id in enumerate(ds_list[:, 0]):      # 被験者IDでループ\n",
        "    for j, act in enumerate(act_labels):          # 行動ラベルでループ\n",
        "      for trial in trial_id[act]:                 # 試行回数でループ\n",
        "        fname = 'A_DeviceMotion_data/'+'A_DeviceMotion_data/'+act+'_'+str(trial)+'/sub_'+str(int(sub_id))+'.csv'\n",
        "        raw_data = pd.read_csv(fname)                                     # csvから生データを取得\n",
        "        raw_data = raw_data.drop(['Unnamed: 0'], axis=1)                  # ゴミデータ(1列目)を除く\n",
        "        unlabel_data = raw_data.values  \n",
        "        label_data = np.zeros((len(unlabel_data), dataset_columns))\n",
        "        label_data[:,:-(num_act_labels + num_gen_labels)] = unlabel_data\n",
        "        label_data[:,-1] = act_labels[act]\n",
        "        label_data[:,-2] = int(ds_list[i,4])\n",
        "\n",
        "        if trial < 11:          # 10回目以下の試行はトレーニングデータ\n",
        "          train_data = np.append(train_data, label_data, axis = 0)\n",
        "        else:                   # 11回目以上の試行はテストデータ\n",
        "          test_data = np.append(test_data, label_data, axis = 0)\n",
        "\n",
        "  return train_data , test_data\n",
        "\n",
        "# ==== 訓練データとテストデータの作成 ===================================================================\n",
        "num_features = 12       #    IMU情報   : 姿勢(ロール, ピッチ, ヨー), 重力(x, y, z), 角速度(x, y, z), ユーザ加速度(x,y,z)\n",
        "num_act_labels = 1      # 行動ラベル数 : dws, ups, wlk, jog, sit, std\n",
        "num_gen_labels = 1      #     性別     : 0/1(female/male)\n",
        "\n",
        "act_labels = {\"dws\":1, \"ups\":2, \"wlk\":3, \"jog\":4, \"sit\":5, \"std\":6}\n",
        "trial_id = {\"dws\":[1,2,11], \"ups\":[3,4,12], \"wlk\":[7,8,15], \"jog\":[9,16], \"sit\":[5,13], \"std\":[6,14]}    \n",
        "\n",
        "# データ作成\n",
        "train_ts, test_ts = create_time_series_data(num_features, num_act_labels, num_gen_labels, act_labels, trial_id)\n",
        "\n",
        "print(\"トレーニングデータ形状:\", train_ts.shape)\n",
        "print(\"テストデータ形状:\", test_ts.shape)"
      ],
      "execution_count": 2,
      "outputs": [
        {
          "output_type": "stream",
          "text": [
            "トレーニングデータ形状: (1081446, 14)\n",
            "テストデータ形状: (331419, 14)\n"
          ],
          "name": "stdout"
        }
      ]
    },
    {
      "cell_type": "code",
      "metadata": {
        "id": "oVwfzcOq2bAT",
        "colab": {
          "base_uri": "https://localhost:8080/"
        },
        "outputId": "bc2aad2a-1f30-4f7c-81d9-4694a0bf9554"
      },
      "source": [
        "# CSVの保存\n",
        "header = \"attitude.roll,attitude.pitch,attitude.yaw,gravity.x,gravity.y,gravity.z,rotationRate.x,rotationRate.y,rotationRate.z,userAcceleration.x,userAcceleration.y,userAcceleration.z,Gender,CorrectAnserLabel\"\n",
        "fmt = \"%.6f, %.6f, %.6f, %.6f, %.6f, %.6f, %.6f, %.6f, %.6f, %.6f, %.6f, %.6f, %d, %d\"\n",
        "np.savetxt('train_raw.csv', train_ts, fmt=fmt, delimiter=',', header=header, comments=\"\")\n",
        "np.savetxt('test_raw.csv', test_ts, fmt=fmt, delimiter=',', header=header, comments=\"\")\n",
        "print(\"CSV saved successfully\")"
      ],
      "execution_count": 3,
      "outputs": [
        {
          "output_type": "stream",
          "text": [
            "CSV saved successfully\n"
          ],
          "name": "stdout"
        }
      ]
    },
    {
      "cell_type": "markdown",
      "metadata": {
        "id": "GRnbgCh4D-nN"
      },
      "source": [
        "　ひとまずCSVの保存まで完了しましたが，少しデータ量が多いので削減します．\n"
      ]
    },
    {
      "cell_type": "code",
      "metadata": {
        "id": "15Le2OgRtQ11",
        "colab": {
          "base_uri": "https://localhost:8080/"
        },
        "outputId": "2919447d-27b1-4610-93f1-0f8361aaca98"
      },
      "source": [
        "# データセットが150MB程度あるので，5行に1行だけ使うことでデータを削減\n",
        "import pandas as pd\n",
        "\n",
        "# CSVファイルの読み込み\n",
        "def load_data():\n",
        "  return pd.read_csv(\"train_raw.csv\"), pd.read_csv(\"test_raw.csv\")\n",
        "\n",
        "train_data_raw, test_data_raw = load_data()\n",
        "\n",
        "# 5行に1行取り出し\n",
        "train_data_reduction = train_data_raw.query('index % 5 == 0')\n",
        "test_data_reduction = test_data_raw.query('index % 5 == 0')\n",
        "\n",
        "# CSVの保存\n",
        "train_data_reduction.to_csv(\"train.csv\")\n",
        "test_data_reduction.to_csv(\"test.csv\")\n",
        "print(\"CSV saved successfully\")"
      ],
      "execution_count": 4,
      "outputs": [
        {
          "output_type": "stream",
          "text": [
            "CSV saved successfully\n"
          ],
          "name": "stdout"
        }
      ]
    },
    {
      "cell_type": "markdown",
      "metadata": {
        "id": "HwXbmk3EQJ9V"
      },
      "source": [
        "## 2 | データの読み込みと加工\n",
        "\n",
        "\n",
        "---\n",
        "\n"
      ]
    },
    {
      "cell_type": "code",
      "metadata": {
        "id": "awJArm9no2F3",
        "colab": {
          "base_uri": "https://localhost:8080/"
        },
        "outputId": "dcb69dcf-9281-46fa-81b1-c5473f271d44"
      },
      "source": [
        "# まずは，CSVを読み込んで中身を確認\n",
        "import numpy as np\n",
        "import pandas as pd\n",
        "\n",
        "# CSVファイルの読み込み\n",
        "def load_data():\n",
        "  return pd.read_csv(\"train.csv\"), pd.read_csv(\"test.csv\")\n",
        "\n",
        "train_data, test_data = load_data()\n",
        "\n",
        "# ゴミデータ(1列目)を削除\n",
        "train_data = train_data.drop(['Unnamed: 0'], axis=1)\n",
        "test_data = test_data.drop(['Unnamed: 0'], axis=1)\n",
        "\n",
        "print(\"========= トレーニングデータ =============================================\")\n",
        "print(train_data,\"\\n\")\n",
        "print(\"============= テストデータ ===============================================\")\n",
        "print(test_data)"
      ],
      "execution_count": 5,
      "outputs": [
        {
          "output_type": "stream",
          "text": [
            "========= トレーニングデータ =============================================\n",
            "        attitude.roll  attitude.pitch  ...  Gender  CorrectAnserLabel\n",
            "0            1.528132       -0.733896  ...       1                  1\n",
            "1            1.476302       -0.700807  ...       1                  1\n",
            "2            1.434186       -0.693527  ...       1                  1\n",
            "3            1.137867       -0.639672  ...       1                  1\n",
            "4            0.916433       -0.655642  ...       1                  1\n",
            "...               ...             ...  ...     ...                ...\n",
            "216285      -0.245861       -1.449192  ...       0                  6\n",
            "216286      -0.144484       -1.447449  ...       0                  6\n",
            "216287      -0.054519       -1.450084  ...       0                  6\n",
            "216288       0.014894       -1.445758  ...       0                  6\n",
            "216289       0.068046       -1.445550  ...       0                  6\n",
            "\n",
            "[216290 rows x 14 columns] \n",
            "\n",
            "============= テストデータ ===============================================\n",
            "       attitude.roll  attitude.pitch  ...  Gender  CorrectAnserLabel\n",
            "0           0.086504       -1.172129  ...       1                  1\n",
            "1          -0.076909       -1.124464  ...       1                  1\n",
            "2          -0.288029       -1.256848  ...       1                  1\n",
            "3          -0.170030       -1.238264  ...       1                  1\n",
            "4          -0.325727       -1.215860  ...       1                  1\n",
            "...              ...             ...  ...     ...                ...\n",
            "66279      -2.228347       -1.490832  ...       0                  6\n",
            "66280      -2.353866       -1.480216  ...       0                  6\n",
            "66281      -2.426975       -1.476196  ...       0                  6\n",
            "66282      -2.476378       -1.477116  ...       0                  6\n",
            "66283      -2.514569       -1.474699  ...       0                  6\n",
            "\n",
            "[66284 rows x 14 columns]\n"
          ],
          "name": "stdout"
        }
      ]
    },
    {
      "cell_type": "code",
      "metadata": {
        "id": "tHFo5qq5FKNb",
        "colab": {
          "base_uri": "https://localhost:8080/"
        },
        "outputId": "d444cc53-39b3-40e7-f524-9dcb7d2a6e82"
      },
      "source": [
        "# データの欠損がないか確認\n",
        "pd.set_option('display.max_columns', 14)\n",
        "print(train_data.describe())\n",
        "pd.reset_option('display.max_columns')"
      ],
      "execution_count": 6,
      "outputs": [
        {
          "output_type": "stream",
          "text": [
            "       attitude.roll  attitude.pitch   attitude.yaw      gravity.x  \\\n",
            "count  216290.000000   216290.000000  216290.000000  216290.000000   \n",
            "mean       -0.180388       -1.027508      -0.126891       0.037576   \n",
            "std         1.588032        0.450585       1.541152       0.332303   \n",
            "min        -3.141551       -1.567685      -3.141588      -0.999612   \n",
            "25%        -1.537733       -1.364888      -1.242785      -0.169055   \n",
            "50%         0.101366       -1.193118      -0.138958       0.018564   \n",
            "75%         0.901633       -0.781504       0.847209       0.250680   \n",
            "max         3.141565        1.567175       3.141574       0.999901   \n",
            "\n",
            "           gravity.y      gravity.z  rotationRate.x  rotationRate.y  \\\n",
            "count  216290.000000  216290.000000   216290.000000   216290.000000   \n",
            "mean        0.784542      -0.124646        0.004909        0.014150   \n",
            "std         0.297075       0.410916        1.320371        1.245072   \n",
            "min        -0.999993      -0.999999      -16.020784      -17.232466   \n",
            "25%         0.704348      -0.370828       -0.370029       -0.213028   \n",
            "50%         0.929523      -0.093192       -0.000572        0.000320   \n",
            "75%         0.978876       0.091003        0.172148        0.277600   \n",
            "max         0.999995       0.977251        9.944287       13.542882   \n",
            "\n",
            "       rotationRate.z  userAcceleration.x  userAcceleration.y  \\\n",
            "count   216290.000000       216290.000000       216290.000000   \n",
            "mean         0.013293           -0.005624            0.047037   \n",
            "std          0.823923            0.329618            0.535456   \n",
            "min        -10.829004           -5.805335           -3.325982   \n",
            "25%         -0.130471           -0.059578           -0.079322   \n",
            "50%          0.000156            0.000958            0.004075   \n",
            "75%          0.147765            0.051084            0.076055   \n",
            "max          9.621073            5.287045            7.067639   \n",
            "\n",
            "       userAcceleration.z         Gender  CorrectAnserLabel  \n",
            "count       216290.000000  216290.000000      216290.000000  \n",
            "mean             0.038143       0.571298           3.832304  \n",
            "std              0.380139       0.494892           1.632987  \n",
            "min             -7.743481       0.000000           1.000000  \n",
            "25%             -0.030807       0.000000           3.000000  \n",
            "50%              0.004977       1.000000           4.000000  \n",
            "75%              0.115237       1.000000           5.000000  \n",
            "max              5.240689       1.000000           6.000000  \n"
          ],
          "name": "stdout"
        }
      ]
    },
    {
      "cell_type": "code",
      "metadata": {
        "id": "r46xXqVxXSlw"
      },
      "source": [
        "# 各種定数の定義\n",
        "num_features = 12       #    IMU情報   : 姿勢(ロール, ピッチ, ヨー), 重力(x, y, z), 角速度(x, y, z), ユーザ加速度(x,y,z)\n",
        "num_act_labels = 1      # 行動ラベル数 : dws, ups, wlk, jog, sit, std\n",
        "num_gen_labels = 1      #     性別     : 0/1(female/male)\n",
        "\n",
        "act_labels = {\"dws\":1, \"ups\":2, \"wlk\":3, \"jog\":4, \"sit\":5, \"std\":6}"
      ],
      "execution_count": 7,
      "outputs": []
    },
    {
      "cell_type": "code",
      "metadata": {
        "id": "fRDhjWzszBCe",
        "colab": {
          "base_uri": "https://localhost:8080/",
          "height": 499
        },
        "outputId": "3b6a86fe-9699-4de5-d25a-ef3286de4ae1"
      },
      "source": [
        "# データの中身を描画\n",
        "import matplotlib.pyplot as plt\n",
        "\n",
        "plt.rcParams['figure.figsize'] = (12.0, 8.0)\n",
        "\n",
        "def get_column(act, type):\n",
        "  data = train_data[train_data[\"CorrectAnserLabel\"]==act_labels[act]][type].values\n",
        "  length = len(train_data[train_data[\"CorrectAnserLabel\"]==act_labels[act]][type].values)\n",
        "  return length, data\n",
        "\n",
        "act = \"ups\"    # {\"dws\", \"ups\", \"wlk\", \"jog\", \"sit\", \"std\"} から選択\n",
        "num_rows = 3\n",
        "num_columns = 4\n",
        "types = [\"attitude.roll\",\"gravity.x\",\"rotationRate.x\",\"userAcceleration.x\",\"attitude.pitch\",\"gravity.y\",\"rotationRate.y\",\"userAcceleration.y\",\"attitude.yaw\",\"gravity.z\",\"rotationRate.z\",\"userAcceleration.z\"]\n",
        "\n",
        "for i, type in enumerate(types):\n",
        "  data = get_column(\"ups\", type)\n",
        "  plt.subplot(num_rows, num_columns, i+1)\n",
        "  plt.plot(range(data[0]), data[1])\n",
        "  \n",
        "  if i+1==1:\n",
        "    plt.title(\"Attitude\")\n",
        "    plt.ylabel(\"x\")\n",
        "  elif i+1==2:\n",
        "    plt.title(\"Gravity\")\n",
        "  elif i+1==3:\n",
        "    plt.title(\"Rotation Rate\")\n",
        "  elif i+1==4:\n",
        "    plt.title(\"User Acceleration\")\n",
        "  elif i+1==5:\n",
        "    plt.ylabel(\"y\")\n",
        "  elif i+1==9:\n",
        "    plt.ylabel(\"z\")\n"
      ],
      "execution_count": 8,
      "outputs": [
        {
          "output_type": "display_data",
          "data": {
            "image/png": "[encoded data removed]",
            "text/plain": [
              "<Figure size 864x576 with 12 Axes>"
            ]
          },
          "metadata": {
            "tags": [],
            "needs_background": "light"
          }
        }
      ]
    },
    {
      "cell_type": "markdown",
      "metadata": {
        "id": "caf5tHr_FRES"
      },
      "source": [
        "　上のコードセルで描画したグラフは，被験者が階段を登っている時のスマホIMU情報です．センサの生信号を目で見ても，ノイズが大きく，被験者がの行動を予測することは難しいことが分かります．\n",
        "このセンサの値から行動ラベルを予測します．"
      ]
    },
    {
      "cell_type": "code",
      "metadata": {
        "id": "od_aZ35By--_"
      },
      "source": [
        "# NumPy配列に変換\n",
        "train_data = train_data.values\n",
        "test_data = test_data.values"
      ],
      "execution_count": 9,
      "outputs": []
    },
    {
      "cell_type": "markdown",
      "metadata": {
        "id": "l1rWIOwYOShD"
      },
      "source": [
        "　最初に，CSVから取得したトレーニングデータとテストデータを，学習に用いる形状に加工します．IMU情報は時系列データであり，ある時刻でのデータとラベルだけでは意味を持ちません．そこで，一定時間分のデータを1つのセクションとして扱い，セクションの集合を学習に用いるトレーニングデータとします．  \n",
        "　セクションに分割する際に必要となるパラメータはセクションのサイズと，スライドサイズです．セクションサイズは1セクションに何サンプル含めるかを決めるパラメータで，サンプリング周波数が50Hzであることから，セクションサイズが50の場合は1セクションに1分間のデータが含まれることになります．(ただし，今回はデータを1/5に削減しているので，1セクション12秒間に相当) また，スライドサイズは1つ後のセクションをどれだけずらして開始するかを決めるパラメータで，小さすぎると計算コストが高くなります．今回はセクションサイズを50，スライドサイズを10として，以下のようにセクション分割しました．"
      ]
    },
    {
      "cell_type": "code",
      "metadata": {
        "id": "MLIhyMjR9Zgm"
      },
      "source": [
        "# 時系列データをセクションに分割する関数\n",
        "def time_series_to_section(dataset, num_act_labels, num_gen_labels, size_sections, size_slide, standardize = False, **options):\n",
        "  data = dataset[: , 0:-num_act_labels]           # IMUデータ+性別ラベルを取得\n",
        "  act_labels = dataset[: , -(num_act_labels)]     # 行動ラベルを取得\n",
        " \n",
        "  # === 標準化 =============================\n",
        "  if standardize:\n",
        "    if options:             # 引数で平均･分散を指定した場合\n",
        "      mean = options.get(\"mean\")\n",
        "      std = options.get(\"std\")\n",
        "      print(\"トレーニングデータの平均と分散を用いてテストデータを標準化しました．\")\n",
        "    else:                   # 指定のない場合は標準化\n",
        "      mean = data.mean(axis=0)\n",
        "      std = data.std(axis=0)\n",
        "      print(\"平均:\",str(mean.mean()),\", 分散:\",str(std.mean()), \"---> 標準化しました．\")           \n",
        "    data = (data - mean) / std\n",
        "  else:\n",
        "    print(\"標準化していません．\")\n",
        "\n",
        "  # あとで3次元配列に格納するために，一旦転置しておく\n",
        "  data = data.T\n",
        "          \n",
        "  size_features = data.shape[0]\n",
        "  size_data = data.shape[1]\n",
        "  num_sections = 1 + ( (size_data - size_sections) // size_slide ) \n",
        "          \n",
        "  # 1セクションのデータ形状を定義\n",
        "  data_sections = np.zeros((num_sections, size_features, size_sections))\n",
        "  act_secs_labels = np.zeros(num_sections)\n",
        "   \n",
        "  section_first_index = 0\n",
        "  for count_section in range(num_sections):   # 各セクションの第1要素のindex\n",
        "    section_first_index += size_slide     # セクションカウント\n",
        "    if(section_first_index+size_sections > size_data):    # セクション数を超えたら終了     \n",
        "      break\n",
        "    if act_labels[section_first_index] != act_labels[section_first_index+size_sections-1]:    # セクション内で行動ラベルが全て一緒でない時は無視\n",
        "      continue\n",
        "    # data_sections = np.append(data_sections, data[0:size_features, section_first_index:section_first_index+size_sections].reshape(1,size_features,size_sections), axis=0)   # セクションデータのcount_section要素目に代入\n",
        "    # act_secs_labels = np.append(act_secs_labels, act_labels[section_first_index].astype(int))\n",
        "    data_sections[count_section] = data[0:size_features, section_first_index:section_first_index+size_sections]   # セクションデータのcount_section要素目に代入\n",
        "    act_secs_labels[count_section] = act_labels[section_first_index].astype(int)\n",
        "  \n",
        "  return data_sections, act_secs_labels, mean, std"
      ],
      "execution_count": 10,
      "outputs": []
    },
    {
      "cell_type": "code",
      "metadata": {
        "id": "p6qwsWWc_vu0",
        "colab": {
          "base_uri": "https://localhost:8080/"
        },
        "outputId": "73d6ee0f-ebce-4662-d25a-4864abc922b1"
      },
      "source": [
        "size_sections = 50   # セクションサイズ\n",
        "size_slide = 10      # スライドサイズ\n",
        "\n",
        "# 時系列データをセクション分割\n",
        "print(\"分割後のセクション形状: (\",num_features+num_gen_labels,\"x\",size_sections,\")\")\n",
        "_X_train, _y_train, train_mean, train_std = time_series_to_section( train_data.copy(),\n",
        "                                                                  num_act_labels,\n",
        "                                                                  num_gen_labels,\n",
        "                                                                  size_sections,\n",
        "                                                                  size_slide,\n",
        "                                                                  standardize = True )\n",
        "\n",
        "_X_test, _y_test, test_mean, test_std = time_series_to_section( test_data.copy(),\n",
        "                                                              num_act_labels,\n",
        "                                                              num_gen_labels,\n",
        "                                                              size_sections,\n",
        "                                                              size_slide,\n",
        "                                                              standardize = True,\n",
        "                                                              mean = train_mean, \n",
        "                                                              std = train_std  )\n",
        "\n",
        "y_train = np.delete(_y_train, np.where(_y_train==0))\n",
        "X_train = np.delete(_X_train, np.where(_y_train==0), axis=0)\n",
        "y_test = np.delete(_y_test, np.where(_y_test==0))\n",
        "X_test = np.delete(_X_test, np.where(_y_test==0), axis=0)\n",
        "\n",
        "print(\"トレーニングデータ形状:\", X_train.shape)\n",
        "print(\"テストデータ形状:\", X_test.shape)"
      ],
      "execution_count": 11,
      "outputs": [
        {
          "output_type": "stream",
          "text": [
            "分割後のセクション形状: ( 13 x 50 )\n",
            "平均: 0.0035300797597241063 , 分散: 0.749962379300086 ---> 標準化しました．\n",
            "トレーニングデータの平均と分散を用いてテストデータを標準化しました．\n",
            "トレーニングデータ形状: (20918, 13, 50)\n",
            "テストデータ形状: (5922, 13, 50)\n"
          ],
          "name": "stdout"
        }
      ]
    },
    {
      "cell_type": "markdown",
      "metadata": {
        "id": "EqhrZ-5-ZdtS"
      },
      "source": [
        "　セクションに分割できたので，トレーニングデータの一部をバリデーションデータに分割し，DatasetとDataLoaderを準備します．"
      ]
    },
    {
      "cell_type": "code",
      "metadata": {
        "id": "CHxpu2stn6Od",
        "colab": {
          "base_uri": "https://localhost:8080/"
        },
        "outputId": "81077f69-f2ee-485c-c96d-eb96a1a102d2"
      },
      "source": [
        "# X_trainをトレーニングデータ･バリデーションデータに分割\n",
        "import torch\n",
        "from sklearn.model_selection import train_test_split\n",
        "\n",
        "# trainを17000件のtrainingデータと3918件のvalidationデータに分割する\n",
        "X_train, X_valid, y_train, y_valid = train_test_split(X_train, y_train, train_size=17000, random_state=0)\n",
        "\n",
        "print(X_train.shape)\n",
        "print(y_train.shape)\n",
        "print(X_valid.shape)\n",
        "print(y_valid.shape)"
      ],
      "execution_count": 12,
      "outputs": [
        {
          "output_type": "stream",
          "text": [
            "(17000, 13, 50)\n",
            "(17000,)\n",
            "(3918, 13, 50)\n",
            "(3918,)\n"
          ],
          "name": "stdout"
        }
      ]
    },
    {
      "cell_type": "code",
      "metadata": {
        "id": "O4xIrYGUHMC6"
      },
      "source": [
        "# 通常のNNは2次元形式で与えられても処理できないため，28x28の要素がある1次元配列に変換してからPyTorch形式に変換する\n",
        "X_train_flatten = X_train.reshape(X_train.shape[0], X_train.shape[1]*X_train.shape[2]) # 17000件の2次元データ（12×50）を17000件の1次元データ(600)に変換\n",
        "X_valid_flatten  = X_valid.reshape(X_valid.shape[0], X_valid.shape[1]*X_valid.shape[2]) \n",
        "X_test_flatten  = X_test.reshape(X_test.shape[0], X_test.shape[1]*X_test.shape[2]) \n",
        "\n",
        "X_train_torch = torch.tensor(X_train_flatten, dtype=torch.float) # dtype=torch.floatを忘れずに\n",
        "X_valid_torch = torch.tensor(X_valid_flatten, dtype=torch.float) \n",
        "X_test_torch  = torch.tensor(X_test_flatten,  dtype=torch.float) \n",
        "\n",
        "# yについてもPyTorch形式に変換する\n",
        "y_train_torch = torch.tensor(y_train, dtype=torch.long) # dtype=torch.longを忘れずに\n",
        "y_valid_torch = torch.tensor(y_valid, dtype=torch.long) \n",
        "y_test_torch  = torch.tensor(y_test,  dtype=torch.long)"
      ],
      "execution_count": 13,
      "outputs": []
    },
    {
      "cell_type": "code",
      "metadata": {
        "id": "6aI8FcD8o6rU",
        "colab": {
          "base_uri": "https://localhost:8080/"
        },
        "outputId": "27156d2c-5072-429a-d6dc-cfc5830243a3"
      },
      "source": [
        "# datasetとdataloaderを用意\n",
        "\n",
        "# XとYの組み合わせを保持してくれる便利なモノ\n",
        "train_dataset = torch.utils.data.TensorDataset(X_train_torch, y_train_torch)\n",
        "valid_dataset = torch.utils.data.TensorDataset(X_valid_torch, y_valid_torch)\n",
        "test_dataset  = torch.utils.data.TensorDataset(X_test_torch,  y_test_torch)\n",
        "\n",
        "batch_size = 256 # 今回は256件のデータごとに学習を行う\n",
        "\n",
        "# XとYの組み合わせを(batch_size)個ずつ出力する便利なモノ\n",
        "train_loader = torch.utils.data.DataLoader(train_dataset, batch_size=batch_size)\n",
        "valid_loader = torch.utils.data.DataLoader(valid_dataset, batch_size=batch_size)\n",
        "test_loader  = torch.utils.data.DataLoader(test_dataset,  batch_size=batch_size)\n",
        "\n",
        "for X, y in train_loader:\n",
        "  print(X)\n",
        "  print(y)\n",
        "  break"
      ],
      "execution_count": 14,
      "outputs": [
        {
          "output_type": "stream",
          "text": [
            "tensor([[-0.3279, -0.2462, -0.2577,  ...,  0.8663,  0.8663,  0.8663],\n",
            "        [ 1.1728,  1.2717,  1.3469,  ..., -1.1544, -1.1544, -1.1544],\n",
            "        [ 0.6108,  0.3398,  0.2401,  ...,  0.8663,  0.8663,  0.8663],\n",
            "        ...,\n",
            "        [ 0.0903,  0.2408,  0.0995,  ..., -1.1544, -1.1544, -1.1544],\n",
            "        [-1.1895, -1.1894, -1.1895,  ...,  0.8663,  0.8663,  0.8663],\n",
            "        [ 1.0007,  1.1063,  1.1099,  ..., -1.1544, -1.1544, -1.1544]])\n",
            "tensor([2, 4, 3, 6, 5, 6, 3, 5, 2, 3, 6, 5, 2, 5, 6, 5, 3, 5, 6, 1, 3, 4, 3, 3,\n",
            "        2, 3, 4, 3, 6, 5, 5, 2, 2, 4, 3, 6, 3, 4, 6, 5, 2, 2, 5, 5, 3, 3, 6, 3,\n",
            "        4, 2, 4, 6, 6, 3, 1, 3, 3, 4, 6, 5, 3, 3, 2, 3, 1, 5, 1, 5, 5, 6, 6, 5,\n",
            "        5, 6, 5, 1, 3, 6, 6, 4, 2, 3, 6, 3, 2, 5, 3, 2, 2, 2, 1, 4, 5, 5, 3, 4,\n",
            "        1, 5, 5, 3, 3, 3, 2, 2, 6, 6, 5, 5, 3, 3, 3, 1, 6, 2, 3, 1, 5, 3, 6, 2,\n",
            "        2, 5, 3, 3, 5, 4, 2, 3, 5, 1, 5, 2, 6, 2, 3, 5, 3, 2, 3, 6, 3, 5, 5, 3,\n",
            "        2, 2, 6, 4, 2, 3, 1, 5, 2, 6, 3, 2, 3, 2, 4, 6, 1, 5, 6, 3, 5, 1, 3, 4,\n",
            "        2, 5, 2, 3, 5, 2, 3, 5, 1, 1, 4, 4, 5, 4, 3, 5, 3, 2, 5, 6, 6, 3, 3, 2,\n",
            "        5, 5, 1, 6, 2, 6, 1, 6, 5, 6, 5, 1, 2, 3, 6, 5, 4, 6, 3, 3, 2, 6, 5, 1,\n",
            "        2, 2, 6, 2, 6, 3, 5, 2, 6, 3, 1, 6, 5, 4, 3, 6, 3, 6, 6, 3, 2, 3, 3, 6,\n",
            "        1, 5, 2, 1, 5, 5, 4, 5, 2, 5, 6, 6, 1, 4, 5, 3])\n"
          ],
          "name": "stdout"
        }
      ]
    },
    {
      "cell_type": "markdown",
      "metadata": {
        "id": "nZVGlgjtckZx"
      },
      "source": [
        "## 3 | AIエンジニア的?な予測\n",
        "\n",
        "---"
      ]
    },
    {
      "cell_type": "markdown",
      "metadata": {
        "id": "Ma367Txpp65J"
      },
      "source": [
        "### 3.1 | 多層NNによる予測\n",
        "\n",
        "\n",
        " まず，多層ニューラルネットワークを用いて，IMU情報と性別から行動ラベルを予測します．\n",
        "\n"
      ]
    },
    {
      "cell_type": "code",
      "metadata": {
        "id": "-B9SHNUSHaFI",
        "colab": {
          "base_uri": "https://localhost:8080/"
        },
        "outputId": "f6589bce-17ac-463e-aaca-ed8a58e2696f"
      },
      "source": [
        "# リアルタイムで学習の状況を見る1つの方法として，livelossplotを用いる\n",
        "!pip install livelossplot"
      ],
      "execution_count": 15,
      "outputs": [
        {
          "output_type": "stream",
          "text": [
            "Collecting livelossplot\n",
            "  Downloading https://files.pythonhosted.org/packages/0f/08/1884157a3de72d41fa97cacacafaa49abf00eba53cb7e08615b2b65b4a9d/livelossplot-0.5.3-py3-none-any.whl\n",
            "Requirement already satisfied: bokeh; python_version >= \"3.6\" in /usr/local/lib/python3.6/dist-packages (from livelossplot) (2.1.1)\n",
            "Requirement already satisfied: matplotlib; python_version >= \"3.6\" in /usr/local/lib/python3.6/dist-packages (from livelossplot) (3.2.2)\n",
            "Requirement already satisfied: ipython in /usr/local/lib/python3.6/dist-packages (from livelossplot) (5.5.0)\n",
            "Requirement already satisfied: pillow>=4.0 in /usr/local/lib/python3.6/dist-packages (from bokeh; python_version >= \"3.6\"->livelossplot) (7.0.0)\n",
            "Requirement already satisfied: PyYAML>=3.10 in /usr/local/lib/python3.6/dist-packages (from bokeh; python_version >= \"3.6\"->livelossplot) (3.13)\n",
            "Requirement already satisfied: packaging>=16.8 in /usr/local/lib/python3.6/dist-packages (from bokeh; python_version >= \"3.6\"->livelossplot) (20.4)\n",
            "Requirement already satisfied: tornado>=5.1 in /usr/local/lib/python3.6/dist-packages (from bokeh; python_version >= \"3.6\"->livelossplot) (5.1.1)\n",
            "Requirement already satisfied: python-dateutil>=2.1 in /usr/local/lib/python3.6/dist-packages (from bokeh; python_version >= \"3.6\"->livelossplot) (2.8.1)\n",
            "Requirement already satisfied: Jinja2>=2.7 in /usr/local/lib/python3.6/dist-packages (from bokeh; python_version >= \"3.6\"->livelossplot) (2.11.2)\n",
            "Requirement already satisfied: numpy>=1.11.3 in /usr/local/lib/python3.6/dist-packages (from bokeh; python_version >= \"3.6\"->livelossplot) (1.18.5)\n",
            "Requirement already satisfied: typing-extensions>=3.7.4 in /usr/local/lib/python3.6/dist-packages (from bokeh; python_version >= \"3.6\"->livelossplot) (3.7.4.3)\n",
            "Requirement already satisfied: pyparsing!=2.0.4,!=2.1.2,!=2.1.6,>=2.0.1 in /usr/local/lib/python3.6/dist-packages (from matplotlib; python_version >= \"3.6\"->livelossplot) (2.4.7)\n",
            "Requirement already satisfied: cycler>=0.10 in /usr/local/lib/python3.6/dist-packages (from matplotlib; python_version >= \"3.6\"->livelossplot) (0.10.0)\n",
            "Requirement already satisfied: kiwisolver>=1.0.1 in /usr/local/lib/python3.6/dist-packages (from matplotlib; python_version >= \"3.6\"->livelossplot) (1.3.1)\n",
            "Requirement already satisfied: prompt-toolkit<2.0.0,>=1.0.4 in /usr/local/lib/python3.6/dist-packages (from ipython->livelossplot) (1.0.18)\n",
            "Requirement already satisfied: traitlets>=4.2 in /usr/local/lib/python3.6/dist-packages (from ipython->livelossplot) (4.3.3)\n",
            "Requirement already satisfied: pexpect; sys_platform != \"win32\" in /usr/local/lib/python3.6/dist-packages (from ipython->livelossplot) (4.8.0)\n",
            "Requirement already satisfied: setuptools>=18.5 in /usr/local/lib/python3.6/dist-packages (from ipython->livelossplot) (50.3.2)\n",
            "Requirement already satisfied: pickleshare in /usr/local/lib/python3.6/dist-packages (from ipython->livelossplot) (0.7.5)\n",
            "Requirement already satisfied: simplegeneric>0.8 in /usr/local/lib/python3.6/dist-packages (from ipython->livelossplot) (0.8.1)\n",
            "Requirement already satisfied: pygments in /usr/local/lib/python3.6/dist-packages (from ipython->livelossplot) (2.6.1)\n",
            "Requirement already satisfied: decorator in /usr/local/lib/python3.6/dist-packages (from ipython->livelossplot) (4.4.2)\n",
            "Requirement already satisfied: six in /usr/local/lib/python3.6/dist-packages (from packaging>=16.8->bokeh; python_version >= \"3.6\"->livelossplot) (1.15.0)\n",
            "Requirement already satisfied: MarkupSafe>=0.23 in /usr/local/lib/python3.6/dist-packages (from Jinja2>=2.7->bokeh; python_version >= \"3.6\"->livelossplot) (1.1.1)\n",
            "Requirement already satisfied: wcwidth in /usr/local/lib/python3.6/dist-packages (from prompt-toolkit<2.0.0,>=1.0.4->ipython->livelossplot) (0.2.5)\n",
            "Requirement already satisfied: ipython-genutils in /usr/local/lib/python3.6/dist-packages (from traitlets>=4.2->ipython->livelossplot) (0.2.0)\n",
            "Requirement already satisfied: ptyprocess>=0.5 in /usr/local/lib/python3.6/dist-packages (from pexpect; sys_platform != \"win32\"->ipython->livelossplot) (0.6.0)\n",
            "Installing collected packages: livelossplot\n",
            "Successfully installed livelossplot-0.5.3\n"
          ],
          "name": "stdout"
        }
      ]
    },
    {
      "cell_type": "code",
      "metadata": {
        "id": "-4zKvKW9o6um"
      },
      "source": [
        "# モデル model 、誤差関数 loss_fn、および最適化手法 opt を引数とすることで、汎用的に学習や予測を行えるコードを作成\n",
        "import torch\n",
        "from livelossplot import PlotLosses\n",
        "\n",
        "device_GPU = torch.device(\"cuda:0\") \n",
        "\n",
        "def calculate_model(model, loss_fn, opt, dataloader, device, mode=\"evaluate\"):\n",
        "  if mode == 'evaluate':\n",
        "    model.eval() # 学習を行わない時は evaluate 状態にする\n",
        "\n",
        "  sum_loss = 0\n",
        "  correct = 0\n",
        "  count = len(dataloader.dataset)\n",
        "  \n",
        "  for X, y in dataloader:\n",
        "    y-=1\n",
        "    X = X.to(device) # GPUへデータを転送\n",
        "    y = y.to(device) # GPUへデータを転送\n",
        "    y_pred = model(X) # Xからyを予測（softmaxを行う前の値が出力される）\n",
        "    \n",
        "    _, predicted = torch.max(y_pred.data, 1) # 6クラスのうち、予測確率最大のクラス番号を取得\n",
        "    correct += (predicted == y).sum().item() # 予測に成功した件数をカウント（accuracy計算用）\n",
        "    \n",
        "    loss = loss_fn(y_pred, y)        # ミニバッチ内の訓練誤差の 平均 を計算\n",
        "    sum_loss += loss.item()*len(y) # エポック全体の訓練誤差の 合計 を計算しておく\n",
        "    \n",
        "    if mode == 'update':\n",
        "      # 重みの更新\n",
        "      opt.zero_grad()\n",
        "      loss.backward()\n",
        "      opt.step()\n",
        "    \n",
        "  # エポック内の訓練誤差の平均値と予測精度を計算\n",
        "  mean_train_loss = sum_loss / count\n",
        "  train_accuracy = correct / count\n",
        "  \n",
        "  if mode == 'evaluate':\n",
        "    model.train() # evaluate状態からtrain状態に戻しておく\n",
        "\n",
        "  return mean_train_loss, train_accuracy    \n",
        "\n",
        "def train(model, loss_fn, opt, train_loader, valid_loader, device, epoch=50):\n",
        "  liveloss = PlotLosses() # 描画の初期化\n",
        "  for i in range(epoch):\n",
        "    train_loss, train_accuracy = calculate_model(model, loss_fn, opt, train_loader, device, mode='update')\n",
        "    valid_loss, valid_accuracy = calculate_model(model, loss_fn,   _, valid_loader, device, mode='evaluate')\n",
        "  \n",
        "    # Visualize the loss and accuracy values.\n",
        "    liveloss.update({\n",
        "      'log loss': train_loss,\n",
        "      'val_log loss': valid_loss,\n",
        "      'accuracy': train_accuracy,\n",
        "      'val_accuracy': valid_accuracy,\n",
        "    })\n",
        "    liveloss.draw()  \n",
        "  print('Accuracy: {:.4f} (valid), {:.4f} (train)'.format(valid_accuracy, train_accuracy))\n",
        "  return model # 学習したモデルを返す"
      ],
      "execution_count": 16,
      "outputs": []
    },
    {
      "cell_type": "code",
      "metadata": {
        "id": "ipSTReCKpQT8",
        "colab": {
          "base_uri": "https://localhost:8080/",
          "height": 644
        },
        "outputId": "d3cecd88-a0f5-484f-f1c9-511172a3e2d8"
      },
      "source": [
        "# モデルの作成と学習の実行\n",
        "torch.manual_seed(0)\n",
        "\n",
        "model = torch.nn.Sequential(\n",
        "  torch.nn.Linear(13*50, 512), \n",
        "  torch.nn.ReLU(),\n",
        "  torch.nn.Dropout(p=0.5),\n",
        "  torch.nn.Linear(512, 256), \n",
        "  torch.nn.ReLU(),\n",
        "  torch.nn.Dropout(p=0.5),\n",
        "  torch.nn.Linear(256, 6),    # 行動ラベル数は6 : dws, ups, wlk, jog, sit, std \n",
        ")\n",
        "model.to(device_GPU) # deviceへモデルを転送\n",
        "\n",
        "# 誤差関数と最適化手法を準備\n",
        "loss_fn = torch.nn.CrossEntropyLoss()\n",
        "optimizer = torch.optim.SGD(model.parameters(), lr=0.2)\n",
        "\n",
        "# 学習の実行\n",
        "trained_model = train(model, loss_fn, optimizer, train_loader, valid_loader, device_GPU)"
      ],
      "execution_count": 17,
      "outputs": [
        {
          "output_type": "display_data",
          "data": {
            "image/png": "[encoded data removed]",
            "text/plain": [
              "<Figure size 864x576 with 2 Axes>"
            ]
          },
          "metadata": {
            "tags": [],
            "needs_background": "light"
          }
        },
        {
          "output_type": "stream",
          "text": [
            "accuracy\n",
            "\ttraining         \t (min:    0.665, max:    0.996, cur:    0.996)\n",
            "\tvalidation       \t (min:    0.879, max:    0.974, cur:    0.973)\n",
            "log loss\n",
            "\ttraining         \t (min:    0.011, max:    0.947, cur:    0.011)\n",
            "\tvalidation       \t (min:    0.111, max:    0.440, cur:    0.144)\n",
            "Accuracy: 0.9735 (valid), 0.9962 (train)\n"
          ],
          "name": "stdout"
        }
      ]
    },
    {
      "cell_type": "code",
      "metadata": {
        "id": "g14l-ZTKuS5L",
        "colab": {
          "base_uri": "https://localhost:8080/"
        },
        "outputId": "7854620b-5d8b-495e-eabb-2743a064b8e7"
      },
      "source": [
        "# 予測の実行\n",
        "test_loss, test_accuracy = calculate_model(model, loss_fn,   _, test_loader, device_GPU, mode='evaluate')\n",
        "# print(test_loss)\n",
        "print(\"テストデータの予測正解率 : \", test_accuracy)"
      ],
      "execution_count": 18,
      "outputs": [
        {
          "output_type": "stream",
          "text": [
            "テストデータの予測正解率 :  0.9638635596082404\n"
          ],
          "name": "stdout"
        }
      ]
    },
    {
      "cell_type": "markdown",
      "metadata": {
        "id": "LK8UIvQ17Upb"
      },
      "source": [
        "　以上より， 多層NNでは**96.39 %**で予測できることが分かりました．"
      ]
    },
    {
      "cell_type": "markdown",
      "metadata": {
        "id": "W8RBeq4rioPm"
      },
      "source": [
        "### 3.2 | CVによるハイパーパラメータ探索\n",
        "\n",
        "　3.1節の多層NNについてハイパーパラメータ探索を行います．今回はStochastic Gradient Decentの学習率`lr`の探索を行います．  \n",
        "【注意】ハイパーパラメータ探索には4分程度かかります．\n"
      ]
    },
    {
      "cell_type": "code",
      "metadata": {
        "id": "gcCC6PjgNgYM",
        "colab": {
          "base_uri": "https://localhost:8080/"
        },
        "outputId": "cc044301-fdca-4f1b-c155-8daa46d966b0"
      },
      "source": [
        "! [ ! -z \"$COLAB_GPU\" ] && pip install torch skorch"
      ],
      "execution_count": 19,
      "outputs": [
        {
          "output_type": "stream",
          "text": [
            "Requirement already satisfied: torch in /usr/local/lib/python3.6/dist-packages (1.7.0+cu101)\n",
            "Collecting skorch\n",
            "\u001b[?25l  Downloading https://files.pythonhosted.org/packages/18/c7/2f6434f9360c91a4bf14ae85f634758e5dacd3539cca4266a60be9f881ae/skorch-0.9.0-py3-none-any.whl (125kB)\n",
            "\u001b[K     |████████████████████████████████| 133kB 4.3MB/s \n",
            "\u001b[?25hRequirement already satisfied: numpy in /usr/local/lib/python3.6/dist-packages (from torch) (1.18.5)\n",
            "Requirement already satisfied: future in /usr/local/lib/python3.6/dist-packages (from torch) (0.16.0)\n",
            "Requirement already satisfied: dataclasses in /usr/local/lib/python3.6/dist-packages (from torch) (0.8)\n",
            "Requirement already satisfied: typing-extensions in /usr/local/lib/python3.6/dist-packages (from torch) (3.7.4.3)\n",
            "Requirement already satisfied: scikit-learn>=0.19.1 in /usr/local/lib/python3.6/dist-packages (from skorch) (0.22.2.post1)\n",
            "Requirement already satisfied: tqdm>=4.14.0 in /usr/local/lib/python3.6/dist-packages (from skorch) (4.41.1)\n",
            "Requirement already satisfied: scipy>=1.1.0 in /usr/local/lib/python3.6/dist-packages (from skorch) (1.4.1)\n",
            "Requirement already satisfied: tabulate>=0.7.7 in /usr/local/lib/python3.6/dist-packages (from skorch) (0.8.7)\n",
            "Requirement already satisfied: joblib>=0.11 in /usr/local/lib/python3.6/dist-packages (from scikit-learn>=0.19.1->skorch) (0.17.0)\n",
            "Installing collected packages: skorch\n",
            "Successfully installed skorch-0.9.0\n"
          ],
          "name": "stdout"
        }
      ]
    },
    {
      "cell_type": "code",
      "metadata": {
        "id": "gGu4Hj4D7mCB",
        "colab": {
          "base_uri": "https://localhost:8080/"
        },
        "outputId": "8f9cef49-8b7a-4c07-a70a-6e6504e3fb81"
      },
      "source": [
        "# クロスバリデーションからlrの最適な値を求める\n",
        "from sklearn.model_selection import GridSearchCV\n",
        "from skorch import NeuralNetClassifier\n",
        "import torch.nn.functional as F\n",
        "\n",
        "class Model(torch.nn.Module):\n",
        "  def __init__(self):\n",
        "    super(Model, self).__init__()\n",
        "    self.l1 = torch.nn.Linear(13*50, 512)\n",
        "    self.relu1 = torch.nn.ReLU()\n",
        "    self.drop1 = torch.nn.Dropout(0.5)\n",
        "    self.l2 = torch.nn.Linear(512, 256)\n",
        "    self.relu2 = torch.nn.ReLU()\n",
        "    self.drop2 = torch.nn.Dropout(0.5)\n",
        "    self.l3 = torch.nn.Linear(256, 6)\n",
        "\n",
        "  def forward(self, x):\n",
        "    y = self.l1(x)\n",
        "    y = self.relu1(y)\n",
        "    y = self.drop1(y)\n",
        "    y = self.l2(y)\n",
        "    y = self.relu2(y)\n",
        "    y = self.drop2(y)\n",
        "    y = self.l3(y)\n",
        "    return y\n",
        "    \n",
        "model2 = Model()\n",
        "\n",
        "net = NeuralNetClassifier(\n",
        "    module=model2,\n",
        "    max_epochs=20,\n",
        "    optimizer=torch.optim.SGD,\n",
        "    criterion= torch.nn.CrossEntropyLoss,\n",
        "    lr=0.1,\n",
        ")\n",
        "np.random.seed(0)\n",
        "\n",
        "# 辞書型が1つ入った配列\n",
        "param_grid = [  \n",
        "  { \n",
        "    \"lr\": [0.1, 0.15, 0.2, 0.25]\n",
        "  } \n",
        "] \n",
        "grid_search_dt = GridSearchCV(net, param_grid, cv=4, verbose=2)   # 4-fold CVをしながら最適なモデルを決定する\n",
        "grid_search_dt.fit(X_train_torch, y_train_torch-1)\n",
        "print(\"\\n\", \"最適ハイパーパラメータ : \", grid_search_dt.best_params_)\n",
        "# print(grid_search_dt.best_score_)\n"
      ],
      "execution_count": 20,
      "outputs": [
        {
          "output_type": "stream",
          "text": [
            "Fitting 4 folds for each of 4 candidates, totalling 16 fits\n",
            "[CV] lr=0.1 ..........................................................\n"
          ],
          "name": "stdout"
        },
        {
          "output_type": "stream",
          "text": [
            "[Parallel(n_jobs=1)]: Using backend SequentialBackend with 1 concurrent workers.\n"
          ],
          "name": "stderr"
        },
        {
          "output_type": "stream",
          "text": [
            "  epoch    train_loss    valid_acc    valid_loss     dur\n",
            "-------  ------------  -----------  ------------  ------\n",
            "      1        \u001b[36m1.1054\u001b[0m       \u001b[32m0.7686\u001b[0m        \u001b[35m0.6841\u001b[0m  0.6620\n",
            "      2        \u001b[36m0.5844\u001b[0m       \u001b[32m0.9055\u001b[0m        \u001b[35m0.3323\u001b[0m  0.5769\n",
            "      3        \u001b[36m0.3644\u001b[0m       \u001b[32m0.9325\u001b[0m        \u001b[35m0.2276\u001b[0m  0.5580\n",
            "      4        \u001b[36m0.2692\u001b[0m       \u001b[32m0.9447\u001b[0m        \u001b[35m0.1865\u001b[0m  0.5671\n",
            "      5        \u001b[36m0.2212\u001b[0m       \u001b[32m0.9510\u001b[0m        \u001b[35m0.1697\u001b[0m  0.5622\n",
            "      6        \u001b[36m0.1981\u001b[0m       \u001b[32m0.9553\u001b[0m        \u001b[35m0.1549\u001b[0m  0.5570\n",
            "      7        \u001b[36m0.1658\u001b[0m       0.9549        0.1557  0.5545\n",
            "      8        \u001b[36m0.1490\u001b[0m       \u001b[32m0.9561\u001b[0m        \u001b[35m0.1472\u001b[0m  0.5552\n",
            "      9        \u001b[36m0.1285\u001b[0m       \u001b[32m0.9565\u001b[0m        \u001b[35m0.1396\u001b[0m  0.5726\n",
            "     10        \u001b[36m0.1220\u001b[0m       \u001b[32m0.9576\u001b[0m        0.1405  0.5553\n",
            "     11        \u001b[36m0.1087\u001b[0m       \u001b[32m0.9600\u001b[0m        \u001b[35m0.1328\u001b[0m  0.5719\n",
            "     12        \u001b[36m0.0970\u001b[0m       0.9580        \u001b[35m0.1291\u001b[0m  0.5678\n",
            "     13        \u001b[36m0.0828\u001b[0m       \u001b[32m0.9608\u001b[0m        0.1340  0.5597\n",
            "     14        \u001b[36m0.0804\u001b[0m       \u001b[32m0.9635\u001b[0m        \u001b[35m0.1259\u001b[0m  0.5598\n",
            "     15        \u001b[36m0.0739\u001b[0m       \u001b[32m0.9643\u001b[0m        \u001b[35m0.1236\u001b[0m  0.5562\n",
            "     16        \u001b[36m0.0698\u001b[0m       0.9624        0.1240  0.5529\n",
            "     17        \u001b[36m0.0605\u001b[0m       0.9635        0.1296  0.5674\n",
            "     18        \u001b[36m0.0582\u001b[0m       \u001b[32m0.9647\u001b[0m        0.1311  0.5560\n",
            "     19        \u001b[36m0.0542\u001b[0m       0.9643        0.1306  0.5500\n",
            "     20        \u001b[36m0.0473\u001b[0m       0.9631        0.1353  0.5509\n",
            "[CV] ........................................... lr=0.1, total=  11.6s\n",
            "[CV] lr=0.1 ..........................................................\n"
          ],
          "name": "stdout"
        },
        {
          "output_type": "stream",
          "text": [
            "[Parallel(n_jobs=1)]: Done   1 out of   1 | elapsed:   11.6s remaining:    0.0s\n"
          ],
          "name": "stderr"
        },
        {
          "output_type": "stream",
          "text": [
            "  epoch    train_loss    valid_acc    valid_loss     dur\n",
            "-------  ------------  -----------  ------------  ------\n",
            "      1        \u001b[36m1.0999\u001b[0m       \u001b[32m0.7784\u001b[0m        \u001b[35m0.6867\u001b[0m  0.5562\n",
            "      2        \u001b[36m0.5778\u001b[0m       \u001b[32m0.9012\u001b[0m        \u001b[35m0.3463\u001b[0m  0.5623\n",
            "      3        \u001b[36m0.3716\u001b[0m       \u001b[32m0.9275\u001b[0m        \u001b[35m0.2326\u001b[0m  0.5459\n",
            "      4        \u001b[36m0.2728\u001b[0m       \u001b[32m0.9325\u001b[0m        \u001b[35m0.2032\u001b[0m  0.5551\n",
            "      5        \u001b[36m0.2264\u001b[0m       \u001b[32m0.9412\u001b[0m        \u001b[35m0.1753\u001b[0m  0.5628\n",
            "      6        \u001b[36m0.2074\u001b[0m       \u001b[32m0.9416\u001b[0m        \u001b[35m0.1639\u001b[0m  0.5558\n",
            "      7        \u001b[36m0.1676\u001b[0m       \u001b[32m0.9482\u001b[0m        \u001b[35m0.1511\u001b[0m  0.5497\n",
            "      8        \u001b[36m0.1448\u001b[0m       \u001b[32m0.9506\u001b[0m        \u001b[35m0.1481\u001b[0m  0.5530\n",
            "      9        \u001b[36m0.1384\u001b[0m       \u001b[32m0.9518\u001b[0m        \u001b[35m0.1418\u001b[0m  0.5861\n",
            "     10        \u001b[36m0.1245\u001b[0m       \u001b[32m0.9529\u001b[0m        \u001b[35m0.1418\u001b[0m  0.5514\n",
            "     11        \u001b[36m0.1067\u001b[0m       \u001b[32m0.9561\u001b[0m        \u001b[35m0.1336\u001b[0m  0.5599\n",
            "     12        0.1075       0.9557        0.1385  0.5628\n",
            "     13        \u001b[36m0.0924\u001b[0m       0.9557        0.1420  0.5574\n",
            "     14        \u001b[36m0.0845\u001b[0m       0.9561        0.1405  0.5592\n",
            "     15        \u001b[36m0.0719\u001b[0m       0.9553        0.1401  0.5560\n",
            "     16        \u001b[36m0.0717\u001b[0m       \u001b[32m0.9573\u001b[0m        0.1362  0.5501\n",
            "     17        \u001b[36m0.0589\u001b[0m       \u001b[32m0.9592\u001b[0m        \u001b[35m0.1331\u001b[0m  0.5532\n",
            "     18        \u001b[36m0.0578\u001b[0m       \u001b[32m0.9620\u001b[0m        \u001b[35m0.1326\u001b[0m  0.5706\n",
            "     19        \u001b[36m0.0550\u001b[0m       0.9612        \u001b[35m0.1299\u001b[0m  0.5726\n",
            "     20        \u001b[36m0.0541\u001b[0m       0.9592        0.1349  0.5739\n",
            "[CV] ........................................... lr=0.1, total=  11.5s\n",
            "[CV] lr=0.1 ..........................................................\n",
            "  epoch    train_loss    valid_acc    valid_loss     dur\n",
            "-------  ------------  -----------  ------------  ------\n",
            "      1        \u001b[36m1.1015\u001b[0m       \u001b[32m0.7569\u001b[0m        \u001b[35m0.6765\u001b[0m  0.5577\n",
            "      2        \u001b[36m0.5785\u001b[0m       \u001b[32m0.9024\u001b[0m        \u001b[35m0.3309\u001b[0m  0.5490\n",
            "      3        \u001b[36m0.3600\u001b[0m       \u001b[32m0.9278\u001b[0m        \u001b[35m0.2398\u001b[0m  0.5523\n",
            "      4        \u001b[36m0.2685\u001b[0m       \u001b[32m0.9345\u001b[0m        \u001b[35m0.1982\u001b[0m  0.5527\n",
            "      5        \u001b[36m0.2160\u001b[0m       \u001b[32m0.9400\u001b[0m        \u001b[35m0.1750\u001b[0m  0.5697\n",
            "      6        \u001b[36m0.1916\u001b[0m       \u001b[32m0.9467\u001b[0m        \u001b[35m0.1649\u001b[0m  0.5523\n",
            "      7        \u001b[36m0.1685\u001b[0m       \u001b[32m0.9471\u001b[0m        \u001b[35m0.1564\u001b[0m  0.5997\n",
            "      8        \u001b[36m0.1494\u001b[0m       \u001b[32m0.9486\u001b[0m        \u001b[35m0.1530\u001b[0m  0.5592\n",
            "      9        \u001b[36m0.1308\u001b[0m       \u001b[32m0.9549\u001b[0m        \u001b[35m0.1424\u001b[0m  0.5514\n",
            "     10        \u001b[36m0.1182\u001b[0m       \u001b[32m0.9569\u001b[0m        \u001b[35m0.1368\u001b[0m  0.5570\n",
            "     11        \u001b[36m0.1032\u001b[0m       0.9565        0.1401  0.5720\n",
            "     12        \u001b[36m0.0959\u001b[0m       \u001b[32m0.9588\u001b[0m        0.1372  0.5564\n",
            "     13        \u001b[36m0.0840\u001b[0m       \u001b[32m0.9604\u001b[0m        \u001b[35m0.1354\u001b[0m  0.5414\n",
            "     14        \u001b[36m0.0785\u001b[0m       \u001b[32m0.9620\u001b[0m        \u001b[35m0.1298\u001b[0m  0.5559\n",
            "     15        \u001b[36m0.0736\u001b[0m       \u001b[32m0.9639\u001b[0m        0.1352  0.5535\n",
            "     16        \u001b[36m0.0704\u001b[0m       0.9600        0.1416  0.5494\n",
            "     17        \u001b[36m0.0578\u001b[0m       0.9592        0.1420  0.5509\n",
            "     18        \u001b[36m0.0560\u001b[0m       0.9631        0.1349  0.5512\n",
            "     19        \u001b[36m0.0496\u001b[0m       0.9604        0.1409  0.5940\n",
            "     20        0.0522       \u001b[32m0.9655\u001b[0m        0.1345  0.5541\n",
            "[CV] ........................................... lr=0.1, total=  11.5s\n",
            "[CV] lr=0.1 ..........................................................\n",
            "  epoch    train_loss    valid_acc    valid_loss     dur\n",
            "-------  ------------  -----------  ------------  ------\n",
            "      1        \u001b[36m1.1069\u001b[0m       \u001b[32m0.6341\u001b[0m        \u001b[35m0.8919\u001b[0m  0.5598\n",
            "      2        \u001b[36m0.5837\u001b[0m       \u001b[32m0.7729\u001b[0m        \u001b[35m0.5067\u001b[0m  0.5727\n",
            "      3        \u001b[36m0.3703\u001b[0m       \u001b[32m0.8443\u001b[0m        \u001b[35m0.3647\u001b[0m  0.5434\n",
            "      4        \u001b[36m0.2815\u001b[0m       \u001b[32m0.9114\u001b[0m        \u001b[35m0.2460\u001b[0m  0.5617\n",
            "      5        \u001b[36m0.2240\u001b[0m       \u001b[32m0.9345\u001b[0m        \u001b[35m0.2041\u001b[0m  0.5787\n",
            "      6        \u001b[36m0.1976\u001b[0m       \u001b[32m0.9388\u001b[0m        \u001b[35m0.1894\u001b[0m  0.5679\n",
            "      7        \u001b[36m0.1598\u001b[0m       \u001b[32m0.9447\u001b[0m        \u001b[35m0.1705\u001b[0m  0.5588\n",
            "      8        \u001b[36m0.1500\u001b[0m       \u001b[32m0.9494\u001b[0m        \u001b[35m0.1571\u001b[0m  0.5662\n",
            "      9        \u001b[36m0.1280\u001b[0m       \u001b[32m0.9506\u001b[0m        \u001b[35m0.1481\u001b[0m  0.5718\n",
            "     10        \u001b[36m0.1180\u001b[0m       \u001b[32m0.9533\u001b[0m        \u001b[35m0.1439\u001b[0m  0.5734\n",
            "     11        \u001b[36m0.1066\u001b[0m       \u001b[32m0.9588\u001b[0m        \u001b[35m0.1276\u001b[0m  0.5707\n",
            "     12        \u001b[36m0.0966\u001b[0m       0.9549        0.1386  0.5699\n",
            "     13        \u001b[36m0.0900\u001b[0m       0.9588        \u001b[35m0.1257\u001b[0m  0.5701\n",
            "     14        \u001b[36m0.0827\u001b[0m       0.9573        0.1278  0.5700\n",
            "     15        \u001b[36m0.0668\u001b[0m       \u001b[32m0.9608\u001b[0m        0.1267  0.5602\n",
            "     16        \u001b[36m0.0635\u001b[0m       \u001b[32m0.9616\u001b[0m        \u001b[35m0.1238\u001b[0m  0.5593\n",
            "     17        0.0646       \u001b[32m0.9620\u001b[0m        0.1269  0.5530\n",
            "     18        \u001b[36m0.0542\u001b[0m       0.9588        0.1287  0.5678\n",
            "     19        \u001b[36m0.0522\u001b[0m       0.9612        0.1310  0.5487\n",
            "     20        \u001b[36m0.0468\u001b[0m       0.9612        0.1363  0.5557\n",
            "[CV] ........................................... lr=0.1, total=  11.6s\n",
            "[CV] lr=0.15 .........................................................\n",
            "  epoch    train_loss    valid_acc    valid_loss     dur\n",
            "-------  ------------  -----------  ------------  ------\n",
            "      1        \u001b[36m0.9930\u001b[0m       \u001b[32m0.8710\u001b[0m        \u001b[35m0.5032\u001b[0m  0.5633\n",
            "      2        \u001b[36m0.4355\u001b[0m       \u001b[32m0.9353\u001b[0m        \u001b[35m0.2305\u001b[0m  0.5519\n",
            "      3        \u001b[36m0.2871\u001b[0m       \u001b[32m0.9475\u001b[0m        \u001b[35m0.1856\u001b[0m  0.5738\n",
            "      4        \u001b[36m0.2205\u001b[0m       \u001b[32m0.9490\u001b[0m        \u001b[35m0.1652\u001b[0m  0.5466\n",
            "      5        \u001b[36m0.1751\u001b[0m       \u001b[32m0.9522\u001b[0m        \u001b[35m0.1520\u001b[0m  0.5499\n",
            "      6        \u001b[36m0.1497\u001b[0m       \u001b[32m0.9561\u001b[0m        \u001b[35m0.1488\u001b[0m  0.5680\n",
            "      7        \u001b[36m0.1273\u001b[0m       0.9541        \u001b[35m0.1423\u001b[0m  0.5655\n",
            "      8        \u001b[36m0.1153\u001b[0m       \u001b[32m0.9596\u001b[0m        \u001b[35m0.1385\u001b[0m  0.5601\n",
            "      9        \u001b[36m0.1104\u001b[0m       \u001b[32m0.9604\u001b[0m        \u001b[35m0.1287\u001b[0m  0.5561\n",
            "     10        \u001b[36m0.0960\u001b[0m       \u001b[32m0.9612\u001b[0m        \u001b[35m0.1239\u001b[0m  0.5550\n",
            "     11        \u001b[36m0.0817\u001b[0m       0.9596        0.1300  0.5518\n",
            "     12        \u001b[36m0.0712\u001b[0m       \u001b[32m0.9624\u001b[0m        0.1305  0.5730\n",
            "     13        0.0753       0.9608        0.1274  0.5475\n",
            "     14        \u001b[36m0.0663\u001b[0m       0.9620        0.1256  0.5610\n",
            "     15        \u001b[36m0.0542\u001b[0m       \u001b[32m0.9627\u001b[0m        0.1267  0.5736\n",
            "     16        \u001b[36m0.0501\u001b[0m       \u001b[32m0.9639\u001b[0m        0.1337  0.5567\n",
            "     17        \u001b[36m0.0442\u001b[0m       0.9639        0.1384  0.5547\n",
            "     18        0.0460       0.9584        0.1431  0.5513\n",
            "     19        0.0463       0.9624        0.1339  0.5506\n",
            "     20        \u001b[36m0.0376\u001b[0m       \u001b[32m0.9671\u001b[0m        0.1323  0.5577\n",
            "[CV] .......................................... lr=0.15, total=  11.5s\n",
            "[CV] lr=0.15 .........................................................\n",
            "  epoch    train_loss    valid_acc    valid_loss     dur\n",
            "-------  ------------  -----------  ------------  ------\n",
            "      1        \u001b[36m0.9752\u001b[0m       \u001b[32m0.8604\u001b[0m        \u001b[35m0.5069\u001b[0m  0.5767\n",
            "      2        \u001b[36m0.4308\u001b[0m       \u001b[32m0.9263\u001b[0m        \u001b[35m0.2433\u001b[0m  0.5652\n",
            "      3        \u001b[36m0.2894\u001b[0m       \u001b[32m0.9369\u001b[0m        \u001b[35m0.1913\u001b[0m  0.5510\n",
            "      4        \u001b[36m0.2226\u001b[0m       \u001b[32m0.9404\u001b[0m        \u001b[35m0.1744\u001b[0m  0.5623\n",
            "      5        \u001b[36m0.1864\u001b[0m       \u001b[32m0.9439\u001b[0m        \u001b[35m0.1657\u001b[0m  0.5535\n",
            "      6        \u001b[36m0.1586\u001b[0m       \u001b[32m0.9478\u001b[0m        \u001b[35m0.1442\u001b[0m  0.5575\n",
            "      7        \u001b[36m0.1353\u001b[0m       \u001b[32m0.9514\u001b[0m        0.1451  0.5502\n",
            "      8        \u001b[36m0.1274\u001b[0m       \u001b[32m0.9525\u001b[0m        0.1447  0.5640\n",
            "      9        \u001b[36m0.1092\u001b[0m       0.9498        0.1488  0.5606\n",
            "     10        \u001b[36m0.0999\u001b[0m       \u001b[32m0.9553\u001b[0m        \u001b[35m0.1401\u001b[0m  0.5506\n",
            "     11        \u001b[36m0.0895\u001b[0m       \u001b[32m0.9557\u001b[0m        \u001b[35m0.1326\u001b[0m  0.5626\n",
            "     12        \u001b[36m0.0742\u001b[0m       \u001b[32m0.9620\u001b[0m        \u001b[35m0.1244\u001b[0m  0.5559\n",
            "     13        \u001b[36m0.0692\u001b[0m       0.9569        0.1375  0.5648\n",
            "     14        \u001b[36m0.0683\u001b[0m       0.9588        0.1370  0.5500\n",
            "     15        \u001b[36m0.0636\u001b[0m       0.9588        0.1508  0.5656\n",
            "     16        \u001b[36m0.0489\u001b[0m       0.9604        0.1431  0.5646\n",
            "     17        0.0534       \u001b[32m0.9627\u001b[0m        0.1339  0.5469\n",
            "     18        0.0491       0.9624        0.1371  0.5568\n",
            "     19        \u001b[36m0.0427\u001b[0m       0.9596        0.1514  0.5730\n",
            "     20        \u001b[36m0.0415\u001b[0m       0.9620        0.1458  0.5684\n",
            "[CV] .......................................... lr=0.15, total=  11.5s\n",
            "[CV] lr=0.15 .........................................................\n",
            "  epoch    train_loss    valid_acc    valid_loss     dur\n",
            "-------  ------------  -----------  ------------  ------\n",
            "      1        \u001b[36m0.9778\u001b[0m       \u001b[32m0.8482\u001b[0m        \u001b[35m0.5438\u001b[0m  0.5646\n",
            "      2        \u001b[36m0.4275\u001b[0m       \u001b[32m0.9275\u001b[0m        \u001b[35m0.2450\u001b[0m  0.5504\n",
            "      3        \u001b[36m0.2826\u001b[0m       \u001b[32m0.9361\u001b[0m        \u001b[35m0.1975\u001b[0m  0.5593\n",
            "      4        \u001b[36m0.2206\u001b[0m       \u001b[32m0.9435\u001b[0m        \u001b[35m0.1751\u001b[0m  0.5551\n",
            "      5        \u001b[36m0.1794\u001b[0m       \u001b[32m0.9471\u001b[0m        \u001b[35m0.1578\u001b[0m  0.5668\n",
            "      6        \u001b[36m0.1545\u001b[0m       \u001b[32m0.9494\u001b[0m        \u001b[35m0.1513\u001b[0m  0.5460\n",
            "      7        \u001b[36m0.1266\u001b[0m       \u001b[32m0.9573\u001b[0m        \u001b[35m0.1396\u001b[0m  0.5652\n",
            "      8        \u001b[36m0.1117\u001b[0m       0.9561        \u001b[35m0.1390\u001b[0m  0.5466\n",
            "      9        \u001b[36m0.1000\u001b[0m       0.9561        0.1486  0.5798\n",
            "     10        \u001b[36m0.0937\u001b[0m       \u001b[32m0.9580\u001b[0m        \u001b[35m0.1321\u001b[0m  0.5502\n",
            "     11        \u001b[36m0.0855\u001b[0m       \u001b[32m0.9588\u001b[0m        \u001b[35m0.1306\u001b[0m  0.5612\n",
            "     12        \u001b[36m0.0741\u001b[0m       \u001b[32m0.9631\u001b[0m        \u001b[35m0.1302\u001b[0m  0.5531\n",
            "     13        \u001b[36m0.0680\u001b[0m       0.9600        0.1460  0.5582\n",
            "     14        \u001b[36m0.0605\u001b[0m       0.9616        0.1409  0.5609\n",
            "     15        0.0605       0.9616        0.1459  0.5475\n",
            "     16        \u001b[36m0.0487\u001b[0m       0.9627        0.1335  0.5638\n",
            "     17        \u001b[36m0.0434\u001b[0m       0.9592        0.1435  0.5748\n",
            "     18        0.0454       0.9608        0.1604  0.5918\n",
            "     19        \u001b[36m0.0386\u001b[0m       0.9631        0.1529  0.5909\n",
            "     20        0.0392       \u001b[32m0.9655\u001b[0m        0.1405  0.5594\n",
            "[CV] .......................................... lr=0.15, total=  11.6s\n",
            "[CV] lr=0.15 .........................................................\n",
            "  epoch    train_loss    valid_acc    valid_loss     dur\n",
            "-------  ------------  -----------  ------------  ------\n",
            "      1        \u001b[36m0.9840\u001b[0m       \u001b[32m0.6514\u001b[0m        \u001b[35m0.9408\u001b[0m  0.5624\n",
            "      2        \u001b[36m0.4432\u001b[0m       \u001b[32m0.8118\u001b[0m        \u001b[35m0.4267\u001b[0m  0.5814\n",
            "      3        \u001b[36m0.2909\u001b[0m       \u001b[32m0.8506\u001b[0m        \u001b[35m0.3395\u001b[0m  0.5959\n",
            "      4        \u001b[36m0.2286\u001b[0m       \u001b[32m0.9039\u001b[0m        \u001b[35m0.2589\u001b[0m  0.5699\n",
            "      5        \u001b[36m0.1890\u001b[0m       \u001b[32m0.9122\u001b[0m        \u001b[35m0.2366\u001b[0m  0.5619\n",
            "      6        \u001b[36m0.1505\u001b[0m       \u001b[32m0.9404\u001b[0m        \u001b[35m0.1735\u001b[0m  0.5927\n",
            "      7        \u001b[36m0.1361\u001b[0m       \u001b[32m0.9506\u001b[0m        \u001b[35m0.1615\u001b[0m  0.5634\n",
            "      8        \u001b[36m0.1198\u001b[0m       0.9502        \u001b[35m0.1513\u001b[0m  0.5616\n",
            "      9        \u001b[36m0.1079\u001b[0m       \u001b[32m0.9525\u001b[0m        \u001b[35m0.1434\u001b[0m  0.5566\n",
            "     10        \u001b[36m0.0875\u001b[0m       \u001b[32m0.9584\u001b[0m        \u001b[35m0.1346\u001b[0m  0.5801\n",
            "     11        \u001b[36m0.0847\u001b[0m       0.9549        0.1388  0.5692\n",
            "     12        \u001b[36m0.0819\u001b[0m       0.9557        \u001b[35m0.1328\u001b[0m  0.5565\n",
            "     13        \u001b[36m0.0679\u001b[0m       \u001b[32m0.9596\u001b[0m        0.1329  0.5773\n",
            "     14        \u001b[36m0.0600\u001b[0m       \u001b[32m0.9639\u001b[0m        \u001b[35m0.1306\u001b[0m  0.5693\n",
            "     15        \u001b[36m0.0534\u001b[0m       \u001b[32m0.9655\u001b[0m        \u001b[35m0.1250\u001b[0m  0.5970\n",
            "     16        \u001b[36m0.0519\u001b[0m       0.9616        0.1478  0.5667\n",
            "     17        \u001b[36m0.0474\u001b[0m       0.9643        0.1311  0.5697\n",
            "     18        \u001b[36m0.0459\u001b[0m       0.9569        0.1517  0.5893\n",
            "     19        \u001b[36m0.0450\u001b[0m       0.9639        0.1368  0.5760\n",
            "     20        \u001b[36m0.0383\u001b[0m       0.9631        0.1542  0.5777\n",
            "[CV] .......................................... lr=0.15, total=  11.8s\n",
            "[CV] lr=0.2 ..........................................................\n",
            "  epoch    train_loss    valid_acc    valid_loss     dur\n",
            "-------  ------------  -----------  ------------  ------\n",
            "      1        \u001b[36m0.8979\u001b[0m       \u001b[32m0.8961\u001b[0m        \u001b[35m0.3873\u001b[0m  0.5733\n",
            "      2        \u001b[36m0.3915\u001b[0m       \u001b[32m0.9365\u001b[0m        \u001b[35m0.2272\u001b[0m  0.5790\n",
            "      3        \u001b[36m0.2553\u001b[0m       \u001b[32m0.9494\u001b[0m        \u001b[35m0.1710\u001b[0m  0.5602\n",
            "      4        \u001b[36m0.2038\u001b[0m       \u001b[32m0.9522\u001b[0m        \u001b[35m0.1551\u001b[0m  0.5577\n",
            "      5        \u001b[36m0.1676\u001b[0m       \u001b[32m0.9549\u001b[0m        \u001b[35m0.1439\u001b[0m  0.5586\n",
            "      6        \u001b[36m0.1410\u001b[0m       0.9541        0.1467  0.5663\n",
            "      7        \u001b[36m0.1265\u001b[0m       \u001b[32m0.9624\u001b[0m        \u001b[35m0.1424\u001b[0m  0.5545\n",
            "      8        \u001b[36m0.1097\u001b[0m       0.9608        \u001b[35m0.1343\u001b[0m  0.5625\n",
            "      9        \u001b[36m0.0941\u001b[0m       0.9616        \u001b[35m0.1299\u001b[0m  0.5615\n",
            "     10        \u001b[36m0.0838\u001b[0m       0.9565        0.1474  0.5621\n",
            "     11        \u001b[36m0.0761\u001b[0m       0.9608        0.1398  0.5446\n",
            "     12        \u001b[36m0.0636\u001b[0m       0.9612        0.1409  0.5541\n",
            "     13        0.0676       0.9608        \u001b[35m0.1279\u001b[0m  0.5555\n",
            "     14        \u001b[36m0.0540\u001b[0m       \u001b[32m0.9631\u001b[0m        0.1306  0.5583\n",
            "     15        \u001b[36m0.0533\u001b[0m       0.9592        0.1413  0.5501\n",
            "     16        \u001b[36m0.0467\u001b[0m       0.9616        0.1409  0.5534\n",
            "     17        0.0493       0.9573        0.1738  0.5370\n",
            "     18        \u001b[36m0.0452\u001b[0m       0.9620        0.1416  0.5483\n",
            "     19        \u001b[36m0.0396\u001b[0m       0.9624        0.1413  0.5519\n",
            "     20        \u001b[36m0.0346\u001b[0m       0.9627        0.1447  0.5524\n",
            "[CV] ........................................... lr=0.2, total=  11.5s\n",
            "[CV] lr=0.2 ..........................................................\n",
            "  epoch    train_loss    valid_acc    valid_loss     dur\n",
            "-------  ------------  -----------  ------------  ------\n",
            "      1        \u001b[36m0.8962\u001b[0m       \u001b[32m0.8878\u001b[0m        \u001b[35m0.3816\u001b[0m  0.5588\n",
            "      2        \u001b[36m0.3842\u001b[0m       \u001b[32m0.9286\u001b[0m        \u001b[35m0.2296\u001b[0m  0.5547\n",
            "      3        \u001b[36m0.2665\u001b[0m       \u001b[32m0.9380\u001b[0m        \u001b[35m0.1857\u001b[0m  0.5556\n",
            "      4        \u001b[36m0.1966\u001b[0m       \u001b[32m0.9420\u001b[0m        \u001b[35m0.1694\u001b[0m  0.5406\n",
            "      5        \u001b[36m0.1676\u001b[0m       \u001b[32m0.9451\u001b[0m        \u001b[35m0.1569\u001b[0m  0.5545\n",
            "      6        \u001b[36m0.1447\u001b[0m       \u001b[32m0.9482\u001b[0m        \u001b[35m0.1482\u001b[0m  0.5648\n",
            "      7        \u001b[36m0.1274\u001b[0m       \u001b[32m0.9506\u001b[0m        \u001b[35m0.1441\u001b[0m  0.5651\n",
            "      8        \u001b[36m0.1104\u001b[0m       \u001b[32m0.9541\u001b[0m        \u001b[35m0.1350\u001b[0m  0.5646\n",
            "      9        \u001b[36m0.0974\u001b[0m       0.9525        0.1532  0.5540\n",
            "     10        \u001b[36m0.0932\u001b[0m       0.9518        0.1465  0.5696\n",
            "     11        \u001b[36m0.0847\u001b[0m       \u001b[32m0.9588\u001b[0m        0.1386  0.5882\n",
            "     12        \u001b[36m0.0712\u001b[0m       \u001b[32m0.9596\u001b[0m        \u001b[35m0.1338\u001b[0m  0.5503\n",
            "     13        \u001b[36m0.0706\u001b[0m       \u001b[32m0.9627\u001b[0m        \u001b[35m0.1327\u001b[0m  0.5606\n",
            "     14        \u001b[36m0.0614\u001b[0m       0.9627        0.1330  0.5502\n",
            "     15        \u001b[36m0.0484\u001b[0m       0.9627        0.1440  0.5535\n",
            "     16        0.0552       0.9616        0.1378  0.5623\n",
            "     17        0.0489       0.9604        0.1462  0.5488\n",
            "     18        \u001b[36m0.0417\u001b[0m       0.9627        0.1465  0.5511\n",
            "     19        \u001b[36m0.0408\u001b[0m       0.9624        0.1505  0.5724\n",
            "     20        0.0413       0.9624        0.1567  0.5475\n",
            "[CV] ........................................... lr=0.2, total=  11.5s\n",
            "[CV] lr=0.2 ..........................................................\n",
            "  epoch    train_loss    valid_acc    valid_loss     dur\n",
            "-------  ------------  -----------  ------------  ------\n",
            "      1        \u001b[36m0.8921\u001b[0m       \u001b[32m0.8459\u001b[0m        \u001b[35m0.4558\u001b[0m  0.5598\n",
            "      2        \u001b[36m0.3756\u001b[0m       \u001b[32m0.9255\u001b[0m        \u001b[35m0.2293\u001b[0m  0.5745\n",
            "      3        \u001b[36m0.2500\u001b[0m       \u001b[32m0.9412\u001b[0m        \u001b[35m0.1847\u001b[0m  0.5566\n",
            "      4        \u001b[36m0.1947\u001b[0m       \u001b[32m0.9478\u001b[0m        \u001b[35m0.1615\u001b[0m  0.5723\n",
            "      5        \u001b[36m0.1705\u001b[0m       \u001b[32m0.9482\u001b[0m        \u001b[35m0.1455\u001b[0m  0.5600\n",
            "      6        \u001b[36m0.1351\u001b[0m       \u001b[32m0.9533\u001b[0m        0.1466  0.5671\n",
            "      7        \u001b[36m0.1154\u001b[0m       0.9522        0.1471  0.5571\n",
            "      8        \u001b[36m0.1072\u001b[0m       \u001b[32m0.9592\u001b[0m        \u001b[35m0.1401\u001b[0m  0.5663\n",
            "      9        \u001b[36m0.0968\u001b[0m       0.9573        0.1543  0.5865\n",
            "     10        \u001b[36m0.0793\u001b[0m       \u001b[32m0.9612\u001b[0m        \u001b[35m0.1395\u001b[0m  0.5630\n",
            "     11        \u001b[36m0.0712\u001b[0m       0.9537        0.1643  0.5808\n",
            "     12        \u001b[36m0.0711\u001b[0m       \u001b[32m0.9616\u001b[0m        0.1552  0.5610\n",
            "     13        \u001b[36m0.0601\u001b[0m       0.9608        0.1626  0.5604\n",
            "     14        \u001b[36m0.0515\u001b[0m       0.9604        0.1600  0.5467\n",
            "     15        0.0542       \u001b[32m0.9624\u001b[0m        0.1545  0.5593\n",
            "     16        \u001b[36m0.0487\u001b[0m       \u001b[32m0.9627\u001b[0m        0.1524  0.5651\n",
            "     17        \u001b[36m0.0461\u001b[0m       0.9600        0.1741  0.5505\n",
            "     18        \u001b[36m0.0395\u001b[0m       0.9620        0.1631  0.5510\n",
            "     19        \u001b[36m0.0369\u001b[0m       0.9576        0.1852  0.5576\n",
            "     20        \u001b[36m0.0354\u001b[0m       0.9600        0.1863  0.5567\n",
            "[CV] ........................................... lr=0.2, total=  11.6s\n",
            "[CV] lr=0.2 ..........................................................\n",
            "  epoch    train_loss    valid_acc    valid_loss     dur\n",
            "-------  ------------  -----------  ------------  ------\n",
            "      1        \u001b[36m0.9084\u001b[0m       \u001b[32m0.6643\u001b[0m        \u001b[35m0.8683\u001b[0m  0.5546\n",
            "      2        \u001b[36m0.3875\u001b[0m       \u001b[32m0.7945\u001b[0m        \u001b[35m0.5001\u001b[0m  0.5528\n",
            "      3        \u001b[36m0.2665\u001b[0m       \u001b[32m0.8678\u001b[0m        \u001b[35m0.3181\u001b[0m  0.5528\n",
            "      4        \u001b[36m0.2104\u001b[0m       \u001b[32m0.9110\u001b[0m        \u001b[35m0.2422\u001b[0m  0.5498\n",
            "      5        \u001b[36m0.1696\u001b[0m       \u001b[32m0.9118\u001b[0m        0.2441  0.5757\n",
            "      6        \u001b[36m0.1421\u001b[0m       \u001b[32m0.9392\u001b[0m        \u001b[35m0.2067\u001b[0m  0.5391\n",
            "      7        \u001b[36m0.1271\u001b[0m       \u001b[32m0.9412\u001b[0m        \u001b[35m0.1729\u001b[0m  0.5648\n",
            "      8        \u001b[36m0.1083\u001b[0m       \u001b[32m0.9537\u001b[0m        \u001b[35m0.1490\u001b[0m  0.5453\n",
            "      9        \u001b[36m0.0905\u001b[0m       \u001b[32m0.9565\u001b[0m        0.1499  0.5460\n",
            "     10        \u001b[36m0.0863\u001b[0m       0.9549        \u001b[35m0.1389\u001b[0m  0.5552\n",
            "     11        \u001b[36m0.0766\u001b[0m       \u001b[32m0.9616\u001b[0m        \u001b[35m0.1295\u001b[0m  0.5411\n",
            "     12        \u001b[36m0.0700\u001b[0m       0.9561        0.1365  0.5485\n",
            "     13        \u001b[36m0.0620\u001b[0m       0.9596        0.1295  0.5533\n",
            "     14        \u001b[36m0.0545\u001b[0m       0.9576        0.1586  0.5480\n",
            "     15        \u001b[36m0.0492\u001b[0m       0.9616        0.1533  0.5559\n",
            "     16        \u001b[36m0.0448\u001b[0m       \u001b[32m0.9627\u001b[0m        0.1443  0.5514\n",
            "     17        0.0483       0.9612        0.1610  0.5587\n",
            "     18        0.0560       0.9620        0.1502  0.5648\n",
            "     19        0.0502       \u001b[32m0.9635\u001b[0m        0.1452  0.5537\n",
            "     20        \u001b[36m0.0400\u001b[0m       \u001b[32m0.9671\u001b[0m        0.1337  0.5573\n",
            "[CV] ........................................... lr=0.2, total=  11.4s\n",
            "[CV] lr=0.25 .........................................................\n",
            "  epoch    train_loss    valid_acc    valid_loss     dur\n",
            "-------  ------------  -----------  ------------  ------\n",
            "      1        \u001b[36m0.8643\u001b[0m       \u001b[32m0.8820\u001b[0m        \u001b[35m0.3757\u001b[0m  0.5564\n",
            "      2        \u001b[36m0.3611\u001b[0m       \u001b[32m0.9345\u001b[0m        \u001b[35m0.2212\u001b[0m  0.5439\n",
            "      3        \u001b[36m0.2524\u001b[0m       \u001b[32m0.9502\u001b[0m        \u001b[35m0.1677\u001b[0m  0.5485\n",
            "      4        \u001b[36m0.2009\u001b[0m       \u001b[32m0.9522\u001b[0m        \u001b[35m0.1625\u001b[0m  0.5464\n",
            "      5        \u001b[36m0.1520\u001b[0m       \u001b[32m0.9553\u001b[0m        \u001b[35m0.1459\u001b[0m  0.5442\n",
            "      6        \u001b[36m0.1458\u001b[0m       \u001b[32m0.9561\u001b[0m        0.1467  0.5592\n",
            "      7        \u001b[36m0.1093\u001b[0m       \u001b[32m0.9608\u001b[0m        \u001b[35m0.1388\u001b[0m  0.5796\n",
            "      8        \u001b[36m0.1066\u001b[0m       0.9573        0.1564  0.5693\n",
            "      9        \u001b[36m0.0977\u001b[0m       0.9541        0.1564  0.5426\n",
            "     10        \u001b[36m0.0849\u001b[0m       0.9604        \u001b[35m0.1367\u001b[0m  0.5644\n",
            "     11        \u001b[36m0.0710\u001b[0m       \u001b[32m0.9631\u001b[0m        0.1378  0.5533\n",
            "     12        \u001b[36m0.0700\u001b[0m       0.9631        0.1407  0.5485\n",
            "     13        \u001b[36m0.0571\u001b[0m       \u001b[32m0.9663\u001b[0m        \u001b[35m0.1327\u001b[0m  0.5478\n",
            "     14        \u001b[36m0.0548\u001b[0m       0.9592        0.1505  0.5467\n",
            "     15        \u001b[36m0.0541\u001b[0m       0.9631        0.1370  0.5479\n",
            "     16        \u001b[36m0.0490\u001b[0m       0.9620        0.1521  0.5526\n",
            "     17        \u001b[36m0.0466\u001b[0m       0.9620        0.1480  0.5538\n",
            "     18        \u001b[36m0.0449\u001b[0m       0.9647        0.1536  0.5487\n",
            "     19        \u001b[36m0.0410\u001b[0m       0.9620        0.1649  0.5511\n",
            "     20        \u001b[36m0.0340\u001b[0m       0.9596        0.1760  0.5691\n",
            "[CV] .......................................... lr=0.25, total=  11.4s\n",
            "[CV] lr=0.25 .........................................................\n",
            "  epoch    train_loss    valid_acc    valid_loss     dur\n",
            "-------  ------------  -----------  ------------  ------\n",
            "      1        \u001b[36m0.8551\u001b[0m       \u001b[32m0.8725\u001b[0m        \u001b[35m0.4117\u001b[0m  0.5638\n",
            "      2        \u001b[36m0.3539\u001b[0m       \u001b[32m0.9349\u001b[0m        \u001b[35m0.2148\u001b[0m  0.5545\n",
            "      3        \u001b[36m0.2448\u001b[0m       0.9294        \u001b[35m0.1981\u001b[0m  0.5420\n",
            "      4        \u001b[36m0.2000\u001b[0m       \u001b[32m0.9412\u001b[0m        \u001b[35m0.1729\u001b[0m  0.5720\n",
            "      5        \u001b[36m0.1620\u001b[0m       \u001b[32m0.9451\u001b[0m        \u001b[35m0.1567\u001b[0m  0.5543\n",
            "      6        \u001b[36m0.1436\u001b[0m       \u001b[32m0.9478\u001b[0m        0.1631  0.5533\n",
            "      7        \u001b[36m0.1228\u001b[0m       \u001b[32m0.9502\u001b[0m        0.1669  0.5542\n",
            "      8        \u001b[36m0.1072\u001b[0m       \u001b[32m0.9529\u001b[0m        \u001b[35m0.1550\u001b[0m  0.5592\n",
            "      9        \u001b[36m0.0982\u001b[0m       0.9510        \u001b[35m0.1535\u001b[0m  0.5519\n",
            "     10        \u001b[36m0.0863\u001b[0m       \u001b[32m0.9596\u001b[0m        \u001b[35m0.1340\u001b[0m  0.5521\n",
            "     11        \u001b[36m0.0796\u001b[0m       0.9557        0.1502  0.5583\n",
            "     12        \u001b[36m0.0715\u001b[0m       0.9565        0.1551  0.5506\n",
            "     13        \u001b[36m0.0649\u001b[0m       \u001b[32m0.9604\u001b[0m        0.1454  0.5679\n",
            "     14        \u001b[36m0.0639\u001b[0m       0.9596        0.1522  0.5631\n",
            "     15        \u001b[36m0.0489\u001b[0m       0.9573        0.1557  0.5659\n",
            "     16        0.0497       0.9576        0.1620  0.5680\n",
            "     17        0.0548       0.9604        0.1598  0.5655\n",
            "     18        \u001b[36m0.0432\u001b[0m       0.9596        0.1663  0.5629\n",
            "     19        0.0455       \u001b[32m0.9627\u001b[0m        0.1661  0.5640\n",
            "     20        \u001b[36m0.0356\u001b[0m       \u001b[32m0.9671\u001b[0m        0.1513  0.5620\n",
            "[CV] .......................................... lr=0.25, total=  11.5s\n",
            "[CV] lr=0.25 .........................................................\n",
            "  epoch    train_loss    valid_acc    valid_loss     dur\n",
            "-------  ------------  -----------  ------------  ------\n",
            "      1        \u001b[36m0.8485\u001b[0m       \u001b[32m0.9031\u001b[0m        \u001b[35m0.3356\u001b[0m  0.5766\n",
            "      2        \u001b[36m0.3563\u001b[0m       \u001b[32m0.9286\u001b[0m        \u001b[35m0.2097\u001b[0m  0.5618\n",
            "      3        \u001b[36m0.2569\u001b[0m       \u001b[32m0.9404\u001b[0m        \u001b[35m0.1881\u001b[0m  0.5596\n",
            "      4        \u001b[36m0.1969\u001b[0m       \u001b[32m0.9482\u001b[0m        \u001b[35m0.1702\u001b[0m  0.5692\n",
            "      5        \u001b[36m0.1575\u001b[0m       0.9455        \u001b[35m0.1639\u001b[0m  0.5852\n",
            "      6        \u001b[36m0.1312\u001b[0m       \u001b[32m0.9584\u001b[0m        \u001b[35m0.1349\u001b[0m  0.5697\n",
            "      7        \u001b[36m0.1179\u001b[0m       0.9553        0.1435  0.5600\n",
            "      8        \u001b[36m0.1071\u001b[0m       0.9537        0.1480  0.5580\n",
            "      9        \u001b[36m0.0928\u001b[0m       0.9537        0.1558  0.5681\n",
            "     10        0.0966       0.9553        0.1433  0.5557\n",
            "     11        \u001b[36m0.0719\u001b[0m       0.9569        0.1562  0.5690\n",
            "     12        \u001b[36m0.0654\u001b[0m       \u001b[32m0.9600\u001b[0m        0.1608  0.5814\n",
            "     13        \u001b[36m0.0614\u001b[0m       \u001b[32m0.9608\u001b[0m        0.1567  0.5599\n",
            "     14        \u001b[36m0.0571\u001b[0m       0.9600        0.1647  0.5793\n",
            "     15        \u001b[36m0.0468\u001b[0m       \u001b[32m0.9620\u001b[0m        0.1595  0.5760\n",
            "     16        \u001b[36m0.0441\u001b[0m       0.9600        0.1597  0.6018\n",
            "     17        0.0463       0.9580        0.1715  0.5644\n",
            "     18        \u001b[36m0.0413\u001b[0m       0.9596        0.1551  0.5801\n",
            "     19        \u001b[36m0.0390\u001b[0m       0.9620        0.1729  0.5710\n",
            "     20        \u001b[36m0.0367\u001b[0m       \u001b[32m0.9659\u001b[0m        0.1634  0.5650\n",
            "[CV] .......................................... lr=0.25, total=  11.7s\n",
            "[CV] lr=0.25 .........................................................\n",
            "  epoch    train_loss    valid_acc    valid_loss     dur\n",
            "-------  ------------  -----------  ------------  ------\n",
            "      1        \u001b[36m0.8507\u001b[0m       \u001b[32m0.6349\u001b[0m        \u001b[35m0.9570\u001b[0m  0.5742\n",
            "      2        \u001b[36m0.3687\u001b[0m       \u001b[32m0.8333\u001b[0m        \u001b[35m0.3990\u001b[0m  0.5641\n",
            "      3        \u001b[36m0.2543\u001b[0m       \u001b[32m0.8792\u001b[0m        \u001b[35m0.3130\u001b[0m  0.5642\n",
            "      4        \u001b[36m0.1986\u001b[0m       \u001b[32m0.9282\u001b[0m        \u001b[35m0.2211\u001b[0m  0.5609\n",
            "      5        \u001b[36m0.1648\u001b[0m       0.9271        \u001b[35m0.2103\u001b[0m  0.5782\n",
            "      6        \u001b[36m0.1398\u001b[0m       \u001b[32m0.9443\u001b[0m        \u001b[35m0.1867\u001b[0m  0.5933\n",
            "      7        \u001b[36m0.1169\u001b[0m       \u001b[32m0.9565\u001b[0m        \u001b[35m0.1528\u001b[0m  0.5677\n",
            "      8        \u001b[36m0.1005\u001b[0m       \u001b[32m0.9569\u001b[0m        \u001b[35m0.1428\u001b[0m  0.5757\n",
            "      9        \u001b[36m0.0980\u001b[0m       0.9525        0.1545  0.5751\n",
            "     10        \u001b[36m0.0827\u001b[0m       0.9545        0.1466  0.5776\n",
            "     11        \u001b[36m0.0811\u001b[0m       \u001b[32m0.9600\u001b[0m        0.1507  0.5844\n",
            "     12        0.0844       \u001b[32m0.9608\u001b[0m        \u001b[35m0.1403\u001b[0m  0.5728\n",
            "     13        \u001b[36m0.0558\u001b[0m       0.9592        0.1532  0.5634\n",
            "     14        0.0569       0.9569        0.1578  0.5694\n",
            "     15        \u001b[36m0.0514\u001b[0m       \u001b[32m0.9616\u001b[0m        0.1481  0.5789\n",
            "     16        \u001b[36m0.0506\u001b[0m       0.9569        0.1679  0.5780\n",
            "     17        \u001b[36m0.0450\u001b[0m       0.9596        0.1580  0.5942\n",
            "     18        \u001b[36m0.0442\u001b[0m       0.9580        0.1761  0.5796\n",
            "     19        \u001b[36m0.0436\u001b[0m       \u001b[32m0.9643\u001b[0m        0.1456  0.5681\n",
            "     20        \u001b[36m0.0343\u001b[0m       0.9604        0.1683  0.5709\n",
            "[CV] .......................................... lr=0.25, total=  11.8s\n"
          ],
          "name": "stdout"
        },
        {
          "output_type": "stream",
          "text": [
            "[Parallel(n_jobs=1)]: Done  16 out of  16 | elapsed:  3.1min finished\n"
          ],
          "name": "stderr"
        },
        {
          "output_type": "stream",
          "text": [
            "  epoch    train_loss    valid_acc    valid_loss     dur\n",
            "-------  ------------  -----------  ------------  ------\n",
            "      1        \u001b[36m1.0095\u001b[0m       \u001b[32m0.8379\u001b[0m        \u001b[35m0.5280\u001b[0m  0.8014\n",
            "      2        \u001b[36m0.4543\u001b[0m       \u001b[32m0.9241\u001b[0m        \u001b[35m0.2604\u001b[0m  0.7633\n",
            "      3        \u001b[36m0.2932\u001b[0m       \u001b[32m0.9415\u001b[0m        \u001b[35m0.2010\u001b[0m  0.7747\n",
            "      4        \u001b[36m0.2307\u001b[0m       \u001b[32m0.9450\u001b[0m        \u001b[35m0.1847\u001b[0m  0.7694\n",
            "      5        \u001b[36m0.1884\u001b[0m       \u001b[32m0.9476\u001b[0m        \u001b[35m0.1658\u001b[0m  0.7553\n",
            "      6        \u001b[36m0.1660\u001b[0m       \u001b[32m0.9553\u001b[0m        \u001b[35m0.1506\u001b[0m  0.7722\n",
            "      7        \u001b[36m0.1457\u001b[0m       0.9547        \u001b[35m0.1425\u001b[0m  0.7739\n",
            "      8        \u001b[36m0.1222\u001b[0m       \u001b[32m0.9565\u001b[0m        \u001b[35m0.1371\u001b[0m  0.7694\n",
            "      9        \u001b[36m0.1138\u001b[0m       \u001b[32m0.9588\u001b[0m        \u001b[35m0.1316\u001b[0m  0.7667\n",
            "     10        \u001b[36m0.0977\u001b[0m       \u001b[32m0.9618\u001b[0m        \u001b[35m0.1247\u001b[0m  0.7705\n",
            "     11        \u001b[36m0.0915\u001b[0m       0.9612        \u001b[35m0.1223\u001b[0m  0.7838\n",
            "     12        \u001b[36m0.0818\u001b[0m       0.9606        0.1305  0.7596\n",
            "     13        \u001b[36m0.0749\u001b[0m       \u001b[32m0.9641\u001b[0m        0.1254  0.7652\n",
            "     14        \u001b[36m0.0672\u001b[0m       \u001b[32m0.9659\u001b[0m        \u001b[35m0.1218\u001b[0m  0.7821\n",
            "     15        \u001b[36m0.0632\u001b[0m       \u001b[32m0.9674\u001b[0m        \u001b[35m0.1204\u001b[0m  0.7805\n",
            "     16        \u001b[36m0.0578\u001b[0m       0.9656        0.1265  0.7853\n",
            "     17        \u001b[36m0.0527\u001b[0m       0.9624        0.1379  0.7669\n",
            "     18        0.0590       0.9668        0.1291  0.7671\n",
            "     19        \u001b[36m0.0466\u001b[0m       \u001b[32m0.9688\u001b[0m        0.1254  0.7783\n",
            "     20        \u001b[36m0.0456\u001b[0m       0.9688        0.1244  0.7711\n",
            "\n",
            " 最適ハイパーパラメータ :  {'lr': 0.1}\n"
          ],
          "name": "stdout"
        }
      ]
    },
    {
      "cell_type": "markdown",
      "metadata": {
        "id": "h2p16eNCke4m"
      },
      "source": [
        "　クロスバリデーションから最適な学習率 `lr` が0.15と求まったので，再度ハイパーパラメータを変更して学習してみます．"
      ]
    },
    {
      "cell_type": "code",
      "metadata": {
        "id": "agKCos0uYb3S",
        "colab": {
          "base_uri": "https://localhost:8080/",
          "height": 644
        },
        "outputId": "7a8b92ba-568b-4cab-e3c4-d9a292a2e3c2"
      },
      "source": [
        "torch.manual_seed(0)\n",
        "\n",
        "model = torch.nn.Sequential(\n",
        "  torch.nn.Linear(13*50, 512), \n",
        "  torch.nn.ReLU(),\n",
        "  torch.nn.Dropout(p=0.5),\n",
        "  torch.nn.Linear(512, 256), \n",
        "  torch.nn.ReLU(),\n",
        "  torch.nn.Dropout(p=0.5),\n",
        "  torch.nn.Linear(256, 6), \n",
        ")\n",
        "model.to(device_GPU) # deviceへモデルを転送\n",
        "\n",
        "# 誤差関数と最適化手法を準備\n",
        "loss_fn = torch.nn.CrossEntropyLoss()\n",
        "optimizer = torch.optim.SGD(model.parameters(), lr=0.15)\n",
        "\n",
        "# 学習の実行\n",
        "trained_model = train(model, loss_fn, optimizer, train_loader, valid_loader, device_GPU)"
      ],
      "execution_count": 21,
      "outputs": [
        {
          "output_type": "display_data",
          "data": {
            "image/png": "[encoded data removed]",
            "text/plain": [
              "<Figure size 864x576 with 2 Axes>"
            ]
          },
          "metadata": {
            "tags": [],
            "needs_background": "light"
          }
        },
        {
          "output_type": "stream",
          "text": [
            "accuracy\n",
            "\ttraining         \t (min:    0.634, max:    0.996, cur:    0.996)\n",
            "\tvalidation       \t (min:    0.832, max:    0.974, cur:    0.973)\n",
            "log loss\n",
            "\ttraining         \t (min:    0.014, max:    1.040, cur:    0.014)\n",
            "\tvalidation       \t (min:    0.113, max:    0.568, cur:    0.140)\n",
            "Accuracy: 0.9732 (valid), 0.9960 (train)\n"
          ],
          "name": "stdout"
        }
      ]
    },
    {
      "cell_type": "code",
      "metadata": {
        "id": "tU07cAobp8Wh",
        "colab": {
          "base_uri": "https://localhost:8080/"
        },
        "outputId": "95a03b8f-c4d7-4573-f1b7-c83c5dfb1339"
      },
      "source": [
        "# 予測の実行\n",
        "test_loss, test_accuracy = calculate_model(model, loss_fn,   _, test_loader, device_GPU, mode='evaluate')\n",
        "# print(test_loss)\n",
        "print(\"テストデータの予測正解率 : \", test_accuracy)"
      ],
      "execution_count": 22,
      "outputs": [
        {
          "output_type": "stream",
          "text": [
            "テストデータの予測正解率 :  0.9636946977372509\n"
          ],
          "name": "stdout"
        }
      ]
    },
    {
      "cell_type": "markdown",
      "metadata": {
        "id": "Xgk3J6t275C8"
      },
      "source": [
        "　クロスバリデーションによって決定されたハイパーパラメータはモデルの汎化性能を向上させたため，予測正解率が**96.39 %**→**96.55 %**と少し高くなりました．"
      ]
    },
    {
      "cell_type": "markdown",
      "metadata": {
        "id": "_ycXs9mOaHQp"
      },
      "source": [
        "### 3.3 | CNNによる予測\n",
        "\n",
        "　CNNは画像処理に良く使われる手法ですが，今回は時系列データを2次元的に扱うことでCNNを適用してみます．\n"
      ]
    },
    {
      "cell_type": "code",
      "metadata": {
        "id": "4f0sxJ_4ph5r",
        "colab": {
          "base_uri": "https://localhost:8080/"
        },
        "outputId": "d94a5124-5a93-41e1-a02b-568702cf834f"
      },
      "source": [
        "# リシェイプ\n",
        "X_train_4D = X_train.reshape(X_train.shape[0], 1, X_train.shape[1], X_train.shape[2])\n",
        "X_valid_4D  = X_valid.reshape(X_valid.shape[0], 1, X_valid.shape[1], X_valid.shape[2]) \n",
        "X_test_4D  = X_test.reshape(X_test.shape[0], 1, X_test.shape[1], X_test.shape[2]) \n",
        "print(X_train_4D.shape)"
      ],
      "execution_count": 23,
      "outputs": [
        {
          "output_type": "stream",
          "text": [
            "(17000, 1, 13, 50)\n"
          ],
          "name": "stdout"
        }
      ]
    },
    {
      "cell_type": "code",
      "metadata": {
        "id": "HcMKITH5aOXY"
      },
      "source": [
        "# datasetおよびdataloaderの作成\n",
        "batch_size = 256 # 今回は256件のデータごとに学習を行う\n",
        "\n",
        "# training set\n",
        "X_train_torch = torch.tensor(X_train_4D, dtype=torch.float) # dtype=torch.floatを忘れずに\n",
        "y_train_torch = torch.tensor(y_train, dtype=torch.long)      # dtype=torch.longを忘れずに\n",
        "train_dataset = torch.utils.data.TensorDataset(X_train_torch, y_train_torch)\n",
        "train_loader  = torch.utils.data.DataLoader(train_dataset, batch_size=batch_size)\n",
        "\n",
        "# validation set\n",
        "X_valid_torch = torch.tensor(X_valid_4D, dtype=torch.float)\n",
        "y_valid_torch = torch.tensor(y_valid, dtype=torch.long)\n",
        "valid_dataset = torch.utils.data.TensorDataset(X_valid_torch, y_valid_torch)\n",
        "valid_loader  = torch.utils.data.DataLoader(valid_dataset, batch_size=batch_size)\n",
        "\n",
        "# test set\n",
        "X_test_torch = torch.tensor(X_test_4D, dtype=torch.float)\n",
        "y_test_torch = torch.tensor(y_test, dtype=torch.long)\n",
        "test_dataset = torch.utils.data.TensorDataset(X_test_torch, y_test_torch)\n",
        "test_loader  = torch.utils.data.DataLoader(test_dataset, batch_size=batch_size)"
      ],
      "execution_count": 24,
      "outputs": []
    },
    {
      "cell_type": "code",
      "metadata": {
        "id": "Tkxqb0shc2ga"
      },
      "source": [
        "# GPUの利用設定および学習･予測のための関数群の定義\n",
        "import torch\n",
        "from livelossplot import PlotLosses\n",
        "\n",
        "device_GPU = torch.device(\"cuda:0\") \n",
        "\n",
        "# モデルの更新と評価(modeによって切り替え)\n",
        "def calculate_model(model, loss_fn, opt, dataloader, device, mode):\n",
        "  if mode == 'evaluate':\n",
        "    model.eval() # 学習を行わない時は evaluate 状態にする （補足資料※1）\n",
        "\n",
        "  sum_loss = 0\n",
        "  correct = 0\n",
        "  count = len(dataloader.dataset)\n",
        "  \n",
        "  for X, y in dataloader:\n",
        "    y-=1\n",
        "    X = X.to(device) # GPUへデータを転送\n",
        "    y = y.to(device) # GPUへデータを転送\n",
        "    y_pred = model(X) # Xからyを予測（softmaxを行う前の値が出力される）\n",
        "    \n",
        "    _, predicted = torch.max(y_pred.data, 1) # 6クラスのうち、予測確率最大のクラス番号を取得\n",
        "    correct += (predicted == y).sum().item() # 予測に成功した件数をカウント（accuracy計算用）\n",
        "    \n",
        "    loss = loss_fn(y_pred, y)        # ミニバッチ内の訓練誤差の 平均 を計算\n",
        "    sum_loss += loss.item()*len(y) # エポック全体の訓練誤差の 合計 を計算しておく\n",
        "    \n",
        "    if mode == 'update':\n",
        "      # 重みの更新\n",
        "      opt.zero_grad()\n",
        "      loss.backward()\n",
        "      opt.step()\n",
        "    \n",
        "  # エポック内の訓練誤差の平均値と予測精度を計算\n",
        "  mean_train_loss = sum_loss / count\n",
        "  train_accuracy = correct / count\n",
        "  \n",
        "  if mode == 'evaluate':\n",
        "    model.train() # evaluate状態からtrain状態に戻しておく\n",
        "\n",
        "  return mean_train_loss, train_accuracy    \n",
        "\n",
        "# 学習\n",
        "def train(model, loss_fn, opt, train_loader, valid_loader, device, epoch=50):\n",
        "  liveloss = PlotLosses() # 描画の初期化\n",
        "  for i in range(epoch):\n",
        "    train_loss, train_accuracy = calculate_model(model, loss_fn, opt, train_loader, device, mode='update')\n",
        "    valid_loss, valid_accuracy = calculate_model(model, loss_fn,   _, valid_loader, device, mode='evaluate')\n",
        "  \n",
        "    # Visualize the loss and accuracy values.\n",
        "    liveloss.update({\n",
        "        'log loss': train_loss,\n",
        "        'val_log loss': valid_loss,\n",
        "        'accuracy': train_accuracy,\n",
        "        'val_accuracy': valid_accuracy,\n",
        "    })\n",
        "    liveloss.draw()  \n",
        "  print('Accuracy: {:.4f} (valid), {:.4f} (train)'.format(valid_accuracy, train_accuracy))\n",
        "  return model # 学習したモデルを返す"
      ],
      "execution_count": 25,
      "outputs": []
    },
    {
      "cell_type": "code",
      "metadata": {
        "id": "vb11RlIeaxt5",
        "colab": {
          "base_uri": "https://localhost:8080/",
          "height": 644
        },
        "outputId": "70cc5268-b11a-4ecd-8169-8654ef9490a9"
      },
      "source": [
        "# モデルの作成と学習の実行\n",
        "torch.manual_seed(0) # 学習結果の再現性を担保\n",
        "\n",
        "cnn = torch.nn.Sequential(\n",
        "    torch.nn.Conv2d(1, 16, (3, 3), padding=2),\n",
        "    torch.nn.ReLU(),\n",
        "    torch.nn.MaxPool2d(2),\n",
        "    torch.nn.Conv2d(16, 32, (3, 3), padding=2),\n",
        "    torch.nn.ReLU(),\n",
        "    torch.nn.MaxPool2d(2),\n",
        "    torch.nn.Conv2d(32, 64, (3, 3)),\n",
        "    torch.nn.ReLU(),\n",
        "    torch.nn.MaxPool2d(2),\n",
        "    torch.nn.Dropout(0.2),\n",
        "    torch.nn.Flatten(), \n",
        "    torch.nn.Linear(384, 128),\n",
        "    torch.nn.ReLU(),\n",
        "    torch.nn.Dropout(0.2),\n",
        "    torch.nn.Linear(128, 6),\n",
        ")\n",
        "cnn.to(device_GPU)\n",
        "\n",
        "# 誤差関数と最適化手法を準備\n",
        "loss_fn = torch.nn.CrossEntropyLoss()\n",
        "# optimizer = torch.optim.SGD(cnn.parameters(), lr=0.01)\n",
        "optimizer = torch.optim.Adagrad(cnn.parameters(), lr=0.01)\n",
        "\n",
        "# 学習の実行\n",
        "trained_model = train(cnn, loss_fn, optimizer, train_loader, valid_loader, device_GPU, epoch=70)"
      ],
      "execution_count": 26,
      "outputs": [
        {
          "output_type": "display_data",
          "data": {
            "image/png": "[encoded data removed]",
            "text/plain": [
              "<Figure size 864x576 with 2 Axes>"
            ]
          },
          "metadata": {
            "tags": [],
            "needs_background": "light"
          }
        },
        {
          "output_type": "stream",
          "text": [
            "accuracy\n",
            "\ttraining         \t (min:    0.683, max:    1.000, cur:    1.000)\n",
            "\tvalidation       \t (min:    0.826, max:    0.997, cur:    0.997)\n",
            "log loss\n",
            "\ttraining         \t (min:    0.001, max:    0.816, cur:    0.001)\n",
            "\tvalidation       \t (min:    0.007, max:    0.471, cur:    0.009)\n",
            "Accuracy: 0.9967 (valid), 0.9998 (train)\n"
          ],
          "name": "stdout"
        }
      ]
    },
    {
      "cell_type": "code",
      "metadata": {
        "id": "8xZBtnOua2ME",
        "colab": {
          "base_uri": "https://localhost:8080/"
        },
        "outputId": "85fcce23-862d-4192-e10f-b7519a88ff2c"
      },
      "source": [
        "# 予測の実行\n",
        "test_loss, test_accuracy = calculate_model(cnn, loss_fn,   _, test_loader, device_GPU, mode='evaluate')\n",
        "# print(test_loss)\n",
        "print(\"テストデータの予測正解率 : \", test_accuracy)"
      ],
      "execution_count": 27,
      "outputs": [
        {
          "output_type": "stream",
          "text": [
            "テストデータの予測正解率 :  0.9746707193515705\n"
          ],
          "name": "stdout"
        }
      ]
    },
    {
      "cell_type": "markdown",
      "metadata": {
        "id": "Hak6qzOBdyNG"
      },
      "source": [
        "　以上より，CNNでは **95.47 %**で 予測可能であることが分かりました．"
      ]
    },
    {
      "cell_type": "markdown",
      "metadata": {
        "id": "q2tdCX4p_T--"
      },
      "source": [
        "### 3.4 | RNNによる予測\n",
        "\n",
        "\n",
        "　RNNはネットワークにループを作成することで，時系列データに対する逐次的な予測や，可変長データに対する単一予測を行う際に利用可能な手法です．今回は，IMUの時系列データを扱っているため，RNNを適用するメリットがあると考えられます．  "
      ]
    },
    {
      "cell_type": "code",
      "metadata": {
        "id": "VdwfSFTzM9K-",
        "colab": {
          "base_uri": "https://localhost:8080/"
        },
        "outputId": "74863ab8-80a1-4949-d9f0-7fbe86d5ec06"
      },
      "source": [
        "size_sections = 50   # セクションサイズ\n",
        "size_slide = 10      # スライドサイズ\n",
        "\n",
        "# 時系列データをセクション分割\n",
        "print(\"分割後のセクション形状: (\",num_features+num_gen_labels,\"x\",size_sections,\")\")\n",
        "_X_train, _y_train, train_mean, train_std = time_series_to_section( train_data.copy(),\n",
        "                                                                  num_act_labels,\n",
        "                                                                  num_gen_labels,\n",
        "                                                                  size_sections,\n",
        "                                                                  size_slide,\n",
        "                                                                  standardize = True )\n",
        "\n",
        "_X_test, _y_test, test_mean, test_std = time_series_to_section( test_data.copy(),\n",
        "                                                              num_act_labels,\n",
        "                                                              num_gen_labels,\n",
        "                                                              size_sections,\n",
        "                                                              size_slide,\n",
        "                                                              standardize = True,\n",
        "                                                              mean = train_mean, \n",
        "                                                              std = train_std  )\n",
        "\n",
        "y_train = np.delete(_y_train, np.where(_y_train==0))\n",
        "X_train = np.delete(_X_train, np.where(_y_train==0), axis=0)\n",
        "y_test = np.delete(_y_test, np.where(_y_test==0))\n",
        "X_test = np.delete(_X_test, np.where(_y_test==0), axis=0)\n",
        "\n",
        "print(\"トレーニングデータ形状:\", X_train.shape)\n",
        "print(\"テストデータ形状:\", X_test.shape)"
      ],
      "execution_count": 28,
      "outputs": [
        {
          "output_type": "stream",
          "text": [
            "分割後のセクション形状: ( 13 x 50 )\n",
            "平均: 0.0035300797597241063 , 分散: 0.749962379300086 ---> 標準化しました．\n",
            "トレーニングデータの平均と分散を用いてテストデータを標準化しました．\n",
            "トレーニングデータ形状: (20918, 13, 50)\n",
            "テストデータ形状: (5922, 13, 50)\n"
          ],
          "name": "stdout"
        }
      ]
    },
    {
      "cell_type": "code",
      "metadata": {
        "id": "KW_4RLtmTRZN",
        "colab": {
          "base_uri": "https://localhost:8080/"
        },
        "outputId": "c69dd21b-11b2-46e1-b267-67aa19f0a4ba"
      },
      "source": [
        "# 通常のNNは2次元形式で与えられても処理できないため，28x28の要素がある1次元配列に変換してからPyTorch形式に変換する\n",
        "X_train_flatten = X_train.reshape(X_train.shape[0], 1, X_train.shape[1]*X_train.shape[2]) # 17000件の2次元データ（12×50）を17000件の1次元データ(600)に変換\n",
        "X_test_flatten  = X_test.reshape(X_test.shape[0], 1, X_test.shape[1]*X_test.shape[2]) \n",
        "X_train_torch = torch.tensor(X_train_flatten, dtype=torch.float) # dtype=torch.floatを忘れずに\n",
        "X_test_torch  = torch.tensor(X_test_flatten,  dtype=torch.float) \n",
        "\n",
        "\n",
        "# yについてもPyTorch形式に変換する\n",
        "y_train_torch = torch.tensor(y_train, dtype=torch.long) # dtype=torch.longを忘れずに\n",
        "y_test_torch  = torch.tensor(y_test,  dtype=torch.long)\n",
        "\n",
        "# datasetとdataloaderを用意\n",
        "# XとYの組み合わせを保持してくれる便利なモノ\n",
        "train_dataset = torch.utils.data.TensorDataset(X_train_torch, y_train_torch)\n",
        "test_dataset  = torch.utils.data.TensorDataset(X_test_torch,  y_test_torch)\n",
        "\n",
        "# XとYの組み合わせを(batch_size)個ずつ出力する便利なモノ\n",
        "batch_size = 1 \n",
        "train_loader = torch.utils.data.DataLoader(train_dataset, batch_size=batch_size, shuffle=True)\n",
        "test_loader  = torch.utils.data.DataLoader(test_dataset,  batch_size=batch_size, shuffle=True)\n",
        "\n",
        "for X, y in train_loader:\n",
        "  print(X.shape)\n",
        "  print(y.shape)\n",
        "  # print(X)\n",
        "  # print(y)\n",
        "  break"
      ],
      "execution_count": 29,
      "outputs": [
        {
          "output_type": "stream",
          "text": [
            "torch.Size([1, 1, 650])\n",
            "torch.Size([1])\n"
          ],
          "name": "stdout"
        }
      ]
    },
    {
      "cell_type": "markdown",
      "metadata": {
        "id": "DaF4LPv4c550"
      },
      "source": [
        "　時系列データに対して1つの出力を得るために，RNNの最後の出力のみを取り出して利用するモデルを構築しましょう．"
      ]
    },
    {
      "cell_type": "code",
      "metadata": {
        "id": "dHqn4icq_ghp"
      },
      "source": [
        "import torch\n",
        "\n",
        "# 最後の出力だけを次の層に渡すRNN\n",
        "class lastoutputRNN(torch.nn.Module):\n",
        "  def __init__(self, input_size, output_size):\n",
        "    super(lastoutputRNN, self).__init__() # 初期化のおまじない\n",
        "    \n",
        "    # 学習すべき重みがあるものをここに全て定義\n",
        "    self.rnn = torch.nn.RNN(input_size, output_size, num_layers=1, batch_first=True)\n",
        "  \n",
        "  # 予測時の計算を定義\n",
        "  def forward(self, input):\n",
        "    outs_rnn, hiddens = self.rnn(input, self.initHidden()) # ひとまず複数の 出力 h を全て受け取る\n",
        "    last_out_rnn = outs_rnn[-1] # 最後の出力 h_r を抜き出す\n",
        "    return last_out_rnn # 次の層に渡す\n",
        "\n",
        "  # RNNの隠れ層の初期値を準備する補助関数\n",
        "  def initHidden(self):\n",
        "    return torch.zeros(1, 1, self.rnn.hidden_size)"
      ],
      "execution_count": 30,
      "outputs": []
    },
    {
      "cell_type": "markdown",
      "metadata": {
        "id": "ycm4wOkMZo65"
      },
      "source": [
        "では作成したモデルをしようして学習します．  \n",
        "【注意】この学習は3分程度かかります．"
      ]
    },
    {
      "cell_type": "code",
      "metadata": {
        "id": "IDW0dQ0n_zAR",
        "colab": {
          "base_uri": "https://localhost:8080/",
          "height": 627
        },
        "outputId": "8b7000af-14e8-4632-869d-9bc6d79b733f"
      },
      "source": [
        "import json\n",
        "import random\n",
        "from livelossplot import PlotLosses # livelossplotのインストールを忘れずに（AI7.1.4参照）\n",
        "import numpy as np\n",
        "\n",
        "torch.manual_seed(0) # 実行結果を再現させる\n",
        "np.random.seed(0)    # data_shuffle()のためにNumPyの乱数も指定する\n",
        "\n",
        "###### Sequentialによるモデルの作成\n",
        "# 入力：文字列のone-hot表現\n",
        "# 出力：入力の文字列が「どの言語らしいか」を示す値（各言語ごとに実数値を出力）\n",
        "model = torch.nn.Sequential(\n",
        "  lastoutputRNN(650, 128), \n",
        "  torch.nn.Linear(128, 6)\n",
        ")\n",
        "\n",
        "###### 誤差関数と最適化手法の定義\n",
        "loss_fn = torch.nn.CrossEntropyLoss()\n",
        "optimizer = torch.optim.SGD(model.parameters(), lr=0.01)\n",
        "\n",
        "###### 学習本体\n",
        "liveloss = PlotLosses() # 描画の準備\n",
        "\n",
        "import time\n",
        "start = time.time() # 計算開始時刻\n",
        "\n",
        "for epoch in range(6):  # 6 epoch 学習する\n",
        "  total_train_loss = 0.0\n",
        "  num_train_correct = 0\n",
        "  # X, y = data_shuffle(X_train, y_train)\n",
        "\n",
        "  for Xi_torch, yi_torch in train_loader:\n",
        "    yi_torch -= 1\n",
        "    y_pred = model(Xi_torch)    # 予測の実施\n",
        "    _, predicted = torch.max(y_pred.data, 1)\n",
        "    num_train_correct += (predicted == yi_torch).sum().item()\n",
        "    \n",
        "    # 予測の誤差を計算（交差エントロピー誤差）\n",
        "    # print(Xi_torch)\n",
        "    # print(y_pred)\n",
        "    # print(yi_torch)\n",
        "    loss = loss_fn(y_pred, yi_torch)\n",
        "    total_train_loss += loss.item()\n",
        "    \n",
        "    # 誤差逆伝播法による重みの更新\n",
        "    optimizer.zero_grad()\n",
        "    loss.backward()\n",
        "    optimizer.step()\n",
        "\n",
        "  # このepoch全体での予測精度 (accuracy) を計算\n",
        "  train_accuracy = num_train_correct / len(y_train)\n",
        "\n",
        "  # livelossplotの描画\n",
        "  liveloss.update({\n",
        "   'log loss': total_train_loss,\n",
        "    'accuracy': train_accuracy,\n",
        "  })\n",
        "  liveloss.draw()\n",
        "\n",
        "end = time.time() # 計算終了時刻\n",
        "print(\"計算時間 : \", end - start) # 差を秒単位で計算\n",
        "    \n",
        "# 最後のepochにおける訓練データの予測精度を出力\n",
        "print('Accuracy: {:.4f} (train)'.format(train_accuracy))"
      ],
      "execution_count": 31,
      "outputs": [
        {
          "output_type": "display_data",
          "data": {
            "image/png": "[encoded data removed]",
            "text/plain": [
              "<Figure size 864x576 with 2 Axes>"
            ]
          },
          "metadata": {
            "tags": [],
            "needs_background": "light"
          }
        },
        {
          "output_type": "stream",
          "text": [
            "accuracy\n",
            "\taccuracy         \t (min:    0.853, max:    1.000, cur:    1.000)\n",
            "log loss\n",
            "\tlog loss         \t (min:  109.182, max: 9509.844, cur:  109.182)\n",
            "計算時間 :  159.62795734405518\n",
            "Accuracy: 0.9998 (train)\n"
          ],
          "name": "stdout"
        }
      ]
    },
    {
      "cell_type": "code",
      "metadata": {
        "id": "I2PBTw758rTo",
        "colab": {
          "base_uri": "https://localhost:8080/"
        },
        "outputId": "941f898a-2f2c-4997-f4b9-9da8e0cb879e"
      },
      "source": [
        "# テストデータの予測正解率を算出\n",
        "num_test_correct = 0\n",
        "for X, y in test_loader:\n",
        "  y-=1\n",
        "  pred = model(X)                                 # 予測の実施\n",
        "  _, predicted = torch.max(pred.data, 1)                # 最も確率の高かったクラスを求める\n",
        "  if predicted == y:\n",
        "    num_test_correct += 1\n",
        "\n",
        "test_accuracy = num_test_correct / len(y_test)\n",
        "print(test_accuracy)"
      ],
      "execution_count": 32,
      "outputs": [
        {
          "output_type": "stream",
          "text": [
            "0.9096588990206012\n"
          ],
          "name": "stdout"
        }
      ]
    },
    {
      "cell_type": "markdown",
      "metadata": {
        "id": "2vl5p0GAdVk0"
      },
      "source": [
        "　以上より，RNNでは **91.13 %**で 予測可能であることが分かりました．"
      ]
    },
    {
      "cell_type": "markdown",
      "metadata": {
        "id": "9XieKVL2HMM-"
      },
      "source": [
        "## 4 | データサイエンティスト的?な予測\n",
        "\n",
        "\n",
        "---\n",
        "\n",
        "　\n",
        "\n"
      ]
    },
    {
      "cell_type": "markdown",
      "metadata": {
        "id": "MjwvlKg2WIBs"
      },
      "source": [
        "### 4.1 | PCAによる次元圧縮"
      ]
    },
    {
      "cell_type": "markdown",
      "metadata": {
        "id": "0ChmWiSvY38g"
      },
      "source": [
        "今回のIMUデータに限らず，生データは冗長(無駄に複雑)である可能性が高いです．そこで，データの中から主成分を指定数だけ抽出するのがPCA(主成分分析)です．今回は2成分抜き取ります．"
      ]
    },
    {
      "cell_type": "code",
      "metadata": {
        "id": "LlsGoSrhL3E9"
      },
      "source": [
        "# PCAによる次元圧縮\n",
        "from sklearn.decomposition import PCA\n",
        "\n",
        "# 2次元データを1次元データに変換\n",
        "X_train_flatten = X_train.reshape(X_train.shape[0], X_train.shape[1]*X_train.shape[2]) \n",
        "X_test_flatten  = X_test.reshape(X_test.shape[0], X_test.shape[1]*X_test.shape[2]) \n",
        "\n",
        "pca = PCA(n_components=2, random_state=0)   # 2次元に圧縮\n",
        "pca.fit(X_train_flatten)                    # 主成分の取得\n",
        "Xpca_train = pca.transform(X_train_flatten) # PCAによる次元圧縮\n",
        "Xpca_test = pca.transform(X_test_flatten)"
      ],
      "execution_count": 33,
      "outputs": []
    },
    {
      "cell_type": "markdown",
      "metadata": {
        "id": "QTZPeFB7W2PK"
      },
      "source": [
        "### 4.2 | 決定木による予測"
      ]
    },
    {
      "cell_type": "code",
      "metadata": {
        "id": "e1nIhw7e44nh",
        "colab": {
          "base_uri": "https://localhost:8080/"
        },
        "outputId": "a9dcacd8-50d4-4927-c025-e334767e98ba"
      },
      "source": [
        "# 決定木による予測\n",
        "from sklearn.tree import DecisionTreeClassifier\n",
        "\n",
        "model_simple = DecisionTreeClassifier(max_depth=5, random_state=0)\n",
        "model_simple.fit(Xpca_train, y_train)\n",
        "\n",
        "pred_y_test = model_simple.predict(Xpca_test)\n",
        "prediction_result = (pred_y_test == y_test)\n",
        "accuracy = np.mean(prediction_result)\n",
        "print(\"テストデータの予測正解率 : \", accuracy)"
      ],
      "execution_count": 34,
      "outputs": [
        {
          "output_type": "stream",
          "text": [
            "テストデータの予測正解率 :  0.6222559945964201\n"
          ],
          "name": "stdout"
        }
      ]
    },
    {
      "cell_type": "markdown",
      "metadata": {
        "id": "3HcUZ0YgW7S0"
      },
      "source": [
        "### 4.3 | ブースティング(Adaboost)による予測"
      ]
    },
    {
      "cell_type": "code",
      "metadata": {
        "id": "OWCFTTSNIbDy",
        "colab": {
          "base_uri": "https://localhost:8080/"
        },
        "outputId": "dae43a3d-5fbe-43c3-ca0b-d6999855df4a"
      },
      "source": [
        "# Adaboostによる予測  (注意 : 40秒程度かかります)\n",
        "from sklearn import tree, metrics, ensemble\n",
        "import time\n",
        "start = time.time() # 計算開始時刻\n",
        "\n",
        "single_tree = tree.DecisionTreeClassifier(max_depth=6, random_state=0) \n",
        "adaDT = ensemble.AdaBoostClassifier(base_estimator=single_tree, n_estimators=1000, random_state=0)\n",
        "adaDT.fit(Xpca_train, y_train)\n",
        "pred_y_test = adaDT.predict(Xpca_test)\n",
        "\n",
        "print(\"テストデータの予測正解率 : \", metrics.accuracy_score(pred_y_test, y_test)) # test accuracy\n",
        "\n",
        "end = time.time() # 計算終了時刻\n",
        "print(\"計算時間 : \", end - start) # 差を秒単位で計算"
      ],
      "execution_count": 35,
      "outputs": [
        {
          "output_type": "stream",
          "text": [
            "テストデータの予測正解率 :  0.4302600472813239\n",
            "計算時間 :  40.69797444343567\n"
          ],
          "name": "stdout"
        }
      ]
    },
    {
      "cell_type": "markdown",
      "metadata": {
        "id": "CUcEaQB_XRun"
      },
      "source": [
        "### 4.4 | ランダムフォレストによる予測"
      ]
    },
    {
      "cell_type": "code",
      "metadata": {
        "id": "xInGhEatNq-s",
        "colab": {
          "base_uri": "https://localhost:8080/"
        },
        "outputId": "5c2e0213-c745-4616-fa20-eab424d1842e"
      },
      "source": [
        "# ランダムフォレストによる予測\n",
        "from sklearn import tree, metrics, ensemble\n",
        "\n",
        "RF = ensemble.RandomForestClassifier(max_depth=7, min_samples_leaf=4 ,n_estimators=1000, random_state=0, n_jobs=-1)\n",
        "RF.fit(Xpca_train, y_train) \n",
        "pred_y_test = RF.predict(Xpca_test)\n",
        "\n",
        "print(\"テストデータの予測正解率 : \", metrics.accuracy_score(pred_y_test, y_test)) # test accuracy"
      ],
      "execution_count": 36,
      "outputs": [
        {
          "output_type": "stream",
          "text": [
            "テストデータの予測正解率 :  0.6317122593718338\n"
          ],
          "name": "stdout"
        }
      ]
    },
    {
      "cell_type": "markdown",
      "metadata": {
        "id": "LHZm_shnsp6Y"
      },
      "source": [
        "### 4.5 | 交差検証法によるランダムフォレストのハイパーパラメータ探索\n",
        "\n",
        "　4.4節では，`max_depth`を7，`min_samples_leaf`を4としたランダムフォレストを適用し，**66.67%**で予測できました．ここで，クロスバリデーションを用いてランダムフォレストについてハイパーパラメータ探索を行い，予測正解率の向上を図ります．   \n",
        "【注意】以下のハイパーパラメータ探索はは3～4分かかります．"
      ]
    },
    {
      "cell_type": "code",
      "metadata": {
        "id": "GpSGKCMQQYry",
        "colab": {
          "base_uri": "https://localhost:8080/"
        },
        "outputId": "02f01703-c79b-411d-8e7c-f021ce638f90"
      },
      "source": [
        "# クロスバリデーションからmax_depthとmin_samples_leafの最適な値を求める\n",
        "from sklearn.model_selection import GridSearchCV\n",
        "\n",
        "np.random.seed(0)\n",
        "\n",
        "# 辞書型が1つ入った配列\n",
        "param_grid = [  \n",
        "  { \n",
        "    \"max_depth\": [4,5,6,7],\n",
        "    \"min_samples_leaf\": [2,3,4]\n",
        "  } \n",
        "] \n",
        "grid_search_dt = GridSearchCV(RF, param_grid, cv=4, verbose=2)   # 4-fold CVをしながら最適なモデルを決定する\n",
        "grid_search_dt.fit(Xpca_train, y_train)\n",
        "print(\"\\n\", \"最適ハイパーパラメータ : \", grid_search_dt.best_params_)\n",
        "# print(grid_search_dt.best_score_)\n"
      ],
      "execution_count": 37,
      "outputs": [
        {
          "output_type": "stream",
          "text": [
            "Fitting 4 folds for each of 12 candidates, totalling 48 fits\n",
            "[CV] max_depth=4, min_samples_leaf=2 .................................\n"
          ],
          "name": "stdout"
        },
        {
          "output_type": "stream",
          "text": [
            "[Parallel(n_jobs=1)]: Using backend SequentialBackend with 1 concurrent workers.\n"
          ],
          "name": "stderr"
        },
        {
          "output_type": "stream",
          "text": [
            "[CV] .................. max_depth=4, min_samples_leaf=2, total=   5.4s\n",
            "[CV] max_depth=4, min_samples_leaf=2 .................................\n"
          ],
          "name": "stdout"
        },
        {
          "output_type": "stream",
          "text": [
            "[Parallel(n_jobs=1)]: Done   1 out of   1 | elapsed:    5.4s remaining:    0.0s\n"
          ],
          "name": "stderr"
        },
        {
          "output_type": "stream",
          "text": [
            "[CV] .................. max_depth=4, min_samples_leaf=2, total=   4.3s\n",
            "[CV] max_depth=4, min_samples_leaf=2 .................................\n",
            "[CV] .................. max_depth=4, min_samples_leaf=2, total=   4.3s\n",
            "[CV] max_depth=4, min_samples_leaf=2 .................................\n",
            "[CV] .................. max_depth=4, min_samples_leaf=2, total=   4.3s\n",
            "[CV] max_depth=4, min_samples_leaf=3 .................................\n",
            "[CV] .................. max_depth=4, min_samples_leaf=3, total=   4.1s\n",
            "[CV] max_depth=4, min_samples_leaf=3 .................................\n",
            "[CV] .................. max_depth=4, min_samples_leaf=3, total=   4.2s\n",
            "[CV] max_depth=4, min_samples_leaf=3 .................................\n",
            "[CV] .................. max_depth=4, min_samples_leaf=3, total=   4.3s\n",
            "[CV] max_depth=4, min_samples_leaf=3 .................................\n",
            "[CV] .................. max_depth=4, min_samples_leaf=3, total=   4.2s\n",
            "[CV] max_depth=4, min_samples_leaf=4 .................................\n",
            "[CV] .................. max_depth=4, min_samples_leaf=4, total=   4.2s\n",
            "[CV] max_depth=4, min_samples_leaf=4 .................................\n",
            "[CV] .................. max_depth=4, min_samples_leaf=4, total=   4.2s\n",
            "[CV] max_depth=4, min_samples_leaf=4 .................................\n",
            "[CV] .................. max_depth=4, min_samples_leaf=4, total=   4.2s\n",
            "[CV] max_depth=4, min_samples_leaf=4 .................................\n",
            "[CV] .................. max_depth=4, min_samples_leaf=4, total=   4.3s\n",
            "[CV] max_depth=5, min_samples_leaf=2 .................................\n",
            "[CV] .................. max_depth=5, min_samples_leaf=2, total=   4.7s\n",
            "[CV] max_depth=5, min_samples_leaf=2 .................................\n",
            "[CV] .................. max_depth=5, min_samples_leaf=2, total=   4.8s\n",
            "[CV] max_depth=5, min_samples_leaf=2 .................................\n",
            "[CV] .................. max_depth=5, min_samples_leaf=2, total=   4.9s\n",
            "[CV] max_depth=5, min_samples_leaf=2 .................................\n",
            "[CV] .................. max_depth=5, min_samples_leaf=2, total=   4.7s\n",
            "[CV] max_depth=5, min_samples_leaf=3 .................................\n",
            "[CV] .................. max_depth=5, min_samples_leaf=3, total=   4.7s\n",
            "[CV] max_depth=5, min_samples_leaf=3 .................................\n",
            "[CV] .................. max_depth=5, min_samples_leaf=3, total=   4.8s\n",
            "[CV] max_depth=5, min_samples_leaf=3 .................................\n",
            "[CV] .................. max_depth=5, min_samples_leaf=3, total=   4.8s\n",
            "[CV] max_depth=5, min_samples_leaf=3 .................................\n",
            "[CV] .................. max_depth=5, min_samples_leaf=3, total=   4.7s\n",
            "[CV] max_depth=5, min_samples_leaf=4 .................................\n",
            "[CV] .................. max_depth=5, min_samples_leaf=4, total=   4.8s\n",
            "[CV] max_depth=5, min_samples_leaf=4 .................................\n",
            "[CV] .................. max_depth=5, min_samples_leaf=4, total=   4.8s\n",
            "[CV] max_depth=5, min_samples_leaf=4 .................................\n",
            "[CV] .................. max_depth=5, min_samples_leaf=4, total=   4.8s\n",
            "[CV] max_depth=5, min_samples_leaf=4 .................................\n",
            "[CV] .................. max_depth=5, min_samples_leaf=4, total=   4.8s\n",
            "[CV] max_depth=6, min_samples_leaf=2 .................................\n",
            "[CV] .................. max_depth=6, min_samples_leaf=2, total=   5.2s\n",
            "[CV] max_depth=6, min_samples_leaf=2 .................................\n",
            "[CV] .................. max_depth=6, min_samples_leaf=2, total=   5.3s\n",
            "[CV] max_depth=6, min_samples_leaf=2 .................................\n",
            "[CV] .................. max_depth=6, min_samples_leaf=2, total=   5.3s\n",
            "[CV] max_depth=6, min_samples_leaf=2 .................................\n",
            "[CV] .................. max_depth=6, min_samples_leaf=2, total=   5.3s\n",
            "[CV] max_depth=6, min_samples_leaf=3 .................................\n",
            "[CV] .................. max_depth=6, min_samples_leaf=3, total=   5.2s\n",
            "[CV] max_depth=6, min_samples_leaf=3 .................................\n",
            "[CV] .................. max_depth=6, min_samples_leaf=3, total=   5.2s\n",
            "[CV] max_depth=6, min_samples_leaf=3 .................................\n",
            "[CV] .................. max_depth=6, min_samples_leaf=3, total=   5.2s\n",
            "[CV] max_depth=6, min_samples_leaf=3 .................................\n",
            "[CV] .................. max_depth=6, min_samples_leaf=3, total=   5.3s\n",
            "[CV] max_depth=6, min_samples_leaf=4 .................................\n",
            "[CV] .................. max_depth=6, min_samples_leaf=4, total=   5.2s\n",
            "[CV] max_depth=6, min_samples_leaf=4 .................................\n",
            "[CV] .................. max_depth=6, min_samples_leaf=4, total=   5.2s\n",
            "[CV] max_depth=6, min_samples_leaf=4 .................................\n",
            "[CV] .................. max_depth=6, min_samples_leaf=4, total=   5.2s\n",
            "[CV] max_depth=6, min_samples_leaf=4 .................................\n",
            "[CV] .................. max_depth=6, min_samples_leaf=4, total=   5.2s\n",
            "[CV] max_depth=7, min_samples_leaf=2 .................................\n",
            "[CV] .................. max_depth=7, min_samples_leaf=2, total=   5.8s\n",
            "[CV] max_depth=7, min_samples_leaf=2 .................................\n",
            "[CV] .................. max_depth=7, min_samples_leaf=2, total=   5.7s\n",
            "[CV] max_depth=7, min_samples_leaf=2 .................................\n",
            "[CV] .................. max_depth=7, min_samples_leaf=2, total=   5.7s\n",
            "[CV] max_depth=7, min_samples_leaf=2 .................................\n",
            "[CV] .................. max_depth=7, min_samples_leaf=2, total=   5.7s\n",
            "[CV] max_depth=7, min_samples_leaf=3 .................................\n",
            "[CV] .................. max_depth=7, min_samples_leaf=3, total=   5.8s\n",
            "[CV] max_depth=7, min_samples_leaf=3 .................................\n",
            "[CV] .................. max_depth=7, min_samples_leaf=3, total=   5.7s\n",
            "[CV] max_depth=7, min_samples_leaf=3 .................................\n",
            "[CV] .................. max_depth=7, min_samples_leaf=3, total=   5.7s\n",
            "[CV] max_depth=7, min_samples_leaf=3 .................................\n",
            "[CV] .................. max_depth=7, min_samples_leaf=3, total=   5.7s\n",
            "[CV] max_depth=7, min_samples_leaf=4 .................................\n",
            "[CV] .................. max_depth=7, min_samples_leaf=4, total=   5.7s\n",
            "[CV] max_depth=7, min_samples_leaf=4 .................................\n",
            "[CV] .................. max_depth=7, min_samples_leaf=4, total=   5.7s\n",
            "[CV] max_depth=7, min_samples_leaf=4 .................................\n",
            "[CV] .................. max_depth=7, min_samples_leaf=4, total=   5.7s\n",
            "[CV] max_depth=7, min_samples_leaf=4 .................................\n",
            "[CV] .................. max_depth=7, min_samples_leaf=4, total=   5.7s\n"
          ],
          "name": "stdout"
        },
        {
          "output_type": "stream",
          "text": [
            "[Parallel(n_jobs=1)]: Done  48 out of  48 | elapsed:  4.0min finished\n"
          ],
          "name": "stderr"
        },
        {
          "output_type": "stream",
          "text": [
            "\n",
            " 最適ハイパーパラメータ :  {'max_depth': 5, 'min_samples_leaf': 3}\n"
          ],
          "name": "stdout"
        }
      ]
    },
    {
      "cell_type": "markdown",
      "metadata": {
        "id": "gfKwyRjX4A0G"
      },
      "source": [
        "　クロスバリデーションによるハイパーパラメータ探索に基づき，`max_depth`を5，`min_samples_leaf`を3としてランダムフォレストを適用すると，先程よりもモデルの汎化性能が上がり，予測正解率が**66.67 %**→**67.42 %**と少し高くなりました．"
      ]
    },
    {
      "cell_type": "code",
      "metadata": {
        "id": "sRDRapWGkAwp",
        "colab": {
          "base_uri": "https://localhost:8080/"
        },
        "outputId": "415b0091-535d-41f2-af9d-73fe9dfddc21"
      },
      "source": [
        "RF = ensemble.RandomForestClassifier(max_depth=5, min_samples_leaf=3, n_estimators=1000, random_state=0, n_jobs=-1)\n",
        "RF.fit(Xpca_train, y_train)            # フィッティング\n",
        "pred_y_test = RF.predict(Xpca_test)    # 予測\n",
        "print(\"テストデータの予測正解率 : \", metrics.accuracy_score(pred_y_test, y_test)) # test accuracy"
      ],
      "execution_count": 38,
      "outputs": [
        {
          "output_type": "stream",
          "text": [
            "テストデータの予測正解率 :  0.6411685241472476\n"
          ],
          "name": "stdout"
        }
      ]
    },
    {
      "cell_type": "markdown",
      "metadata": {
        "id": "ECYQVaK8ozpl"
      },
      "source": [
        "### 4.6 | 考察\n",
        "\n",
        "\n",
        "　以上より，ランダムフォレストを用いることで，人間の行動が**67.42%**で予測できることが分かりました．  \n",
        "　ここで，予測に失敗したデータについて考察します．まず，正解したサンプル数と不正解したサンプル数を，行動ラベルごとに分けて描画することで，どの行動の認識が難しいのかを確認します．"
      ]
    },
    {
      "cell_type": "code",
      "metadata": {
        "id": "HDj_ibCkg2oH",
        "colab": {
          "base_uri": "https://localhost:8080/",
          "height": 346
        },
        "outputId": "32aa7713-b8c0-4e18-e290-8fb3c9180b0a"
      },
      "source": [
        "# 各ラベルについて正解/不正解のサンプル数を描画\n",
        "result_bool = (pred_y_test == y_test)   # 予測が正解なら1, 間違いなら0\n",
        "\n",
        "true_result = result_bool * y_test\n",
        "false_result = np.logical_not(result_bool) * y_test\n",
        "\n",
        "def count_label(list, label):\n",
        "  return np.count_nonzero(list==label)\n",
        "\n",
        "plt.rcParams['figure.figsize'] = (14.0, 5.0)\n",
        "left = np.array([1, 2, 3, 4, 5, 6])\n",
        "tick_label = [\"dws\", \"ups\", \"wlk\", \"jog\", \"sit\", \"std\"]\n",
        "\n",
        "# 各ラベルにおける正解したサンプル数の描画\n",
        "counts = [count_label(true_result, i) for i in range(1,7)]\n",
        "print(\"各ラベルの正解数\", counts)     # {\"dws\":1, \"ups\":2, \"wlk\":3, \"jog\":4, \"sit\":5, \"std\":6}\n",
        "plt.subplot(1, 2, 1)\n",
        "plt.bar(left, counts, tick_label=tick_label, align=\"center\")\n",
        "plt.title(\"Number of correctly answered samples\")\n",
        "\n",
        "# 各ラベルにおける不正解したサンプル数の描画\n",
        "counts = [count_label(false_result, i) for i in range(1,7)]\n",
        "print(\"各ラベルの不正解数\", counts)     # {\"dws\":1, \"ups\":2, \"wlk\":3, \"jog\":4, \"sit\":5, \"std\":6}\n",
        "plt.subplot(1, 2, 2)\n",
        "plt.bar(left, counts, tick_label=tick_label, align=\"center\")\n",
        "plt.title(\"Number of incorrectly answered samples\")\n",
        "\n",
        "plt.show()\n"
      ],
      "execution_count": 39,
      "outputs": [
        {
          "output_type": "stream",
          "text": [
            "各ラベルの正解数 [1, 4, 997, 0, 1917, 878]\n",
            "各ラベルの不正解数 [333, 435, 194, 477, 47, 639]\n"
          ],
          "name": "stdout"
        },
        {
          "output_type": "display_data",
          "data": {
            "image/png": "[encoded data removed]",
            "text/plain": [
              "<Figure size 1008x360 with 2 Axes>"
            ]
          },
          "metadata": {
            "tags": [],
            "needs_background": "light"
          }
        }
      ]
    },
    {
      "cell_type": "markdown",
      "metadata": {
        "id": "9F4DTdm6YqTL"
      },
      "source": [
        "　上のグラフより，歩いている時および座っている時に比べ，他の動作の予測精度が悪いことが見て取れます．しかし，それ以前に階段の上り下りおよびジョギング動作においてほとんど正解していないことが気になりますね．そこで，不正解だった行動ラベルにおいて，どの動作と間違えて予測してしまったのか描画して確認します．"
      ]
    },
    {
      "cell_type": "code",
      "metadata": {
        "id": "kwUOdRcybWU4",
        "colab": {
          "base_uri": "https://localhost:8080/",
          "height": 459
        },
        "outputId": "a1503de9-5320-46d7-dabd-737652b54cd6"
      },
      "source": [
        "# 各正解ラベルを間違えた際に選択したラベルの数を描画\n",
        "plt.rcParams['figure.figsize'] = (14.0, 8.0)\n",
        "act_labels = {\"dws\":1, \"ups\":2, \"wlk\":3, \"jog\":4, \"sit\":5, \"std\":6}\n",
        "\n",
        "for act_label in act_labels:\n",
        "  false_label = (false_result==act_labels[act_label]) * pred_y_test\n",
        "  counts = [count_label(false_label, i) for i in range(1,7)]\n",
        "  plt.subplot(2, 3, act_labels[act_label])\n",
        "  plt.title(\"Number of labels wrong in [\"+str(act_label)+\"] prediction\")\n",
        "  plt.bar(left, counts, tick_label=tick_label, align=\"center\")\n",
        "\n",
        "plt.show()"
      ],
      "execution_count": 40,
      "outputs": [
        {
          "output_type": "display_data",
          "data": {
            "image/png": "[encoded data removed]",
            "text/plain": [
              "<Figure size 1008x576 with 6 Axes>"
            ]
          },
          "metadata": {
            "tags": [],
            "needs_background": "light"
          }
        }
      ]
    },
    {
      "cell_type": "markdown",
      "metadata": {
        "id": "tLMSP5UyaJ2A"
      },
      "source": [
        "　明らかに歩行動作と誤予測したものが多いです．これは，学習データに問題がある気がしますね．学習データを確認するために，トレーニングデータのサンプル数をラベルごとに描画してみます．"
      ]
    },
    {
      "cell_type": "code",
      "metadata": {
        "id": "MeSzvq9b9a-9",
        "colab": {
          "base_uri": "https://localhost:8080/",
          "height": 370
        },
        "outputId": "10165df0-1d29-4bf8-d065-6bc85ca0fa4f"
      },
      "source": [
        "counts = [count_label(y_train, i) for i in range(1,7)]\n",
        "print(\"トレーニングデータのラベル別サンプル数\", counts)     # {\"dws\":1, \"ups\":2, \"wlk\":3, \"jog\":4, \"sit\":5, \"std\":6}\n",
        "plt.rcParams['figure.figsize'] = (7.0, 5.0)\n",
        "plt.bar(left, counts, tick_label=tick_label, align=\"center\")\n",
        "plt.title(\"Number of training data samples by label\")"
      ],
      "execution_count": 41,
      "outputs": [
        {
          "output_type": "stream",
          "text": [
            "トレーニングデータのラベル別サンプル数 [2068, 2466, 5463, 1969, 4574, 4378]\n"
          ],
          "name": "stdout"
        },
        {
          "output_type": "execute_result",
          "data": {
            "text/plain": [
              "Text(0.5, 1.0, 'Number of training data samples by label')"
            ]
          },
          "metadata": {
            "tags": []
          },
          "execution_count": 41
        },
        {
          "output_type": "display_data",
          "data": {
            "image/png": "[encoded data removed]",
            "text/plain": [
              "<Figure size 504x360 with 1 Axes>"
            ]
          },
          "metadata": {
            "tags": [],
            "needs_background": "light"
          }
        }
      ]
    },
    {
      "cell_type": "markdown",
      "metadata": {
        "id": "2tWBlLHzanqi"
      },
      "source": [
        "　たしかに，歩行動作のトレーニングデータのサンプル数が多いですね...これは単純に確認ミスです．各ラベルのサンプル数が等しくなるようにデータを用意し直しましょう．"
      ]
    },
    {
      "cell_type": "code",
      "metadata": {
        "id": "YINIywg8d9d1"
      },
      "source": [
        "# 時系列データをセクションに分割する関数\n",
        "def time_series_to_section(dataset, num_act_labels, num_gen_labels, size_sections, size_slide, standardize = False, **options):\n",
        "  data = dataset[: , 0:-num_act_labels]           # IMUデータ+性別ラベルを取得\n",
        "  act_labels_data = dataset[: , -(num_act_labels)]     # 行動ラベルを取得\n",
        " \n",
        "  # === 標準化 =============================\n",
        "  if standardize:\n",
        "    if options:             # 引数で平均･分散を指定した場合\n",
        "      mean = options.get(\"mean\")\n",
        "      std = options.get(\"std\")\n",
        "      print(\"トレーニングデータの平均と分散を用いてテストデータを標準化しました．\")\n",
        "    else:                   # 指定のない場合は標準化\n",
        "      mean = data.mean(axis=0)\n",
        "      std = data.std(axis=0)\n",
        "      print(\"平均:\",str(mean.mean()),\", 分散:\",str(std.mean()), \"---> 標準化しました．\")           \n",
        "    data = (data - mean) / std\n",
        "  else:\n",
        "    print(\"標準化していません．\")\n",
        "\n",
        "  # あとで3次元配列に格納するために，一旦転置しておく\n",
        "  data = data.T\n",
        "          \n",
        "  size_features = data.shape[0]\n",
        "  size_data = data.shape[1]\n",
        "  num_sections = 1 + ( (size_data - size_sections) // size_slide ) \n",
        "          \n",
        "  # 1セクションのデータ形状を定義\n",
        "  data_sections = np.zeros((num_sections, size_features, size_sections))\n",
        "  act_secs_labels = np.zeros(num_sections)\n",
        "\n",
        "  data_length = [0,0,0,0,0,0]\n",
        "   \n",
        "  for count_section in range(num_sections):   # 各セクションの第1要素のindex\n",
        "    section_first_index = count_section * size_slide     # セクションカウント\n",
        "    if(count_section >= num_sections):    # セクション数を超えたら終了     \n",
        "      break\n",
        "    if(data_length[int(act_labels_data[section_first_index])-1] > 3938):\n",
        "      continue\n",
        "    if act_labels_data[section_first_index] != act_labels_data[section_first_index+size_sections-1]:    # セクション内で行動ラベルが全て一緒でない時は無視\n",
        "      continue    \n",
        "    data_sections[count_section] = data[0:size_features, section_first_index:section_first_index+size_sections]   # セクションデータのcount_section要素目に代入\n",
        "    act_secs_labels[count_section] = act_labels_data[section_first_index].astype(int)\n",
        "    data_length[int(act_labels_data[section_first_index])-1] += 1\n",
        "  \n",
        "  return data_sections, act_secs_labels, mean, std"
      ],
      "execution_count": 42,
      "outputs": []
    },
    {
      "cell_type": "code",
      "metadata": {
        "id": "cd8O4iQUd9g2",
        "colab": {
          "base_uri": "https://localhost:8080/"
        },
        "outputId": "0e9d0567-344b-4da2-a9ad-3260084d477d"
      },
      "source": [
        "size_sections = 50   # セクションサイズ\n",
        "size_slide = 5      # スライドサイズ\n",
        "\n",
        "# 時系列データをセクション分割\n",
        "print(\"分割後のセクション形状: (\",num_features+num_gen_labels,\"x\",size_sections,\")\")\n",
        "X_train, y_train, train_mean, train_std = time_series_to_section( train_data.copy(),\n",
        "                                                                  num_act_labels,\n",
        "                                                                  num_gen_labels,\n",
        "                                                                  size_sections,\n",
        "                                                                  size_slide,\n",
        "                                                                  standardize = True )\n",
        "\n",
        "X_test, y_test, test_mean, test_std = time_series_to_section( test_data.copy(),\n",
        "                                                              num_act_labels,\n",
        "                                                              num_gen_labels,\n",
        "                                                              size_sections,\n",
        "                                                              size_slide,\n",
        "                                                              standardize = True,\n",
        "                                                              mean = train_mean, \n",
        "                                                              std = train_std  )\n",
        "print(\"トレーニングデータ形状:\", X_train.shape)\n",
        "print(\"テストデータ形状:\", X_test.shape)"
      ],
      "execution_count": 43,
      "outputs": [
        {
          "output_type": "stream",
          "text": [
            "分割後のセクション形状: ( 13 x 50 )\n",
            "平均: 0.0035300797597241063 , 分散: 0.749962379300086 ---> 標準化しました．\n",
            "トレーニングデータの平均と分散を用いてテストデータを標準化しました．\n",
            "トレーニングデータ形状: (43249, 13, 50)\n",
            "テストデータ形状: (13247, 13, 50)\n"
          ],
          "name": "stdout"
        }
      ]
    },
    {
      "cell_type": "code",
      "metadata": {
        "id": "NPAVP4qWd9nV",
        "colab": {
          "base_uri": "https://localhost:8080/",
          "height": 370
        },
        "outputId": "0dc25560-64d9-4f0f-b989-3c963bacdd58"
      },
      "source": [
        "counts = [count_label(y_train, i) for i in range(1,7)]\n",
        "print(\"トレーニングデータのラベル別サンプル数\", counts)     # {\"dws\":1, \"ups\":2, \"wlk\":3, \"jog\":4, \"sit\":5, \"std\":6}\n",
        "plt.rcParams['figure.figsize'] = (7.0, 5.0)\n",
        "plt.bar(left, counts, tick_label=tick_label, align=\"center\")\n",
        "plt.title(\"Number of training data samples by label\")"
      ],
      "execution_count": 44,
      "outputs": [
        {
          "output_type": "stream",
          "text": [
            "トレーニングデータのラベル別サンプル数 [3939, 3939, 3939, 3939, 3939, 3939]\n"
          ],
          "name": "stdout"
        },
        {
          "output_type": "execute_result",
          "data": {
            "text/plain": [
              "Text(0.5, 1.0, 'Number of training data samples by label')"
            ]
          },
          "metadata": {
            "tags": []
          },
          "execution_count": 44
        },
        {
          "output_type": "display_data",
          "data": {
            "image/png": "[encoded data removed]",
            "text/plain": [
              "<Figure size 504x360 with 1 Axes>"
            ]
          },
          "metadata": {
            "tags": [],
            "needs_background": "light"
          }
        }
      ]
    },
    {
      "cell_type": "markdown",
      "metadata": {
        "id": "zu2z-p1HbAdL"
      },
      "source": [
        "　これで，各ラベルについて同じサンプル数が確保されたトレーニングデータができました．では，PCAによる次元圧縮と＆ランダムフォレストによる予測を行います．"
      ]
    },
    {
      "cell_type": "code",
      "metadata": {
        "id": "hKrLfbCNd9pw"
      },
      "source": [
        "# PCAによる次元圧縮\n",
        "from sklearn.decomposition import PCA\n",
        "\n",
        "# 2次元データを1次元データに変換\n",
        "X_train_flatten = X_train.reshape(X_train.shape[0], X_train.shape[1]*X_train.shape[2]) \n",
        "X_test_flatten  = X_test.reshape(X_test.shape[0], X_test.shape[1]*X_test.shape[2]) \n",
        "\n",
        "pca = PCA(n_components=2, random_state=0)   # 2次元に圧縮\n",
        "pca.fit(X_train_flatten)                    # 主成分の取得\n",
        "Xpca_train = pca.transform(X_train_flatten) # PCAによる次元圧縮\n",
        "Xpca_test = pca.transform(X_test_flatten)"
      ],
      "execution_count": 45,
      "outputs": []
    },
    {
      "cell_type": "code",
      "metadata": {
        "id": "BhBq-EMvUrUS",
        "colab": {
          "base_uri": "https://localhost:8080/"
        },
        "outputId": "5a41cb5d-29ce-4cd2-8936-77d5432fb848"
      },
      "source": [
        "RF = ensemble.RandomForestClassifier(max_depth=5, min_samples_leaf=3, n_estimators=1000, random_state=0, n_jobs=-1)\n",
        "RF.fit(Xpca_train, y_train)            # フィッティング\n",
        "pred_y_test = RF.predict(Xpca_test)    # 予測\n",
        "print(\"テストデータの予測正解率 : \", metrics.accuracy_score(pred_y_test, y_test)) # test accuracy"
      ],
      "execution_count": 46,
      "outputs": [
        {
          "output_type": "stream",
          "text": [
            "テストデータの予測正解率 :  0.4794293047482449\n"
          ],
          "name": "stdout"
        }
      ]
    },
    {
      "cell_type": "code",
      "metadata": {
        "id": "in52R8l0VDvb",
        "colab": {
          "base_uri": "https://localhost:8080/",
          "height": 346
        },
        "outputId": "cc4b669c-a7da-4bec-85b3-d701a1f4444d"
      },
      "source": [
        "# 各ラベルについて正解/不正解のサンプル数を描画\n",
        "result_bool = (pred_y_test == y_test)   # 予測が正解なら1, 間違いなら0\n",
        "\n",
        "true_result = result_bool * y_test\n",
        "false_result = np.logical_not(result_bool) * y_test\n",
        "\n",
        "def count_label(list, label):\n",
        "  return np.count_nonzero(list==label)\n",
        "\n",
        "plt.rcParams['figure.figsize'] = (14.0, 5.0)\n",
        "left = np.array([1, 2, 3, 4, 5, 6])\n",
        "tick_label = [\"dws\", \"ups\", \"wlk\", \"jog\", \"sit\", \"std\"]\n",
        "\n",
        "# 各ラベルにおける正解したサンプル数の描画\n",
        "counts = [count_label(true_result, i) for i in range(1,7)]\n",
        "print(\"各ラベルの正解数\", counts)     # {\"dws\":1, \"ups\":2, \"wlk\":3, \"jog\":4, \"sit\":5, \"std\":6}\n",
        "plt.subplot(1, 2, 1)\n",
        "plt.bar(left, counts, tick_label=tick_label, align=\"center\")\n",
        "plt.title(\"Number of correctly answered samples\")\n",
        "\n",
        "# 各ラベルにおける不正解したサンプル数の描画\n",
        "counts = [count_label(false_result, i) for i in range(1,7)]\n",
        "print(\"各ラベルの不正解数\", counts)     # {\"dws\":1, \"ups\":2, \"wlk\":3, \"jog\":4, \"sit\":5, \"std\":6}\n",
        "plt.subplot(1, 2, 2)\n",
        "plt.bar(left, counts, tick_label=tick_label, align=\"center\")\n",
        "plt.title(\"Number of incorrectly answered samples\")\n",
        "\n",
        "plt.show()\n"
      ],
      "execution_count": 47,
      "outputs": [
        {
          "output_type": "stream",
          "text": [
            "各ラベルの正解数 [107, 120, 383, 463, 2617, 1254]\n",
            "各ラベルの不正解数 [560, 760, 1994, 496, 1309, 1777]\n"
          ],
          "name": "stdout"
        },
        {
          "output_type": "display_data",
          "data": {
            "image/png": "[encoded data removed]",
            "text/plain": [
              "<Figure size 1008x360 with 2 Axes>"
            ]
          },
          "metadata": {
            "tags": [],
            "needs_background": "light"
          }
        }
      ]
    },
    {
      "cell_type": "code",
      "metadata": {
        "id": "6K7MEMvpVDyd",
        "colab": {
          "base_uri": "https://localhost:8080/",
          "height": 459
        },
        "outputId": "b507fe37-ab1f-4509-9f1d-9c27904a5879"
      },
      "source": [
        "# 各正解ラベルを間違えた際に選択したラベルの数を描画\n",
        "plt.rcParams['figure.figsize'] = (14.0, 8.0)\n",
        "act_labels = {\"dws\":1, \"ups\":2, \"wlk\":3, \"jog\":4, \"sit\":5, \"std\":6}\n",
        "\n",
        "for act_label in act_labels:\n",
        "  false_label = (false_result==act_labels[act_label]) * pred_y_test\n",
        "  counts = [count_label(false_label, i) for i in range(1,7)]\n",
        "  plt.subplot(2, 3, act_labels[act_label])\n",
        "  plt.title(\"Number of labels wrong in [\"+str(act_label)+\"] prediction\")\n",
        "  plt.bar(left, counts, tick_label=tick_label, align=\"center\")\n",
        "\n",
        "plt.show()"
      ],
      "execution_count": 48,
      "outputs": [
        {
          "output_type": "display_data",
          "data": {
            "image/png": "[encoded data removed]",
            "text/plain": [
              "<Figure size 1008x576 with 6 Axes>"
            ]
          },
          "metadata": {
            "tags": [],
            "needs_background": "light"
          }
        }
      ]
    },
    {
      "cell_type": "markdown",
      "metadata": {
        "id": "imbWefsIVD1U"
      },
      "source": [
        "　むしろ予測正解率は下がってしまいましたが，不正解時に選択したラベルの偏りはなくなりました．予測正解率については，データセットを用意した際に1/5に削減したことが悪さをしているような感じがしました．"
      ]
    },
    {
      "cell_type": "markdown",
      "metadata": {
        "id": "41qSH5Z-ete0"
      },
      "source": [
        "## 5 | おわりに\n",
        "\n",
        "---"
      ]
    },
    {
      "cell_type": "markdown",
      "metadata": {
        "id": "lzAue8ZZUsxg"
      },
      "source": [
        "スマホのIMUデータからユーザの行動を認識出来るのは良いですね．  \n",
        "今回の予測タスクだけでなく色々なデータ分析に応用できるように色々な方法を使って実装しました．\n",
        "ただ，雑なところも多々ありますので参考程度にお願いします．\n"
      ]
    }
  ]
}